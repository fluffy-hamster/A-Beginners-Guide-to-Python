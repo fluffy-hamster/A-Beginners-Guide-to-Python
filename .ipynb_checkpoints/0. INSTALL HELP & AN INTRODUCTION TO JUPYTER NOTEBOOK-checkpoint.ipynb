{
 "cells": [
  {
   "attachments": {},
   "cell_type": "markdown",
   "metadata": {},
   "source": [
    "Hi guys, this lecture is about:\n",
    "\n",
    "1. Downloading the guide\n",
    "1. Installing Jupyter Notebook\n",
    "1. A quick overview of how to use the Notebook\n",
    "\n",
    "## Downloading the Guide\n",
    "\n",
    "If you have never used Github before that’s okay. Basically its just a website people use to share code. What you need to do is download the guide (which should be less than 10MB) from Github. You should find a big green button somewhere in the middle-right of the screen. The picture below should help you locate it. \n",
    "\n",
    "Talking of pictures, if you happen to be reading the main guide and an image fails to load you should be able to find it in the *graphics* folder.\n",
    "\n",
    "![download%20help.png](Graphics%20Folder%20for%20Install%20Lecture/download%20help.png)\n",
    "\n",
    "\n",
    "## Installing Juypter Notebook\n",
    "\n",
    "The official instructions for installing the notebook can be found here: http://jupyter.org/install.html \n",
    "\n",
    "This should take you through the process. If you know what 'PIP' is installing the Notebook can be as simple as typing (at the command line):\n",
    "\n",
    "    pip3 install jupyter \n",
    "\n",
    "I would go into more detail, but I run Linux as an operating system and so I can't really help windows users *(and if Linux users need more help than this they probably shouldn't be running Linux!)*\n",
    "\n",
    "## How to use the Notebook\n",
    "\n",
    "An official introduction to Juypter can be found here: https://jupyter.readthedocs.io/en/latest/running.html#running\n",
    "\n",
    "To get started, go to the command line and type:\n",
    "\n",
    "    jupyter notebook\n",
    "    \n",
    "This should start a session in your browser. Simply find the directory where you saved my guide and open up the lectures. And voilà! You are ready to rock and roll.\n",
    "\n",
    "## Editing Mode\n",
    "\n",
    "Now, Jupyter notebook has two basic modes, and 'editing' mode and a 'reading' mode. So, if you are in 'editing mode' right now you should see something like this:\n",
    "\n",
    "![Editing%20Mode.png](Graphics%20Folder%20for%20Install%20Lecture/Editing%20Mode.png)\n",
    "\n",
    "## Reading Mode\n",
    "\n",
    "Whereas, if you are currently in reading mode you should see something more like this:\n",
    "\n",
    "![Reading%20Mode.png](Graphics%20Folder%20for%20Install%20Lecture/Reading%20Mode.png)\n",
    "\n",
    "If you are currently in reading mode then you should be able to double-click on the 'cell' (the text box) and that should take you to editing mode. Conversely, if you are in editing mode and you want to read simply go to the top menu, click 'cell' and select 'run all'. Or alternately, you can just hit the play button which I've highlighted yellow in the picture below:\n",
    "\n",
    "![Run%20Button.png](Graphics%20Folder%20for%20Install%20Lecture/Run%20Button.png)\n",
    "\n",
    "## Code & Test Windows\n",
    "\n",
    "In addition to the Notebook having two basic modes (reading, editing), Notebook also has two types of cells; text cells that support markdown and are designed to display, yes you've guess it, text. Code cells meanwhile allow us to run Python code. \n",
    "\n",
    "Below this text cell I have a code cell, it has the simple sum 7 + 7 in it. If we run it, notice the number 14 is printed directly below the cell."
   ]
  },
  {
   "cell_type": "code",
   "execution_count": 2,
   "metadata": {},
   "outputs": [
    {
     "data": {
      "text/plain": [
       "14"
      ]
     },
     "execution_count": 2,
     "metadata": {},
     "output_type": "execute_result"
    }
   ],
   "source": [
    "7 + 7"
   ]
  },
  {
   "attachments": {
    "Running%20Code.png": {
     "image/png": "[encoded data removed]"
    }
   },
   "cell_type": "markdown",
   "metadata": {},
   "source": [
    "So, you should see something like this:\n",
    "\n",
    "![Running%20Code.png](attachment:Running%20Code.png)\n",
    "\n",
    "Okay cool, so now what I want you to do is go into editing mode (just click on the box) and delete the number 7 and type 3 instead. Now try running it. The number 10 should be seen directly below cell.\n",
    "\n",
    "Congratulations! You have just learnt how to add numbers together in Python! As you work through my guide I would highly recommend tinkering with the code I provide, by changing different pieces and checking what happens is a really nice way to learn the material. In my mind the ability to play with code on the fly makes this medium much better than something like an ebook or a 'pdf' file. \n",
    "\n",
    "## Homework Assignment\n",
    "\n",
    "For your homework, I want you to have a 'play' with the code cell below. Try different numbers and a few different symbols ( +-\\*/ ) and see what happens. We will learn what all this stuff does in the numbers lecture, but for now the main purpose of this exercise it getting you familiar with editing and running code within Jupyter notebook. "
   ]
  },
  {
   "cell_type": "code",
   "execution_count": null,
   "metadata": {
    "collapsed": true
   },
   "outputs": [],
   "source": []
  }
 ],
 "metadata": {
  "kernelspec": {
   "display_name": "Python 3",
   "language": "python",
   "name": "python3"
  },
  "language_info": {
   "codemirror_mode": {
    "name": "ipython",
    "version": 3
   },
   "file_extension": ".py",
   "mimetype": "text/x-python",
   "name": "python",
   "nbconvert_exporter": "python",
   "pygments_lexer": "ipython3",
   "version": "3.7.4"
  }
 },
 "nbformat": 4,
 "nbformat_minor": 2
}
