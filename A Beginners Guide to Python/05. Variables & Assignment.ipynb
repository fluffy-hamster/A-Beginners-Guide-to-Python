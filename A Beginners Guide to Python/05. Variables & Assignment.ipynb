{
 "cells": [
  {
   "cell_type": "markdown",
   "metadata": {},
   "source": [
    "# Variables & Assignment\n",
    "\n",
    "What is assignment? Well, the short (and simple) answer is to say assignment is the process whereby we give a value a *unique* name. Once something has a name, we can use it later on.\n",
    "\n",
    "Please note that this is a bit of a oversimplification, I should have said a ‘unique’ name within the ‘scope’ of the variable. but for that sentence to make sense you would need to understand the concept of *'scope'* in Python. So for now, let's ignore the intricacies and keep it simple: a variable is a *unique name* that has some *value* attached to it. The Syntax:\n",
    "\n",
    "    {Unique Variable Name} = {Some Value}\n",
    "    \n",
    "Okay, let's give it a go!"
   ]
  },
  {
   "cell_type": "code",
   "execution_count": 1,
   "metadata": {},
   "outputs": [
    {
     "name": "stdout",
     "output_type": "stream",
     "text": [
      "4\n"
     ]
    }
   ],
   "source": [
    "the_number_four = 4\n",
    "print(the_number_four)"
   ]
  },
  {
   "cell_type": "markdown",
   "metadata": {},
   "source": [
    "> **QUESTION**: Do you have any guesses as to why a name needs to be unique? \n",
    "\n",
    "Well, if we have two variables called \"x\" and they have different values how is Python supposed to know what \"x\" you actually want? Remember the computer is stupid, it cannot figure out what you 'obviously' meant."
   ]
  },
  {
   "cell_type": "code",
   "execution_count": 20,
   "metadata": {},
   "outputs": [
    {
     "name": "stdout",
     "output_type": "stream",
     "text": [
      "5\n"
     ]
    }
   ],
   "source": [
    "x = 4\n",
    "x = 5\n",
    "\n",
    "print(x)"
   ]
  },
  {
   "cell_type": "markdown",
   "metadata": {},
   "source": [
    "So what is going on here? Well, Python first defines ‘x’ as equal to 4. In the very next line Python says \"oh, x is equal to 5 now\", and it \"forgets\" the old value of 4. In short, there never two versions of  ‘x’ here. Rather, there is one ‘x’ and it used to equal 4 and now it equals 5. \n",
    "\n",
    "So basically, if you reuse names you will lose your data. And thats not a weird bug or quirk; Python was designed to be like this.\n",
    "\n",
    "> **QUESTION:** What happens if we use quotation marks, around the \"the_number_four\"?"
   ]
  },
  {
   "cell_type": "code",
   "execution_count": 2,
   "metadata": {},
   "outputs": [
    {
     "name": "stdout",
     "output_type": "stream",
     "text": [
      "theNumberFour\n"
     ]
    }
   ],
   "source": [
    "the_number_four = 4\n",
    "print(\"theNumberFour\")"
   ]
  },
  {
   "cell_type": "markdown",
   "metadata": {},
   "source": [
    "So...what happened? Well, when we use quotation marks Python interprets that as a **string**. But without quotes, Python looks at *the_number_four* and says:\n",
    "\n",
    "> *\"This looks like a variable name to me, let's go see if it has been defined somewhere **above**\".*\n",
    "\n",
    "“Above” is an important word in that sentence. Why is that? Well, let’s see what happens if we define the thing we want to print **below** the print statement,"
   ]
  },
  {
   "cell_type": "code",
   "execution_count": 3,
   "metadata": {},
   "outputs": [
    {
     "ename": "NameError",
     "evalue": "name 'the_number_five' is not defined",
     "output_type": "error",
     "traceback": [
      "\u001b[1;31m---------------------------------------------------------------------------\u001b[0m",
      "\u001b[1;31mNameError\u001b[0m                                 Traceback (most recent call last)",
      "\u001b[1;32m<ipython-input-3-646c68b7fa68>\u001b[0m in \u001b[0;36m<module>\u001b[1;34m\u001b[0m\n\u001b[1;32m----> 1\u001b[1;33m \u001b[0mprint\u001b[0m\u001b[1;33m(\u001b[0m\u001b[0mthe_number_five\u001b[0m\u001b[1;33m)\u001b[0m\u001b[1;33m\u001b[0m\u001b[1;33m\u001b[0m\u001b[0m\n\u001b[0m\u001b[0;32m      2\u001b[0m \u001b[0mthe_number_five\u001b[0m \u001b[1;33m=\u001b[0m \u001b[1;36m5\u001b[0m\u001b[1;33m\u001b[0m\u001b[1;33m\u001b[0m\u001b[0m\n",
      "\u001b[1;31mNameError\u001b[0m: name 'the_number_five' is not defined"
     ]
    }
   ],
   "source": [
    "print(the_number_five)\n",
    "the_number_five = 5"
   ]
  },
  {
   "cell_type": "markdown",
   "metadata": {},
   "source": [
    "You may recall in the very first lecture we got a name error when we tried to all Print() when we actually meant print(). We got a name error in this case too, but the cause it is a bit different.  What happened here is that Python executes code **sequentially** line by line, thus line 1 is executed before line 2 is and so on. \n",
    "\n",
    "So let’s say on line 10 of some peice of code we have a variable called “Y”. Python will then check lines 1, 2, 3, .., 8, 9, 10 to see if “Y” is defined. If it isn’t Python throws a 'NameError'. \n",
    "\n",
    "How do we fix this error? Well, in this case we just need to define ‘the number 5’ before we try to print it, like so"
   ]
  },
  {
   "cell_type": "code",
   "execution_count": 4,
   "metadata": {},
   "outputs": [
    {
     "name": "stdout",
     "output_type": "stream",
     "text": [
      "5\n"
     ]
    }
   ],
   "source": [
    "the_number_five = 5\n",
    "print(the_number_five)"
   ]
  },
  {
   "cell_type": "markdown",
   "metadata": {},
   "source": [
    "## Don't confuse assignment with 'Equals'\n",
    "\n",
    "In Python, assignment works **left-to-right**, unlike the equals symbol in mathematics assignment **doesn't** work both ways. \n",
    "\n",
    "In other words:     \n",
    "a = b **is not the same as** b = a\n",
    "\n",
    "Basically, the left-hand-side of the \"=\" symbol is the variable name, on the right-hand-side is the value. \n",
    "\n",
    "Let me show you quickly..."
   ]
  },
  {
   "cell_type": "code",
   "execution_count": 5,
   "metadata": {},
   "outputs": [
    {
     "ename": "NameError",
     "evalue": "name 'b' is not defined",
     "output_type": "error",
     "traceback": [
      "\u001b[1;31m---------------------------------------------------------------------------\u001b[0m",
      "\u001b[1;31mNameError\u001b[0m                                 Traceback (most recent call last)",
      "\u001b[1;32m<ipython-input-5-9aa4bd86b067>\u001b[0m in \u001b[0;36m<module>\u001b[1;34m\u001b[0m\n\u001b[0;32m      1\u001b[0m \u001b[0ma\u001b[0m \u001b[1;33m=\u001b[0m \u001b[1;36m4\u001b[0m\u001b[1;33m\u001b[0m\u001b[1;33m\u001b[0m\u001b[0m\n\u001b[1;32m----> 2\u001b[1;33m \u001b[0ma\u001b[0m \u001b[1;33m=\u001b[0m \u001b[0mb\u001b[0m \u001b[1;31m# throws a NameError, b is not defined!\u001b[0m\u001b[1;33m\u001b[0m\u001b[1;33m\u001b[0m\u001b[0m\n\u001b[0m",
      "\u001b[1;31mNameError\u001b[0m: name 'b' is not defined"
     ]
    }
   ],
   "source": [
    "a = 4\n",
    "a = b # throws a NameError, b is not defined!"
   ]
  },
  {
   "cell_type": "code",
   "execution_count": 6,
   "metadata": {},
   "outputs": [
    {
     "name": "stdout",
     "output_type": "stream",
     "text": [
      "4\n",
      "4\n"
     ]
    }
   ],
   "source": [
    "# So what should we do if we want b to equal a?  Well, we would have to write:\n",
    "a = 4\n",
    "b = a\n",
    "\n",
    "# and now both a and b should equal 4\n",
    "print(a)\n",
    "print(b)"
   ]
  },
  {
   "cell_type": "code",
   "execution_count": 26,
   "metadata": {},
   "outputs": [
    {
     "name": "stdout",
     "output_type": "stream",
     "text": [
      "8\n",
      "8\n"
     ]
    }
   ],
   "source": [
    "# and lastly, a and b are both numbers, so  a + b is that same as 4 + 4 (more on numbers later).\n",
    "print(4 + 4)\n",
    "print(a + b)"
   ]
  },
  {
   "cell_type": "markdown",
   "metadata": {},
   "source": [
    "# Incrementing Variables\n",
    "\n",
    "Before we move onto the homework I wanted to make a quick little note about *\"updating\"* variables."
   ]
  },
  {
   "cell_type": "code",
   "execution_count": 27,
   "metadata": {},
   "outputs": [
    {
     "name": "stdout",
     "output_type": "stream",
     "text": [
      "10\n"
     ]
    }
   ],
   "source": [
    "a = 5\n",
    "a = a + 5\n",
    "\n",
    "print(a)"
   ]
  },
  {
   "cell_type": "markdown",
   "metadata": {},
   "source": [
    "In the example above we set 'a' to the value 5. In the next line we say assign 'a' to the value ('a' + 5). And since 'a' is 5 Python interprets this as 5 + 5, which is of course 10. Here is another example: "
   ]
  },
  {
   "cell_type": "code",
   "execution_count": 28,
   "metadata": {},
   "outputs": [
    {
     "name": "stdout",
     "output_type": "stream",
     "text": [
      "15\n"
     ]
    }
   ],
   "source": [
    "a = 5\n",
    "b = 5\n",
    "a = a + b  #  5 + 5 = 10  ('a' therefore now equals 10, not 5)\n",
    "a = a + b  # 10 + 5 = 15\n",
    "\n",
    "print(a)"
   ]
  },
  {
   "cell_type": "markdown",
   "metadata": {},
   "source": [
    "The final point I'd like on this is that since this concept is super-useful the designers of Python thought it would be a good idea to be able to do this sort of calculation by using just two characters:"
   ]
  },
  {
   "cell_type": "code",
   "execution_count": 29,
   "metadata": {
    "collapsed": true
   },
   "outputs": [],
   "source": [
    "long_variable_name = 10\n",
    "\n",
    "long_variable_name = long_variable_name + 10\n",
    "# is the same as:\n",
    "long_variable_name += 10"
   ]
  },
  {
   "cell_type": "markdown",
   "metadata": {},
   "source": [
    "'a += b' functions EXACTLY the same as 'a = a + b', the former is simply a short-cut that means you can do less typing, which can be useful if something has a long_variable_name. "
   ]
  },
  {
   "cell_type": "code",
   "execution_count": 30,
   "metadata": {},
   "outputs": [
    {
     "name": "stdout",
     "output_type": "stream",
     "text": [
      "10 10\n"
     ]
    }
   ],
   "source": [
    "a = 5\n",
    "a2 = 5\n",
    "\n",
    "a += 5\n",
    "a2 = a2 + 5\n",
    "\n",
    "print(a, a2) # <--- They are both the same, see!?"
   ]
  },
  {
   "cell_type": "code",
   "execution_count": 38,
   "metadata": {},
   "outputs": [
    {
     "name": "stdout",
     "output_type": "stream",
     "text": [
      "hello world\n"
     ]
    }
   ],
   "source": [
    "# \"updating\" works for strings too:\n",
    "s = \"hello\"\n",
    "s += \" \"\n",
    "s += \"world\"\n",
    "print(s)"
   ]
  },
  {
   "cell_type": "markdown",
   "metadata": {},
   "source": [
    "## Homework\n",
    "\n",
    "1.  create a varible called \"my_name\".   Its value should be your name (a string). \n",
    "1.  create a variable called \"kitchen_utensil\". its value should be your favorite kitchen tool (also a string). Personaly, I like a good spoon (wink wink).   \n",
    "1.  Now type into python:    \n",
    "            print(\"Hello, my name is \" + my_name + \" and one time, at band-camp, I used a \" + kitchen_utensil + \".\")\n"
   ]
  },
  {
   "cell_type": "code",
   "execution_count": 35,
   "metadata": {
    "collapsed": true
   },
   "outputs": [],
   "source": [
    "# my_name code goes here...\n",
    "# kitchen_utensil code goes here...\n",
    "# copy & paste the above print statement"
   ]
  }
 ],
 "metadata": {
  "kernelspec": {
   "display_name": "Python 3",
   "language": "python",
   "name": "python3"
  },
  "language_info": {
   "codemirror_mode": {
    "name": "ipython",
    "version": 3
   },
   "file_extension": ".py",
   "mimetype": "text/x-python",
   "name": "python",
   "nbconvert_exporter": "python",
   "pygments_lexer": "ipython3",
   "version": "3.7.4"
  }
 },
 "nbformat": 4,
 "nbformat_minor": 2
}
