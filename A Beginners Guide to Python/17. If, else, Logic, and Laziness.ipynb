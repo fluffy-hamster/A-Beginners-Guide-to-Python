{
 "cells": [
  {
   "cell_type": "markdown",
   "metadata": {},
   "source": [
    "## If, else, Logic, and Laziness\n",
    "\n",
    "These commands are Pythons bread and butter! You would do well to pay attention to this lecture because 'if statements' are both very common and very very useful. \n",
    "\n",
    "There are a few ways to use the if statement within your code, and each way has slightly different syntax. For now, we are going to focus on in-line expressions. \n",
    "\n",
    "    {value} if {condition} else {value_2}  \n",
    "    * Caveat: {condition} must evaluate to a boolean value (True or False).\n",
    "\n",
    "This code will return {value} if the condition is True. If the condition is False we return whatever is in the \"else\" bit of the code, i.e. {value_2}. To restate the logic in normal English:\n",
    "\n",
    "> \"If the condition is true we do {this} but if the condition is False we do {that}\".\n",
    "    \n",
    "Okay, lets show you how this works with an example. You guys remember how 'input' works, right?"
   ]
  },
  {
   "cell_type": "code",
   "execution_count": 1,
   "metadata": {},
   "outputs": [
    {
     "name": "stdout",
     "output_type": "stream",
     "text": [
      "Give me integer... 89\n",
      "89 is NOT divisible by 4\n"
     ]
    }
   ],
   "source": [
    "# Takes a number as input, prints whether that number is divisible by 4.\n",
    "text = input(\"Give me integer... \")\n",
    "                                     \n",
    "result = \"{} is{}divisible by 4\".format(text, \"\" if int(text) % 4 == 0 else \" NOT \")\n",
    "#                                              ^ this is the important bit here ^\n",
    "print(result)"
   ]
  },
  {
   "cell_type": "markdown",
   "metadata": {},
   "source": [
    "I would recommend you call this function a few times, to ensure you understand it. Notice that \"result\" has different values depending on whether the number you gave is/is not divisible by 4. \n",
    "\n",
    "Notice above when I was speaking of syntax I said the conditions have to be True/False. Let me just quickly show you that it is the case here:"
   ]
  },
  {
   "cell_type": "code",
   "execution_count": 2,
   "metadata": {},
   "outputs": [
    {
     "name": "stdout",
     "output_type": "stream",
     "text": [
      "False\n",
      "True\n"
     ]
    }
   ],
   "source": [
    "print (10 % 4 == 0)\n",
    "print (16 % 4 == 0)\n",
    "\n",
    "# Note: \"==\" is NOT to be confused with \"=\""
   ]
  },
  {
   "cell_type": "markdown",
   "metadata": {},
   "source": [
    "# Logic Operators...\n",
    "\n",
    "Before moving on, I should probably give you a bit more Python vocabulary:\n",
    "\n",
    "     SYMBOL + SYNTAX           ::   MEANING    ::               :: EXAMPLE ::                  \n",
    "    \n",
    "         if a                if a exists               if a print(a)                                \n",
    "         if not a            if a does not exist       if not a print(\"NOOO!!!!\")                    \n",
    "         a == b              is a equal to b           10 == 10 is True, 5 == 10 is False.            \n",
    "         a != b              is a not equal to b       10 != 10 is False, 5 != 10 is True.           \n",
    "         a > b               is a greater than b       10 > 5 is True, 10 > 5 is False               \n",
    "         a < b               is a less than b          10 < 5 is False, 5 < 10 is True               \n",
    "         a >= b              is a greater or equal b   10 >= 10 is True                              \n",
    "         a <= b              is a less or equal b      10 <= 10 is True                              \n",
    "         \n",
    "\n",
    "The above table has a bunch of logical operators, with meanings and examples. For example, ‘is a equal to b?’ which is the ‘==’ symbol. If you remember only one thing from today's lesson please let it be '=='. It comes up a lot, and I mean A LOT. \n",
    "\n",
    "Anyway, I suspect the most complex of these commands to grasp is the simple 'if a'. Below I have a few more test cases to help you understand how it works. I also have a section on readability today,  which will help explain why you will frequently see code like *if a != [ ]* * rewritten as *if a*."
   ]
  },
  {
   "cell_type": "code",
   "execution_count": 3,
   "metadata": {},
   "outputs": [
    {
     "name": "stdout",
     "output_type": "stream",
     "text": [
      "if 1 equates to... True\n",
      "if \"\" equates to... False\n",
      "if 0 equates to... False\n",
      "if [] equates to... False\n",
      "if [0] equates to... True\n",
      "if [False] equates to... True\n"
     ]
    }
   ],
   "source": [
    "def exists(x): \n",
    "    return True if x else False\n",
    "    \n",
    "print (\"if 1 equates to...\", exists(10))\n",
    "print (\"if \\\"\\\" equates to...\", exists(\"\"))    # empty string\n",
    "print (\"if 0 equates to...\", exists(0))        # remember True/False are 1/0 in Python\n",
    "print (\"if [] equates to...\", exists([]))      # empty list\n",
    "print (\"if [0] equates to...\", exists([0]))    # list contains 0, therefore list not empty\n",
    "print (\"if [False] equates to...\", exists([False]))"
   ]
  },
  {
   "cell_type": "markdown",
   "metadata": {},
   "source": [
    "Why does '[0]' equal True and '[]' equal False? The answer is that when we ask Python ‘if a exists’ Python decides that statement is True if a is NOT empty. In other words, an empty string/list is basically the same as not existing and hence returns False. In this particular case exists([0]) is True because the list contains the element \"0\". This is also why [False] returns True; its True because the list contains the element \"False\". \n",
    "\n",
    "The way this works is a bit tricky to get your hand around, but once you do get it you can start writing some really nice *idiomatic code*.\n",
    "\n",
    "## Readibility counts...\n",
    "\n",
    "This is a minor detour, but I feel that I should not be simply teaching you guys how to do stuff, I should be trying to teach you guys how to do stuff in the most *'Pythonic'* way possible. This is a good juncture to talk a little about style. \n",
    "Consider the following code:\n",
    "\n",
    "    if variable != []:\n",
    "        {do something} \n",
    "    \n",
    "    OR:\n",
    "    \n",
    "    if variable == True:\n",
    "        {do something}    \n",
    "        \n",
    "The first code snippet asks if 'variable' is an empty list. If it isn't empty we enter the main body of code and do something (see indentation lecture). The second snippet of code asks if our value is equal to the value True. In many cases code like this code can be written to be more 'Pythonic'. You see, both these statements are essentially asking 'if variable exists do X', which means we can refactor this to:\n",
    "\n",
    "    if variable:\n",
    "        {do something}\n",
    "\n",
    "Alright, let's try another example...\n",
    "\n",
    "    if variable == {value}:\n",
    "        return True\n",
    "    else:\n",
    "        return False\n",
    "        \n",
    "So this code is part of a function. The function returns True if the variable is equal to some value and returns False otherwise. Just as before it is important to note that this code works, BUT, it can be rewritten like this:\n",
    "\n",
    "    return True if variable == {value} else False\n",
    "    \n",
    "But guess what, we can further refactor this code, since \"==\" always returns a boolean (ie. True/False) the \"True if\" is simply not necessary. So even better is: \n",
    "\n",
    "    return variable == {value}\n",
    "    \n",
    "Thats four lines of code condensed into one simple expression. Neat huh? Alright, that's enough about readability for today’s lecture, lets move on.\n",
    "\n",
    "## Understanding the operators...\n",
    "\n",
    "In the code window below I have written a bit of code that will ask you for two variables (a, b) and an operator. It will then tell you whether that condition is True or False.\n",
    "\n",
    "For example:\n",
    "\n",
    "a is 10\n",
    "b is 16\n",
    "operator is >=\n",
    "\n",
    "In which case, the code will figure out whether 10 >= 16 is True or False. I'd recommend calling this code a few times with different inputs in order to get a proper feel for what's going on. "
   ]
  },
  {
   "cell_type": "code",
   "execution_count": 9,
   "metadata": {},
   "outputs": [
    {
     "name": "stdout",
     "output_type": "stream",
     "text": [
      "\n",
      "Give me variable 'a' :                         90\n",
      "Now give me variable 'b' :                     90\n",
      "give me an operator (e.g '==', '!=', '>') :    >\n",
      "\n",
      "The statement is 90 > 90...\n",
      "   The statement is False\n"
     ]
    }
   ],
   "source": [
    "a = input(\"\\nGive me variable 'a' :                         \")\n",
    "b = input(\"Now give me variable 'b' :                     \")\n",
    "op = input(\"give me an operator (e.g '==', '!=', '>') :    \")\n",
    "\n",
    "string = \"{} {} {}\".format(a, op, b)\n",
    "print(\"\\nThe statement is {}...\".format(string), \"The statement is {}\".format(eval(string)), sep=\"\\n   \")"
   ]
  },
  {
   "attachments": {},
   "cell_type": "markdown",
   "metadata": {},
   "source": [
    "## And & Or\n",
    "\n",
    "Now we are going to add to the complexity a little by explaining how we can combine expressions into larger ones.\n",
    "Why might we want to do this? \n",
    "\n",
    "Well say for instance you want to write some code that returns a number that is divisible by 5 **OR** divisible by 10. Maybe you want to write some code that checks if a number is odd **AND** also a perfect square (eg. 9, 25). \n",
    "\n",
    "As it turns out, Python has the \"and\"/\"or\" commands and for the most part they will work how we understand them in English. But, perhaps we should make the effort to be precise. The table below tells you what the output of the operator is for all values of A and B.\n",
    "\n",
    "![Truth_table_for_AND,_OR,_and_NOT.png](graphics/Truth_table_for_AND,_OR,_and_NOT.png)\n",
    "\n",
    "Okay, cool. So how do we use and/or in Python? The good news is that syntax is super intuitive:\n",
    "\n",
    "    {value} and {value_2}    returns True/False\n",
    "    {value} or  {value_2}    returns True/False\n",
    "    \n",
    "yes thats right, the keyword for 'and' in Python is the word 'and', 'or' in Python is also the same as English. Alright, lets run a few examples shall we:"
   ]
  },
  {
   "cell_type": "code",
   "execution_count": 5,
   "metadata": {},
   "outputs": [
    {
     "name": "stdout",
     "output_type": "stream",
     "text": [
      "True\n",
      "True\n",
      "True\n",
      "0\n",
      "1\n",
      "0\n",
      "0\n",
      "True\n",
      "False\n"
     ]
    }
   ],
   "source": [
    "x = 10\n",
    "\n",
    "print(x > 9 and x < 11)  # is x greater than 9 AND less than 11. Note, we could refactor this to: 11 > x > 9\n",
    "print( isinstance(x, str) or isinstance(x, int))   # is x a string OR a integer\n",
    "\n",
    "print(x % 5 == 0 and x % 2 ==0) # is x divisible by 5 AND 2\n",
    "\n",
    "# Once again, remember 0 = False and 1 = True\n",
    "print(0 or 0)  # False or False  = False\n",
    "print(1 or 0)  # True or False   = True\n",
    "print(0 and 0) # False AND False = False\n",
    "print(0 and 1) # False AND True  = False\n",
    "\n",
    "a = True\n",
    "# Basic logic...\n",
    "print(a or not a)  # Tautology, ALWAYS TRUE  (for any a)\n",
    "print(a and not a) # Contraction, AlWAYS FALSE (for any a)"
   ]
  },
  {
   "cell_type": "markdown",
   "metadata": {},
   "source": [
    "## A note on Python's \"Lazy\" evaluation...\n",
    "\n",
    "Lets play a simple game. The rules:\n",
    "1. I give you two statements, P, Q and an operator (operator will always be one of \"and/or\")\n",
    "1. Both statements are truth functional (i.e. statements that are True or False)\n",
    "1. Your job is to evaluate the expression (P operator Q) **in the fastest time possible.**\n",
    "1. You get to **choose what to evaluate first**, i.e. your options are P then Q, or Q then P.\n",
    "\n",
    "Alright, here's the first question:\n",
    "\n",
    "* P = \"There are an infinite number of twin primes\"  \n",
    "* Q = \"7 + 7 is an odd number\"\n",
    "* operator = And\n",
    "\n",
    "So, to once again reiterate the question:\n",
    "\n",
    "> Is (P and Q) True/False and what is the fastest strategy for solving it?\n",
    "\n",
    "Answer: \n",
    "    \n",
    "    The statement (P and Q) is False, and the fastest strategy is to calculate statement Q first.\n",
    "\n",
    "Why? Well, in order to prove that (P and Q) is False we only have to prove that either P or Q is False. In this case, its pretty easy to see that Q is false, therefore we know the answer of (P and Q) without having to prove the twin primes conjecture.\n",
    "\n",
    "Alright, lets try one more time.\n",
    "\n",
    "* P = 7 is a prime number\n",
    "* Q = \"NP = P\"  *([wiki entry for the np = p problem](https://en.wikipedia.org/wiki/P_versus_NP_problem))*\n",
    "* operator = or\n",
    "\n",
    "Answer:\n",
    "\n",
    "    “The statement (P or Q) is True, and the fastest strategy is to calculate statement P first.\"\n",
    "    \n",
    "Similar to the problem above, to prove (P or Q) is True we only have to prove either P or Q is True. In this case, we can quickly check 7 is prime and thus we can solve the problem without even attempting to solve the np=p problem *(which btw, has a million dollar prize for the first person to prove it)*.\n",
    "\n",
    "Okay, so how can we use this information in our Python programmes? Well Python uses the same \"lazy\" evaluation as we did above; if we know A is True we don't have to calculate B in order to know (A or B) is True. \n",
    "\n",
    "So how can we take advantage of this? Well, the syntax is simple, Python evaluates left-to-right. So in the case of P or Q Python ALWAYS checks P first. **To take advantage then, what we should do is give Python the easiest statement first and then the slower one.** \n",
    "\n",
    "In the case of the first problem all we would have to do to make Python solve it as fast as we did is to give python (Q and P) (in that order). \n",
    "\n",
    "The code below attempts to convince you of this..."
   ]
  },
  {
   "cell_type": "code",
   "execution_count": 14,
   "metadata": {},
   "outputs": [
    {
     "name": "stdout",
     "output_type": "stream",
     "text": [
      "True or wait(true)...\n",
      "Time Taken was 0.0 secs\n",
      "\n",
      "\n",
      "wait(true) or true...\n",
      "Time Taken was 5.0 secs\n",
      "\n",
      "\n"
     ]
    }
   ],
   "source": [
    "import time\n",
    "\n",
    "def timesink_function(x):\n",
    "    \"\"\"\n",
    "    Returns x, after 5 secs\n",
    "    \"\"\"\n",
    "    time.sleep(5)\n",
    "    return x\n",
    "\n",
    "\n",
    "## Experiment # 1\n",
    "print(\"True or wait(true)...\")\n",
    "t1 = time.time()\n",
    "_  = True or timesink_function(True) # the important line\n",
    "t2 = time.time()\n",
    "print(\"Time Taken was {} secs\".format(round(t2-t1, 1)))\n",
    "print(\"\\n\")\n",
    "\n",
    "## Experiment # 2\n",
    "print(\"wait(true) or true...\")\n",
    "t1 = time.time()\n",
    "_  = timesink_function(True) or True # the important line\n",
    "t2 = time.time()\n",
    "print(\"Time Taken was {} secs\".format(round(t2-t1, 1)))\n",
    "print(\"\\n\")"
   ]
  },
  {
   "cell_type": "markdown",
   "metadata": {},
   "source": [
    "So in the above two experiments notice that in both cases the timesink_function returns True (after waiting 5 secounds). The only difference between the two experiments is the order in which we make the calls (true or wait, wait or true). Notice that wait or true took 5 secs to evaluate, whereas 'true or wait' took 0 secs."
   ]
  },
  {
   "cell_type": "code",
   "execution_count": 15,
   "metadata": {},
   "outputs": [
    {
     "name": "stdout",
     "output_type": "stream",
     "text": [
      "False or wait(true)...\n",
      "Time Taken was 5.0 secs\n",
      "\n",
      "\n",
      "wait(true) or False...\n",
      "Time Taken was 5.0 secs\n",
      "\n",
      "\n"
     ]
    }
   ],
   "source": [
    "## Experiment 3\n",
    "print(\"False or wait(true)...\")\n",
    "t1 = time.time()\n",
    "_  = False or timesink_function(True) # the important line\n",
    "t2 = time.time()\n",
    "print(\"Time Taken was {} secs\".format(round(t2-t1, 1)))\n",
    "print(\"\\n\")\n",
    "\n",
    "## Experiment 4\n",
    "print(\"wait(true) or False...\")\n",
    "t1 = time.time()\n",
    "_  = timesink_function(True) or False # the important line\n",
    "t2 = time.time()\n",
    "print(\"Time Taken was {} secs\".format(round(t2-t1, 1)))\n",
    "print(\"\\n\")"
   ]
  },
  {
   "cell_type": "markdown",
   "metadata": {},
   "source": [
    "In experiments 3 and 4 we are comparing 'False or wait' against 'wait or false'. In this case there is no difference in time. Thats because the Truth of 'False or X' or 'X or False' actually simplifies to 'X'. Python cannot take any shortcuts here, it has to workout what X is, and that takes 5 secs. "
   ]
  },
  {
   "cell_type": "code",
   "execution_count": 16,
   "metadata": {},
   "outputs": [
    {
     "name": "stdout",
     "output_type": "stream",
     "text": [
      "False and wait(true)...\n",
      "Time Taken was 0.0 secs\n",
      "\n",
      "\n",
      "wait(true) and False...\n",
      "Time Taken was 5.0 secs\n",
      "\n",
      "\n"
     ]
    }
   ],
   "source": [
    "## Experiment 5\n",
    "print(\"False and wait(true)...\")\n",
    "t1 = time.time()\n",
    "_  = False and timesink_function(True) # the important line\n",
    "t2 = time.time()\n",
    "print(\"Time Taken was {} secs\".format(round(t2-t1, 1)))\n",
    "print(\"\\n\")\n",
    "\n",
    "## Experiment 6\n",
    "print(\"wait(true) and False...\")\n",
    "t1 = time.time()\n",
    "_  = timesink_function(True) and False # the important line\n",
    "t2 = time.time()\n",
    "print(\"Time Taken was {} secs\".format(round(t2-t1, 1)))\n",
    "print(\"\\n\")"
   ]
  },
  {
   "cell_type": "markdown",
   "metadata": {},
   "source": [
    "In Experiments 5 and 6 are just like 3 and 4, except that we are not looking at the \"and\" condition. There is once again a time difference. Python gets to be lazy in one case but not in the other.   \n",
    "\n",
    "In short, understanding Python’s lazy evaluation can speed up you code considerably (without any cost to readability). As a general rule, to make use of lazy evaluation all you need to do is put the thing that is fastest to evaluate first and the slowest thing last. For maximum efficiency you would need to figure out what it minimum about of work you need to do in order to arrive at an answer."
   ]
  },
  {
   "cell_type": "markdown",
   "metadata": {},
   "source": [
    "## Homework \n",
    "\n",
    "Your challenge this week is to evaluate the following formula as fast as possible:\n",
    "    \n",
    "    (a or b) and ( (b and not b) or c )\n",
    "    \n",
    "Where:\n",
    "\n",
    "* a takes 2 seconds to return a true/false value\n",
    "* b takes 3 seconds to return a true/false value\n",
    "* c takes 4 seconds to return a true/false value\n",
    "\n",
    "Have a bit of play and see how quickly you can make it execute. \n",
    "\n",
    "Just be careful not to change the meaning of the expression. The parenthesis, just like in maths group the elements. For example \"(a or b) and c\" is not the same as \"a or (b and c)\".\n"
   ]
  },
  {
   "cell_type": "code",
   "execution_count": 34,
   "metadata": {},
   "outputs": [
    {
     "name": "stdout",
     "output_type": "stream",
     "text": [
      "Time Taken was 9.0 secs\n",
      "\n",
      "\n"
     ]
    }
   ],
   "source": [
    "import time\n",
    "import random\n",
    "from functools import partial\n",
    "\n",
    "\n",
    "def sleep_bool(x, b):\n",
    "    \"\"\"\n",
    "    waits for x secs, then returns true/false\n",
    "    \"\"\"\n",
    "    time.sleep(x)\n",
    "    return b\n",
    "\n",
    "\n",
    "a = partial(sleep_bool, 2, True) \n",
    "b = partial(sleep_bool, 3, False)\n",
    "c = partial(sleep_bool, 4, False) \n",
    "\n",
    "\n",
    "t1 = time.time()\n",
    "expression = ( a() or b() ) and ( (b() and not b() ) or c() )    ## <-- change this line\n",
    "t2 = time.time()\n",
    "\n",
    "print(\"Time Taken was {} secs\".format(round(t2-t1, 1)))\n",
    "print(\"\\n\")\n",
    "\n",
    "## Can you beat 9 secs ??? "
   ]
  },
  {
   "cell_type": "code",
   "execution_count": null,
   "metadata": {},
   "outputs": [],
   "source": []
  }
 ],
 "metadata": {
  "kernelspec": {
   "display_name": "Python 3",
   "language": "python",
   "name": "python3"
  },
  "language_info": {
   "codemirror_mode": {
    "name": "ipython",
    "version": 3
   },
   "file_extension": ".py",
   "mimetype": "text/x-python",
   "name": "python",
   "nbconvert_exporter": "python",
   "pygments_lexer": "ipython3",
   "version": "3.7.4"
  }
 },
 "nbformat": 4,
 "nbformat_minor": 2
}
