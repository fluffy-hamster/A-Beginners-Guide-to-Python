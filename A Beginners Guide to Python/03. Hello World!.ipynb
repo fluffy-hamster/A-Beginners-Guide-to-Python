{
 "cells": [
  {
   "cell_type": "markdown",
   "metadata": {},
   "source": [
    "# Hello World!\n",
    "\n",
    "In this lecture, we shall be focusing on Python's print statement. As the word ‘print’ may suggest, this a command in Python that, err, prints to the console whatever you fed it as input. The syntax is:\n",
    "     \n",
    "     print({argument})\n",
    "\n",
    "Please take care to note that \"print\" is all lower-case (**Python is case-sensitive**). And don't forget the curly brackets! \"()\" \n",
    "\n",
    "As a quick side-node, if you see python code on the internet you may occassionaly see print statements without brackets:\n",
    "\n",
    "    print \"hello\"\n",
    "    print (\"hello\")\n",
    "    \n",
    "The most likely explanation of this difference is that the print statement used to work differently in Python 2. In Python 3, you need the brackets. \n",
    "\n",
    "### How I present Syntax\n",
    "\n",
    "Before moving on, I’d like to make quick note about how I talk about syntax in Python. In the lectures where I chose to talk about syntax I use the format above. With the exception of the “{}” symbols, you should assume that **all the the symbols/words are deliberate.** In other words if you see a symbol such as comma (“,”), a colon (“:”) or whatever its there because Python needs it to be there! \n",
    "\n",
    "The exception to this rule is text sandwiched between the “{}” brackets. This is usually 'place-holder' text that you would need to change.\n",
    "\n",
    "In this particular case you should remove {argument} and replace with whatever you want to print. Lets run through a few examples:"
   ]
  },
  {
   "cell_type": "code",
   "execution_count": 5,
   "metadata": {},
   "outputs": [
    {
     "name": "stdout",
     "output_type": "stream",
     "text": [
      "hi\n",
      "8\n",
      "[1, 2, 3]\n"
     ]
    }
   ],
   "source": [
    "print(\"hi\")\n",
    "print(4 + 4)\n",
    "print([1, 2, 3])"
   ]
  },
  {
   "cell_type": "markdown",
   "metadata": {},
   "source": [
    "In the above case don't worry about *what* is going on, rather, I just want you to focus on the *how* we did it. The steps we took were: \n",
    "\n",
    "1. Type \"print\"\n",
    "1. Open bracket\n",
    "1. Type in the 'thing' we want to print\n",
    "1. Close bracket\n",
    "1. Hit the run button. \n",
    "\n",
    "When learning programming languages a long-standing tradition has it that the first program you write is \"hello world\" and who am I to break [tradition](https://blog.hackerrank.com/the-history-of-hello-world/)? \n",
    "\n",
    "\n",
    "### What are \"Strings\" ?\n",
    "\n",
    "In Python text is handled by something we call a **“string”**. Strings are an important data-type in Python and later on in this course we shall devote a good deal of time to understanding how they work. But for now, let's just focus on the syntax and how we can print hello word. The Syntax:\n",
    "\n",
    "    \"{argument}\""
   ]
  },
  {
   "cell_type": "code",
   "execution_count": 6,
   "metadata": {},
   "outputs": [
    {
     "data": {
      "text/plain": [
       "'THIS IS A STRING'"
      ]
     },
     "execution_count": 6,
     "metadata": {},
     "output_type": "execute_result"
    }
   ],
   "source": [
    "\"THIS IS A STRING\""
   ]
  },
  {
   "cell_type": "markdown",
   "metadata": {},
   "source": [
    "Yep, thats right, strings have a very simple syntax; to convert normal english text into a Python string all we have to do is surround it in quotation marks (\"\"). Okay we have all the tools we need, now lets give 'hello word' a go!"
   ]
  },
  {
   "cell_type": "code",
   "execution_count": 7,
   "metadata": {},
   "outputs": [
    {
     "name": "stdout",
     "output_type": "stream",
     "text": [
      "hello World\n"
     ]
    }
   ],
   "source": [
    "print(\"hello World\")"
   ]
  },
  {
   "cell_type": "markdown",
   "metadata": {},
   "source": [
    "### Errors happen...\n",
    "\n",
    "In later lectures I’ll go into a lot more detail about error messages. But for now I just want to point out that the computer is ultimately *stupid*; it cannot figure out what your *intentions* are and as a result the computer will interpret everything 100% literally and will complain whenever you get anything (even very small things) wrong. \n",
    "\n",
    "**As you learn to program you will see error messages a lot**. But, on the brightside error messages usually tell you *what is wrong*. Thus, a key skill to develop is understanding what various errors mean and how to fix them. \n",
    "\n",
    "For example:"
   ]
  },
  {
   "cell_type": "code",
   "execution_count": 1,
   "metadata": {},
   "outputs": [
    {
     "ename": "NameError",
     "evalue": "name 'Print' is not defined",
     "output_type": "error",
     "traceback": [
      "\u001b[1;31m---------------------------------------------------------------------------\u001b[0m",
      "\u001b[1;31mNameError\u001b[0m                                 Traceback (most recent call last)",
      "\u001b[1;32m<ipython-input-1-64797f4258bc>\u001b[0m in \u001b[0;36m<module>\u001b[1;34m()\u001b[0m\n\u001b[1;32m----> 1\u001b[1;33m \u001b[0mPrint\u001b[0m\u001b[1;33m(\u001b[0m\u001b[1;34m\"this is a string!\"\u001b[0m\u001b[1;33m)\u001b[0m\u001b[1;33m\u001b[0m\u001b[0m\n\u001b[0m",
      "\u001b[1;31mNameError\u001b[0m: name 'Print' is not defined"
     ]
    }
   ],
   "source": [
    "Print(\"this is a string!\")"
   ]
  },
  {
   "cell_type": "markdown",
   "metadata": {},
   "source": [
    "In the example above we tried to print a string and we got the following error message:\n",
    "\n",
    "* NameError: name 'Print' is not defined\n",
    "\n",
    "Why did this happen? Well, Python is complaining here because “Print” and “print” are not the same thing. Remember what I said about the computer being stupid? The computer cannot figure out our intentions nor can it figure out what is meant via contextual cues. Basically, everything we type must be **exact** and Python is case-sensitive.\n",
    "\n",
    "Okay, lets look at one more type of error we may encounter:"
   ]
  },
  {
   "cell_type": "code",
   "execution_count": 2,
   "metadata": {},
   "outputs": [
    {
     "ename": "SyntaxError",
     "evalue": "unexpected EOF while parsing (<ipython-input-2-eae67dada87a>, line 1)",
     "output_type": "error",
     "traceback": [
      "\u001b[1;36m  File \u001b[1;32m\"<ipython-input-2-eae67dada87a>\"\u001b[1;36m, line \u001b[1;32m1\u001b[0m\n\u001b[1;33m    print(\"this is a string\"\u001b[0m\n\u001b[1;37m                            ^\u001b[0m\n\u001b[1;31mSyntaxError\u001b[0m\u001b[1;31m:\u001b[0m unexpected EOF while parsing\n"
     ]
    }
   ],
   "source": [
    "print(\"this is a string\""
   ]
  },
  {
   "cell_type": "code",
   "execution_count": 3,
   "metadata": {},
   "outputs": [
    {
     "ename": "SyntaxError",
     "evalue": "EOL while scanning string literal (<ipython-input-3-e9c8e93d5ea2>, line 1)",
     "output_type": "error",
     "traceback": [
      "\u001b[1;36m  File \u001b[1;32m\"<ipython-input-3-e9c8e93d5ea2>\"\u001b[1;36m, line \u001b[1;32m1\u001b[0m\n\u001b[1;33m    print(\"this is a string)\u001b[0m\n\u001b[1;37m                            ^\u001b[0m\n\u001b[1;31mSyntaxError\u001b[0m\u001b[1;31m:\u001b[0m EOL while scanning string literal\n"
     ]
    }
   ],
   "source": [
    "print(\"this is a string)"
   ]
  },
  {
   "cell_type": "code",
   "execution_count": 4,
   "metadata": {},
   "outputs": [
    {
     "ename": "SyntaxError",
     "evalue": "invalid syntax (<ipython-input-4-09e63c9bbe75>, line 1)",
     "output_type": "error",
     "traceback": [
      "\u001b[1;36m  File \u001b[1;32m\"<ipython-input-4-09e63c9bbe75>\"\u001b[1;36m, line \u001b[1;32m1\u001b[0m\n\u001b[1;33m    print(\"this is a string\"))\u001b[0m\n\u001b[1;37m                             ^\u001b[0m\n\u001b[1;31mSyntaxError\u001b[0m\u001b[1;31m:\u001b[0m invalid syntax\n"
     ]
    }
   ],
   "source": [
    "print(\"this is a string\"))"
   ]
  },
  {
   "cell_type": "markdown",
   "metadata": {},
   "source": [
    "So what happened here then? Well in the first case we are missing a closing bracket and in the second example we are missing a quotation mark, and in the third example we have one too many closing brackets. The result is the following errors:\n",
    "\n",
    "* SyntaxError: unexpected EOF while parsing\n",
    "* SyntaxError: EOL while scanning string literal\n",
    "* SyntaxError: invalid syntax\n",
    "\n",
    "Notice that Python has a little \"^\" icon pointing out where it thinks the mistake is. \n",
    "\n",
    "When you see errors like this don’t give up! Most of the time when you see errors like this your mistake was that you missed a comma, or added an extra bracket or something.  Basically, you probably just have a typo somewhere in your code.\n",
    "\n",
    "Basically, try not to get too fustrated when you see errors;  its a normal part of the learning process and more often than not its something really simple. So if you are stuck I recommend taking a quick teabreak, a fresh pair of eyes will often spot the mistake a pair of tired eyes couldn't! "
   ]
  },
  {
   "cell_type": "markdown",
   "metadata": {},
   "source": [
    "## Homework\n",
    "\n",
    "For your homework, I want you to print the following phrase into the box below:\n",
    "> MY HUMAN UNDERSTANDS ME.\n",
    "\n",
    "If you try to print that statement and it doesn't work remember about what I said about error messages; Python needs everything to be 100% correct, not 99% or 99.98% correct. So yeah, if you receive an error message what one did you get? Is it one of the ones I mention above? If so, can you figure out what the fix might be?"
   ]
  },
  {
   "cell_type": "code",
   "execution_count": 8,
   "metadata": {
    "collapsed": true
   },
   "outputs": [],
   "source": [
    "# ENTER YOUR CODE BELOW THIS LINE AND HIT THE 'RUN CELL' BUTTON ABOVE.\n"
   ]
  }
 ],
 "metadata": {
  "kernelspec": {
   "display_name": "Python 3",
   "language": "python",
   "name": "python3"
  },
  "language_info": {
   "codemirror_mode": {
    "name": "ipython",
    "version": 3
   },
   "file_extension": ".py",
   "mimetype": "text/x-python",
   "name": "python",
   "nbconvert_exporter": "python",
   "pygments_lexer": "ipython3",
   "version": "3.7.4"
  }
 },
 "nbformat": 4,
 "nbformat_minor": 2
}
