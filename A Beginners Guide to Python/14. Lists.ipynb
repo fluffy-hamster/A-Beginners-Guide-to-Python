{
 "cells": [
  {
   "cell_type": "markdown",
   "metadata": {},
   "source": [
    "# Lists\n",
    "\n",
    "The list data-type is a way in which we can store a collection of objects; we can store numbers, strings, and even we can even store lists within lists within lists. \n",
    "\n",
    "And, as normal, there are two basic ways to create a list. \n",
    "\n",
    "The first way:\n",
    "\n",
    "    [ {item1}, {item2}, {...} ]\n",
    "    \n",
    "So basically, we type an opening square bracket \"[\" any number of items (separated by a comma) and a closing square bracket \"]\" and we are done.  Simple huh?\n",
    "\n",
    "A few examples..."
   ]
  },
  {
   "cell_type": "code",
   "execution_count": 1,
   "metadata": {},
   "outputs": [
    {
     "name": "stdout",
     "output_type": "stream",
     "text": [
      "[]\n",
      "[True]\n",
      "[1, 2, 3, 4]\n",
      "['a', 2, 'b', 4]\n",
      "[[1, 2], [2, 3], [3, 2]]\n",
      "\n",
      "[True, True, True, True, True, True]\n",
      "[1, 2, 1, 2, 1, 2]\n",
      "[[1, 2], [1, 2], [1, 2]]\n"
     ]
    }
   ],
   "source": [
    "a = []                      # empty list\n",
    "b = [True]                  # single item, a boolean\n",
    "c = [1, 2, 3, 4]            # list of 4 numbers\n",
    "d = [\"a\", 2, \"b\", 4]        # strings and numbers\n",
    "e = [ [1,2], [2,3], [3,2]]  # lists within lists\n",
    "\n",
    "print(a,b,c,d,e, sep=\"\\n\")\n",
    "\n",
    "# Also, if you want to create a list of size n with the same value you can use the \"*\" operator\n",
    "\n",
    "#    [{value}] * {n}\n",
    "\n",
    "f = [True]  * 6   # sequence True, True, ...\n",
    "g = [1,2]   * 3   # sequence 1,2,1,2 ...\n",
    "h = [[1,2]] * 3   # sequence [1,2],[1,2], ...\n",
    "\n",
    "print(\"\", f,g,h, sep=\"\\n\")"
   ]
  },
  {
   "cell_type": "markdown",
   "metadata": {},
   "source": [
    "## The list function\n",
    "\n",
    "The other way to make lists is call the 'list' function with a valid argument. for example:"
   ]
  },
  {
   "cell_type": "code",
   "execution_count": 129,
   "metadata": {},
   "outputs": [
    {
     "name": "stdout",
     "output_type": "stream",
     "text": [
      "['t', 'h', 'i', 's', ' ', 'i', 's', ' ', 'a', ' ', 's', 't', 'r', 'i', 'n', 'g']\n",
      "[1, 2, 3, 4, 5]\n",
      "[1, 2, 3, 4, 5]\n"
     ]
    }
   ],
   "source": [
    "a = \"this is a string\"\n",
    "b = (1,2,3,4,5)       # this is a tuple of integers\n",
    "c = range(1, 6)       # range object, a built in function\n",
    "\n",
    "print(list(a), list(b), list(c), sep=\"\\n\")"
   ]
  },
  {
   "cell_type": "markdown",
   "metadata": {},
   "source": [
    "## Other ways to make lists...\n",
    "\n",
    "So, we can just make lists with the '[]' syntax, or we can call the 'list' built-in.  It is also worth noting that some other data-types have methods that return lists as well. \n",
    "\n",
    "The string method \"split\" is a really good example. We give it a string and the split method chops it up into parts. It then takes those parts and creates a list out of those parts. The split method has an optional argument called \"sep\" which defaults to spaces, \" \", if not give a value. \n",
    "\n",
    "Lets watch it in action!"
   ]
  },
  {
   "cell_type": "code",
   "execution_count": 1,
   "metadata": {
    "scrolled": true
   },
   "outputs": [
    {
     "name": "stdout",
     "output_type": "stream",
     "text": [
      "['The', 'big', 'brown', 'ugly', 'fox', 'jumped', 'into', 'a', 'lampost;', 'I', 'have', 'no', 'idea', 'why.']\n",
      "['The big brown ugly fox jumped into a lampost', ' I have no idea why.']\n",
      "['The big brown ugly fox jumped into ', ' l', 'mpost; I h', 've no ide', ' why.']\n"
     ]
    }
   ],
   "source": [
    "cool_story_bro = \"The big brown ugly fox jumped into a lampost; I have no idea why.\"\n",
    "\n",
    "print(cool_story_bro.split())     # By default split works on with \" \". Which means a list of words will be returned. \n",
    "print(cool_story_bro.split(\";\"))  # Here we split on a semi-colon...\n",
    "print( cool_story_bro.split(\"a\")) # Here we split on the letter a.\n"
   ]
  },
  {
   "cell_type": "markdown",
   "metadata": {},
   "source": [
    "Take care to note that the split method 'consumes' the character it is splitting on. If you look at the above three examples you should notice that the lists don’t contain that character; the word list contains no spaces, the colon list contains no semi-colons and the \"a\" list has no \"a\" characters in it!\n",
    " \n",
    "Split is a method I end up using a lot, it is frequently useful for parsing strings into data that is easier to use. For example, in the first strings lecture we were working with the following directory:\n",
    "\n",
    "    \"C:\\Documents\\pictures\\selfies\\nudes\\tasteful.jpeg\" \n",
    "\n",
    "With split, its really easy to extract the filename (and this should work for all directories):"
   ]
  },
  {
   "cell_type": "code",
   "execution_count": 2,
   "metadata": {},
   "outputs": [
    {
     "name": "stdout",
     "output_type": "stream",
     "text": [
      "The filename is... tasteful.jpeg\n"
     ]
    }
   ],
   "source": [
    "directory =  r\"C:\\Documents\\pictures\\selfies\\nudes\\tasteful.jpeg\"  # note, using r\"{string}\" here...\n",
    "dir_parts = directory.split(\"\\\\\") # remember '\\' is an escape character!\n",
    "\n",
    "print (\"The filename is...\", dir_parts[-1])"
   ]
  },
  {
   "cell_type": "markdown",
   "metadata": {},
   "source": [
    "Okay, so thats several ways we can make lists covered, now lets look at a few ways we can play with lists once they are built!\n",
    "\n",
    "## Adding to lists...\n",
    "\n",
    "So you have a list and you want to add values to it, how does one do that? The answer to that questions depends on:\n",
    "1. What you want to add?\n",
    "1. How you want that value stored?\n",
    "1. Do you want to make a new list, or change the current list?\n",
    "\n",
    "If we have two lists, we can just use the \"+\" command. like so:"
   ]
  },
  {
   "cell_type": "code",
   "execution_count": 131,
   "metadata": {},
   "outputs": [
    {
     "name": "stdout",
     "output_type": "stream",
     "text": [
      "[1, 2, 7, 9]\n",
      "[7, 9, 1, 2]\n"
     ]
    }
   ],
   "source": [
    "a = [1,2]\n",
    "b = [7,9]\n",
    "c = []\n",
    "\n",
    "print(a + b + c)\n",
    "print(c + b + a)"
   ]
  },
  {
   "cell_type": "markdown",
   "metadata": {},
   "source": [
    "I'd like to make two brief notes here; firstly, adding lists to lists (unlike numbers to numbers) does not have the commutative property. This means a + b **is not the same as** b + a. And this is why you need to be careful with ‘operator overloading’; just because you see the same symbol being used does not mean we are simply doing addition!\n",
    "\n",
    "Secondly, I'd like to point out that we are creating a *new list* here, the original lists have not changed. If we want to add *list b* and *list c* to *list a* then we have to do things a little differently..."
   ]
  },
  {
   "cell_type": "code",
   "execution_count": 4,
   "metadata": {},
   "outputs": [
    {
     "name": "stdout",
     "output_type": "stream",
     "text": [
      "[1, 2]\n",
      "[1, 2, 3, 4, 5]\n",
      "[3, 4]\n",
      "[5]\n"
     ]
    }
   ],
   "source": [
    "a = [1,2]\n",
    "b = [3,4]\n",
    "c = [5]\n",
    "\n",
    "print(a)                 # <= before we change it. \n",
    "a += b + c               # += is shorthand for writing; a = a + b + c\n",
    "\n",
    "print(a, b, c, sep=\"\\n\")"
   ]
  },
  {
   "cell_type": "markdown",
   "metadata": {},
   "source": [
    "The \"+=\" syntax basically makes a new list (containing a, b, c) but then assigns that list to the name 'a'. Notice that when we print lists b, c they are unchanged in this process but list 'a' is now [1,2,3,4,5] when it used to be just [1,2].\n",
    "\n",
    "However, lets suppose this is not the behaviour you actually wanted. what if you want a list of lists?"
   ]
  },
  {
   "cell_type": "code",
   "execution_count": 5,
   "metadata": {},
   "outputs": [
    {
     "name": "stdout",
     "output_type": "stream",
     "text": [
      "[[1, 2], [7, 9], []]\n",
      "[[], [7, 9], [1, 2]]\n",
      "\n",
      "Using 'a' equals...     : [[1, 2], [7, 9], []]\n",
      "Using 'a' plus equals...: [1, 2, [7, 9], []]\n"
     ]
    }
   ],
   "source": [
    "a = [1, 2]\n",
    "b = [7,9]\n",
    "c = [] \n",
    "\n",
    "# Method #1: \n",
    "# Just make a new list by typing out what you want, this DOES NOT change the intial lists.\n",
    "print([a, b, c])\n",
    "print([c, b, a])\n",
    "\n",
    "# Method #2: Updating a...\n",
    "a = [a, b, c]\n",
    "print(\"\\nUsing 'a' equals...     :\", a)\n",
    "\n",
    "# Note that if we add b, c to a the result is slightly different:\n",
    "a = [1,2] # reseting a\n",
    "\n",
    "a += [b, c]\n",
    "print(\"Using 'a' plus equals...:\", a)"
   ]
  },
  {
   "cell_type": "markdown",
   "metadata": {},
   "source": [
    "Notice the difference in the last two cases. If we say a = [a,b,c] then we set a to equal a list of three lists. Whereas in the second case list a has the numbers 1, 2 and then two lists at the end. \n",
    "\n",
    "You may have noticed that everything we have discussed thus far has us adding lists to other lists, what if we want to add other data-types, such as numbers or strings? In this case we need append.\n",
    "\n",
    "Append can be used to add also sorts of values to lists, boolean, integers, floats, strings, to name a few. Please note that append always adds things to the end of the list *(the reason Python adds values to the end and not at the beginning is a bit technical, but basically, adding to the end is more efficient)*.\n",
    "Here are a few examples..."
   ]
  },
  {
   "cell_type": "code",
   "execution_count": 134,
   "metadata": {},
   "outputs": [
    {
     "name": "stdout",
     "output_type": "stream",
     "text": [
      "[1, 2, 3, 4, 63.979696, True]\n"
     ]
    }
   ],
   "source": [
    "lst = [1, 2, 3]\n",
    "lst.append(4)               # Integer\n",
    "lst.append(63.979696)       # Float\n",
    "lst.append(True)            # Boolean\n",
    "print(lst)"
   ]
  },
  {
   "cell_type": "markdown",
   "metadata": {},
   "source": [
    "In the case of *iterables*, however you are going to what to think about the behaviour you want; If I have the string \"abc\" do I want to add the whole thing or do I want to add all the individual elements (i.e. 'a', 'b', 'c') to the list.\n",
    "\n",
    "If you want a single value to added to the list use append just as before. If you want each element in the list we need a new method, extend. For example:"
   ]
  },
  {
   "cell_type": "code",
   "execution_count": 135,
   "metadata": {},
   "outputs": [
    {
     "name": "stdout",
     "output_type": "stream",
     "text": [
      "Append 'abc': ['x', 'y', 'abc'] \n",
      "Extend 'abc': ['x', 'y', 'a', 'b', 'c']\n"
     ]
    }
   ],
   "source": [
    "a = [\"x\", \"y\"]\n",
    "b = a[:] # [:] creates a 'shallow copy' of a\n",
    "a.append(\"abc\")\n",
    "b.extend(\"abc\")\n",
    "print(\"Append 'abc':\", a, \"\\nExtend 'abc':\", b)"
   ]
  },
  {
   "cell_type": "markdown",
   "metadata": {},
   "source": [
    "And since lists are also iterables, append/extend works on them as well:"
   ]
  },
  {
   "cell_type": "code",
   "execution_count": 136,
   "metadata": {},
   "outputs": [
    {
     "name": "stdout",
     "output_type": "stream",
     "text": [
      "Append 'abc': ['x', 'y', ['a', 'b', 'c']] \n",
      "Extend 'abc': ['x', 'y', 'a', 'b', 'c']\n"
     ]
    }
   ],
   "source": [
    "a = [\"x\", \"y\"]\n",
    "b = a[:] # <== I will explain what this does in the index/slice lecture!\n",
    "a.append([\"a\", \"b\", \"c\"])\n",
    "b.extend([\"a\", \"b\", \"c\"])\n",
    "print(\"Append 'abc':\", a, \"\\nExtend 'abc':\", b)"
   ]
  },
  {
   "cell_type": "markdown",
   "metadata": {},
   "source": [
    "Alright, so that should just about cover everything you need concerning adding stuff to lists. Next up; removing stuff.\n",
    "\n",
    "## Removing elements\n",
    "\n",
    "Compared to adding stuff to lists, removing things is a bit simpler, there are two basic ways to do it...\n",
    "\n",
    "### remove method\n",
    "\n",
    "The remove method does exactly what is says, you give this function something to look such for and then it removes the **first instance it finds.** If that value isn't found, an error is returned. Allow me to demonstrate:"
   ]
  },
  {
   "cell_type": "code",
   "execution_count": 137,
   "metadata": {},
   "outputs": [
    {
     "name": "stdout",
     "output_type": "stream",
     "text": [
      "start [1, 2, 1, 3]\n",
      "1:------ [2, 1, 3]\n",
      "2:--------- [2, 3]\n"
     ]
    },
    {
     "ename": "ValueError",
     "evalue": "list.remove(x): x not in list",
     "output_type": "error",
     "traceback": [
      "\u001b[0;31m---------------------------------------------------------------------------\u001b[0m",
      "\u001b[0;31mValueError\u001b[0m                                Traceback (most recent call last)",
      "\u001b[0;32m<ipython-input-137-655a1df0addf>\u001b[0m in \u001b[0;36m<module>\u001b[0;34m()\u001b[0m\n\u001b[1;32m      5\u001b[0m \u001b[0ma\u001b[0m\u001b[0;34m.\u001b[0m\u001b[0mremove\u001b[0m\u001b[0;34m(\u001b[0m\u001b[0;36m1\u001b[0m\u001b[0;34m)\u001b[0m\u001b[0;34m\u001b[0m\u001b[0m\n\u001b[1;32m      6\u001b[0m \u001b[0mprint\u001b[0m\u001b[0;34m(\u001b[0m\u001b[0;34m\"2:---------\"\u001b[0m\u001b[0;34m,\u001b[0m \u001b[0ma\u001b[0m\u001b[0;34m)\u001b[0m\u001b[0;34m\u001b[0m\u001b[0m\n\u001b[0;32m----> 7\u001b[0;31m \u001b[0ma\u001b[0m\u001b[0;34m.\u001b[0m\u001b[0mremove\u001b[0m\u001b[0;34m(\u001b[0m\u001b[0;36m1\u001b[0m\u001b[0;34m)\u001b[0m \u001b[0;31m# no 1's left, error!\u001b[0m\u001b[0;34m\u001b[0m\u001b[0m\n\u001b[0m",
      "\u001b[0;31mValueError\u001b[0m: list.remove(x): x not in list"
     ]
    }
   ],
   "source": [
    "a = [1, 2, 1, 3]\n",
    "print(\"start\", a)\n",
    "a.remove(1)\n",
    "print(\"1:------\", a)\n",
    "a.remove(1)\n",
    "print(\"2:---------\", a)\n",
    "a.remove(1) # no 1's are left, error!"
   ]
  },
  {
   "cell_type": "markdown",
   "metadata": {},
   "source": [
    "### Pop method\n",
    "\n",
    "The pop method does two things, first it removes the item from the list, and second it returns that item. By default, pop will remove the last item in this list, but if you give it an index (more on indexing later), it can 'pop' something from any position. For example:"
   ]
  },
  {
   "cell_type": "code",
   "execution_count": 6,
   "metadata": {},
   "outputs": [
    {
     "name": "stdout",
     "output_type": "stream",
     "text": [
      "item is 'last'\n",
      "lst is ['first', 'middle']\n",
      "\n",
      "item_2 is 'first'\n",
      "lst is ['middle']\n"
     ]
    }
   ],
   "source": [
    "lst = [\"first\", \"middle\", \"last\"]\n",
    "item = lst.pop() # item now is assigned to \"last\". Last is removed from list.\n",
    "print(\"item is '{}'\".format(item), \"lst is {}\".format(lst), sep=\"\\n\")  \n",
    "\n",
    "item_2 = lst.pop(0) # index 0 is the first item\n",
    "print(\"\\nitem_2 is '{}'\".format(item_2), \"lst is {}\".format(lst), sep=\"\\n\")"
   ]
  },
  {
   "cell_type": "markdown",
   "metadata": {},
   "source": [
    "## Conclusion\n",
    "\n",
    "Okay, so this a very broad over-view of lists, but one of the most powerful features of lists is that they can in indexed into, which is the subject of the next lecture, so stay tuned for that.  "
   ]
  }
 ],
 "metadata": {
  "kernelspec": {
   "display_name": "Python 3",
   "language": "python",
   "name": "python3"
  },
  "language_info": {
   "codemirror_mode": {
    "name": "ipython",
    "version": 3
   },
   "file_extension": ".py",
   "mimetype": "text/x-python",
   "name": "python",
   "nbconvert_exporter": "python",
   "pygments_lexer": "ipython3",
   "version": "3.7.4"
  }
 },
 "nbformat": 4,
 "nbformat_minor": 2
}
