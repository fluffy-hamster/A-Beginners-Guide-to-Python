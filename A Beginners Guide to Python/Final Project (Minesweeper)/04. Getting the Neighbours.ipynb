{
 "cells": [
  {
   "cell_type": "markdown",
   "metadata": {},
   "source": [
    "Hi guys, so in this lecture we are going to look at how to work out how many bombs surround a given square. This problem might be best solved by splitting it into two parts. \n",
    "\n",
    "1. Create a function that takes position(x,y) on the board and returns all its nieghbours (i.e 8 squares).\n",
    "1. Create a function that calls that takes all the (x, y) points and counts up the number of bombs.\n",
    "\n",
    "for example:\n",
    "\n",
    "    [[_,B,-,-],\n",
    "     [Y,-,-,-],\n",
    "     [B,B,X,-],\n",
    "     [B,-,-,B]]\n",
    " \n",
    "In the above board, we want X to equal 1 because there are 2 bombs nearby. In the case of Y we want to return 3.\n",
    "\n",
    "A few hints:\n",
    "\n",
    "* Make sure you don't change the square if it is a bomb! \n",
    "* How do you want to handle IndexErrors?\n",
    "* Don't forget to use those helper functions we defined last time (get_square, set_square).\n",
    "* If you get stuck, you may find some finds in the design lecture.\n",
    "    "
   ]
  },
  {
   "cell_type": "code",
   "execution_count": 29,
   "metadata": {
    "collapsed": true
   },
   "outputs": [],
   "source": [
    "def test():\n",
    "    \"\"\"\n",
    "    Write your tests here...\n",
    "    \n",
    "    Example:\n",
    "    >>> 1 + 1\n",
    "    2\n",
    "    \n",
    "    \"\"\"\n",
    "    \n",
    "    print(\"Testing Complete\")"
   ]
  },
  {
   "cell_type": "code",
   "execution_count": null,
   "metadata": {
    "collapsed": true
   },
   "outputs": [],
   "source": [
    "def neighbour_squares(x, y, num_rows, num_cols):\n",
    "    \"\"\"\n",
    "    (x, y) 0-based index co-ordinate pair.\n",
    "    num_rows, num_cols: specifiy the max size of the board\n",
    "    \n",
    "    returns all valid (x, y) coordinates from starting position.\n",
    "    \"\"\"\n",
    "    pass\n",
    "    \n",
    "def count_bombs(x, y, board):\n",
    "    \"\"\"\n",
    "    returns the number of neighbours of (x,y) that are bombs. Max is 8, min is 0.\n",
    "    \"\"\"\n",
    "    pass\n",
    "    \n",
    "test()"
   ]
  }
 ],
 "metadata": {
  "kernelspec": {
   "display_name": "Python 3",
   "language": "python",
   "name": "python3"
  },
  "language_info": {
   "codemirror_mode": {
    "name": "ipython",
    "version": 3
   },
   "file_extension": ".py",
   "mimetype": "text/x-python",
   "name": "python",
   "nbconvert_exporter": "python",
   "pygments_lexer": "ipython3",
   "version": "3.7.4"
  }
 },
 "nbformat": 4,
 "nbformat_minor": 2
}
