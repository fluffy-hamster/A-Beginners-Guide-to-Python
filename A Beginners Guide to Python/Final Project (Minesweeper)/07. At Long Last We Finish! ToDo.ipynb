{
 "cells": [
  {
   "cell_type": "markdown",
   "metadata": {
    "collapsed": true
   },
   "source": [
    "We are soooo close to the finish line! We basically have two more things to do in order to get our game functioning. Exciting huh?\n",
    "\n",
    "## Game Won Function\n",
    "\n",
    "The game won function will take two board as input and will check that the player has flagged all the bombs. Note: you should probably check that the players has not flagged every possible square on the board before declaring a winner!\n",
    "\n",
    "## Play Game Function\n",
    "\n",
    "This function should get the ball rolling! Create a function that calls all the other functions so that we can play a game from the command line.\n",
    "\n",
    "As a quick hint, you will probably want to add something like this to your script:\n",
    "\n",
    "    def play_game():\n",
    "        # do something\n",
    "\n",
    "    if __name__ == \"__main__\":\n",
    "        play_game()\n",
    "\n",
    "## UI (optional)\n",
    "\n",
    "You don't have to build a UI (user-interface), but if you want your game to be more player-friendly it might be a good idea.\n",
    "\n",
    "## Refactoring (optional)\n",
    " \n",
    "As you try to 'glue' the various bits and pieces together you probably realise that there are better ways to do things. As a general rule, it’s always a good idea to go-back over code with the aim of simplifying it. Remember, simple code is less likely to contain bugs. \n",
    "\n",
    "Sometimes you have to take a step back in order to move forward. \n",
    "\n",
    "\n",
    "## Gameplay (optional)\n",
    "\n",
    "Games are supposed to be fun. As you start to play the game you might find that they are several changes you could make that would actually make the game more fun to play. Maybe you want to add scoring and/or a timer, maybe you want to change some of the game rules. \n",
    " \n",
    "\n",
    "## Why so 'bare-bones' today?\n",
    "\n",
    "You may notice that this lecture is really really short; just a few sentances explaining each task. Why did I do that? Well, as I mentioned numerous times by now programming isn't something you can be spoon-fed; rather, you learn by *struggling* with material.\n",
    "\n",
    "In the real world do you actually think people tell you how to solve every problem in detail? Of course they don't. In the real world you get given a problem and you in many cases very little guidance beyond a specification. \n",
    "\n",
    "The real struggle (and fun bit, if you ask me) of programming is not figuring out language syntax or whatever, no, the real struggle is trying to figure out a path through a dark dark forrest. \n",
    "\n",
    "I believe you have the skills to iplement these functions reasonable well, but I'm going to let you guys flonder and struggle a little as you try to figure out exactly *how* you should do it. \n",
    "\n",
    "Good luck!"
   ]
  },
  {
   "cell_type": "code",
   "execution_count": null,
   "metadata": {},
   "outputs": [],
   "source": []
  }
 ],
 "metadata": {
  "kernelspec": {
   "display_name": "Python 3",
   "language": "python",
   "name": "python3"
  },
  "language_info": {
   "codemirror_mode": {
    "name": "ipython",
    "version": 3
   },
   "file_extension": ".py",
   "mimetype": "text/x-python",
   "name": "python",
   "nbconvert_exporter": "python",
   "pygments_lexer": "ipython3",
   "version": "3.7.4"
  }
 },
 "nbformat": 4,
 "nbformat_minor": 2
}
