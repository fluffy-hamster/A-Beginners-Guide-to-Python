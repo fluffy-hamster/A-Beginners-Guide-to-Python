{
 "cells": [
  {
   "cell_type": "markdown",
   "metadata": {},
   "source": [
    "## Building the Board\n",
    "\n",
    "Alright, so lets start with the big picture thinking. How to do represent the board itself? Well, as we saw with the chess program (design lecture) it seems like nested lists trump strings. So lets run with that.\n",
    "\n",
    "Okay so our board is going to look something like this:\n",
    "\n",
    "    [ _, B, _ ]\n",
    "    [ B, _, _ ]\n",
    "    [ _, _, _ ]\n",
    "\n",
    "    Where \"B\" = Bomb\n",
    "\n",
    "Now. If we show the player the board above then clearly the game is easy. So thats something we need to think about; how are we going to handle (a) the internal state of the game and (b) what we show to the player. \n",
    "\n",
    "So now if the player selects the first square (0, 0) then we want to display something like this:\n",
    "\n",
    "    [ 2, _, _ ]\n",
    "    [ _, _, _ ]\n",
    "    [ _, _, _ ]\n",
    "\n",
    "    Where '2' denotes the number of bombs nearby. \n",
    "\n",
    "What else might our build board function need to do? Well, I think it would be nice to be able to set the board size (e.g. 10x10, 5x20) and we may also want to set the number of bombs in the game.\n",
    "\n",
    "Alright, so now that we have fleshed out the problem we need to solve the next thing to do is to try to come up with a solution. There are of course many possible ways to do this, but I think a simple approach is to just we build two boards of the same size. One board represents the internal games state and the other board is what we show the player. This two boards will need to be kept 'insync'. \n",
    "\n",
    "\n",
    "## Test-Driven Development\n",
    "\n",
    "Remember in the testing lecture I talked about how sometimes writing the tests first makes implementing the problem easier? Well, I'd encourage you to think about writing some tests before getting 'stuck in', in the long run, it may save you a lot of time. \n",
    "\n",
    "As a quick tip, if you want to place bombs randomly and also want to test the code then you may wish to set random.seed to some constant. "
   ]
  },
  {
   "cell_type": "code",
   "execution_count": null,
   "metadata": {
    "collapsed": true
   },
   "outputs": [],
   "source": [
    "def test_board():\n",
    "    \"\"\"\n",
    "    Write your tests here...\n",
    "    \n",
    "    Example:\n",
    "    >>> 1 + 1\n",
    "    2\n",
    "    \n",
    "    \"\"\"\n",
    "    import doctest\n",
    "    doctest.testmod()\n",
    "    print(\"TESTING COMPLETE... if you see nothing, (other than this message) that means all tests passed.\")"
   ]
  },
  {
   "cell_type": "code",
   "execution_count": null,
   "metadata": {
    "collapsed": true
   },
   "outputs": [],
   "source": [
    "#def build_board\n",
    "    # Your code here\n",
    "\n",
    "# Runing the tests...\n",
    "test_board()\n",
    "# Note if you recieve an error message saying test_board not found \n",
    "# try hitting the run button on the test_board cell and try again."
   ]
  },
  {
   "cell_type": "markdown",
   "metadata": {},
   "source": [
    "If you get stuck, then you can always check out my solution to the problem (just look for _1 Building the board (HW))"
   ]
  }
 ],
 "metadata": {
  "kernelspec": {
   "display_name": "Python 3",
   "language": "python",
   "name": "python3"
  },
  "language_info": {
   "codemirror_mode": {
    "name": "ipython",
    "version": 3
   },
   "file_extension": ".py",
   "mimetype": "text/x-python",
   "name": "python",
   "nbconvert_exporter": "python",
   "pygments_lexer": "ipython3",
   "version": "3.7.4"
  }
 },
 "nbformat": 4,
 "nbformat_minor": 2
}
