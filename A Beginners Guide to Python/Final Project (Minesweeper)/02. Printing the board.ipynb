{
 "cells": [
  {
   "cell_type": "markdown",
   "metadata": {},
   "source": [
    "## Printing the Board\n",
    "\n",
    "Okay so in the last lecture we built a board for our game. Right now a 3x3 grid with 3 bombs looks a little something like this:\n",
    "\n",
    "    [['-', 'B', '-'], ['-', 'B', 'B'], ['-', '-', '-']]\n",
    "    \n",
    "What we now want is a function that will take a board as input and print each row on a new line, since we can't really play a game of minesweeper when the board looks like it does in the above example. \n",
    "\n",
    "What we need is a function that will take a board and display it in a user-friendly fashion. Like so:\n",
    "    \n",
    "     ['-', 'B', '-']\n",
    "     ['-', 'B', 'B']\n",
    "     ['-', '-', '-']\n",
    "     \n",
    "Just as before, I recomend writing some tests before you start."
   ]
  },
  {
   "cell_type": "code",
   "execution_count": 20,
   "metadata": {
    "collapsed": true
   },
   "outputs": [],
   "source": [
    "def test():\n",
    "    \"\"\"\n",
    "    Write your tests here...\n",
    "    \n",
    "    Example:\n",
    "    >>> 1 + 1\n",
    "    2\n",
    "    \n",
    "    \"\"\"\n",
    "    import doctest\n",
    "    doctest.testmod()\n",
    "    print(\"TESTING COMPLETE... if you see nothing, (other than this message) that means all tests passed.\")\n"
   ]
  },
  {
   "cell_type": "code",
   "execution_count": 21,
   "metadata": {},
   "outputs": [
    {
     "name": "stdout",
     "output_type": "stream",
     "text": [
      "TESTING COMPLETE... if you see nothing, (other than this message) that means all tests passed.\n"
     ]
    }
   ],
   "source": [
    "def display_board(board):\n",
    "    # your code here\n",
    "    pass\n",
    "    \n",
    "# Runing the tests...\n",
    "test()\n",
    "# Note if you recieve an error message saying test_board not found \n",
    "# try hitting the run button on the test_board cell and try again."
   ]
  }
 ],
 "metadata": {
  "kernelspec": {
   "display_name": "Python 3",
   "language": "python",
   "name": "python3"
  },
  "language_info": {
   "codemirror_mode": {
    "name": "ipython",
    "version": 3
   },
   "file_extension": ".py",
   "mimetype": "text/x-python",
   "name": "python",
   "nbconvert_exporter": "python",
   "pygments_lexer": "ipython3",
   "version": "3.7.4"
  }
 },
 "nbformat": 4,
 "nbformat_minor": 2
}
