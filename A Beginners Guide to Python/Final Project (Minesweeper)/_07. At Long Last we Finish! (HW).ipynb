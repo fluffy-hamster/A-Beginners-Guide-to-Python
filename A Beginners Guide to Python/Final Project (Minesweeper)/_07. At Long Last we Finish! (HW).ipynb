{
 "cells": [
  {
   "cell_type": "markdown",
   "metadata": {},
   "source": [
    "## Loading Previous Functions..."
   ]
  },
  {
   "cell_type": "code",
   "execution_count": 1,
   "metadata": {
    "collapsed": true
   },
   "outputs": [],
   "source": [
    "import random\n",
    "\n",
    "def build_board(row, col, bomb_count=0, non_bomb_character=\"-\"):\n",
    "    board_temp = [\"B\"] * bomb_count + [non_bomb_character] * (row*col-bomb_count)\n",
    "\n",
    "    if bomb_count:\n",
    "        random.shuffle(board_temp)\n",
    "\n",
    "    board = []\n",
    "    for i in range(0, row*col, col):\n",
    "        board.append(board_temp[i:i+col])\n",
    "    return board\n",
    "\n",
    "def display_board(board):\n",
    "    ## Note bunch of new stuff here. Basically we add some co-ordinates\n",
    "    ## on the side of the board to help the player figure out their move.\n",
    "    \n",
    "    r = len(board)\n",
    "    c = len(board[0])\n",
    "    \n",
    "    s = list(range(0, r))\n",
    "    s2 = \"'{}'  \" * c\n",
    "    \n",
    "    line = \"-\" * len(s2)\n",
    "\n",
    "    for i in range(len(board)):\n",
    "        print(\"{}| {}\".format(s[i], board[i]))\n",
    "    print(line)\n",
    "    print(\"    \" + s2.format(*list(range(0,c)))) ## operator overloading, google \"Unpacking\"\n",
    "        \n",
    "def get_square(x, y, board):\n",
    "    return board[x][y]\n",
    "\n",
    "def set_square(x, y, new_val, board):\n",
    "    board[x][y] = new_val\n",
    "    \n",
    "def get3x3(row, col, board):\n",
    "    offsets = [(-1,-1), (0,-1), (+1,-1),\n",
    "               (-1, 0), (0, 0), (+1, 0),\n",
    "               (-1,+1), (0,+1), (+1,+1)]\n",
    "    \n",
    "    result = []\n",
    "    for x, y in offsets:\n",
    "        if row + x >=0 and col + y >= 0: # This check prevents 'wrapping' arround the board.\n",
    "            try:\n",
    "                result.extend(get_square(row + x, col + y, board))\n",
    "            except IndexError:\n",
    "                pass\n",
    "    return result\n",
    "\n",
    "def set_bomb_count(board):\n",
    "    r = len(board)\n",
    "    c = len(board[0])\n",
    "    \n",
    "    for row in range(r):\n",
    "        for col in range(c):\n",
    "            if get_square(row, col, board) != \"B\":\n",
    "                b_count = get3x3(row, col, board).count(\"B\")\n",
    "                set_square(row, col, str(b_count), board)\n",
    "    return board\n",
    "\n",
    "def reveal_square(row, col, player_board, game_board): \n",
    "    p_square = get_square(row, col, player_board)\n",
    "    if p_square in \"012345678F\":\n",
    "        pass\n",
    "    else:\n",
    "        g_square = get_square(row, col, game_board)\n",
    "        set_square(row, col, g_square, player_board)  \n",
    "        if g_square == \"B\":\n",
    "            return \"GAME OVER\"   \n",
    "\n",
    "def flag_square(row, col, player_board):\n",
    "    p_square = get_square(row, col, player_board)\n",
    "    if p_square == \"-\":\n",
    "        set_square(row, col, \"F\", player_board)\n",
    "    elif p_square == \"F\":\n",
    "        set_square(row, col, \"-\", player_board)"
   ]
  },
  {
   "cell_type": "markdown",
   "metadata": {},
   "source": [
    "## Won Game Function..."
   ]
  },
  {
   "cell_type": "code",
   "execution_count": 2,
   "metadata": {},
   "outputs": [],
   "source": [
    "def is_won(p_board, g_board, bombs):\n",
    "\n",
    "    flags_total = 0\n",
    "    flags_correct = 0\n",
    "\n",
    "    for row in range(len(p_board)):\n",
    "        for col in range(len(p_board[0])):\n",
    "            p_square = get_square(row, col, p_board)\n",
    "            g_square = get_square(row, col, g_board)\n",
    "\n",
    "            if p_square == \"F\":\n",
    "                flags_total += 1\n",
    "                if g_square == \"B\":\n",
    "                    flags_correct += 1\n",
    "\n",
    "    return flags_total - flags_correct == 0 and flags_total == bombs"
   ]
  },
  {
   "cell_type": "markdown",
   "metadata": {},
   "source": [
    "## Won Game Explanation...\n",
    "\n",
    "    flags_total = 0\n",
    "    flags_correct = 0\n",
    "\n",
    "So our strategy here is to count the number of total flags and subtract from that the number of correct flags. We want this number to be exactly zero *(if you flag every single square on the board of course you are going to flag ever bomb)*.\n",
    "\n",
    "    return flags_total - flags_correct == 0 and flags_total == bombs\n",
    "\n",
    "This however, is not a sufficient condition, if someone flags just one bomb correctly then that would be considered a won game. Which is why we check the flags_total is equal to the number of bombs. Moving on...\n",
    "\n",
    "    for row in range(len(p_board)):\n",
    "        for col in range(len(p_board[0]))\n",
    "\n",
    "This for-loop plus inner-for-loop combo we iterate through every single square on the board (via indexing).\n",
    "\n",
    "    if p_square == \"F\":\n",
    "        flags_total += 1\n",
    "\n",
    "If the p_board has an \"F\", we increase the total flag_count by one. \n",
    "\n",
    "    if g_square == \"B\":\n",
    "        flags_correct += 1\n",
    "\n",
    "And finally, if the square that the player has flagged is in fact a bomb we increment 'flags_correct' by one."
   ]
  },
  {
   "cell_type": "code",
   "execution_count": 3,
   "metadata": {
    "collapsed": true
   },
   "outputs": [],
   "source": [
    "def ui(ROWS, COLS):\n",
    "    bools = [False, False, False]\n",
    "\n",
    "    while not bools[0]: \n",
    "        x = int(input(\"Please give me an x value in range {}-to-{}.  \".format(0, ROWS-1)))\n",
    "    \n",
    "        if x in range(0, ROWS):\n",
    "            bools[0] = True\n",
    "        else:\n",
    "            print (\"Invalid Input, please try again\")\n",
    "              \n",
    "    while not bools[1]: \n",
    "        y = int(input(\"Please give me an y value in range {}-to-{}.  \".format(0, COLS-1)))\n",
    "    \n",
    "        if y in range(0, COLS):\n",
    "            bools[1] = True   \n",
    "        else:\n",
    "            print (\"Invalid Input, please try again\")\n",
    "              \n",
    "    while not bools[2]:\n",
    "        rf = input('Type \"R\" to reveal a square, or \"F\" to flag a square.  ')\n",
    "              \n",
    "        if rf in \"RrFf\":\n",
    "            bools[2] = True\n",
    "        else:\n",
    "            print (\"Invalid Input, please try again\")\n",
    "              \n",
    "    return  x, y, rf\n",
    "          \n",
    "def play_game(ROWS, COLS, BOMBS):\n",
    "\n",
    "    # Setting the game boards...\n",
    "    g_board = set_bomb_count( build_board(ROWS, COLS, bomb_count = BOMBS) )\n",
    "    p_board = build_board(ROWS, COLS, bomb_count = 0)\n",
    "    # display board...\n",
    "    display_board(p_board)\n",
    "\n",
    "    # Game Loop...          \n",
    "    while True:\n",
    "        x, y, rf = ui(ROWS, COLS)\n",
    "\n",
    "        if rf in \"Rr\":\n",
    "            s = reveal_square(x, y, p_board, g_board)\n",
    "            if s == \"GAME OVER\":\n",
    "                return \"YOU LOSE!\"\n",
    "        elif rf in \"Ff\":\n",
    "            flag_square(x, y, p_board)\n",
    "            if is_won(p_board, g_board, BOMBS):\n",
    "                return \"YOU WIN!\"\n",
    "              \n",
    "        display_board(p_board)"
   ]
  },
  {
   "cell_type": "markdown",
   "metadata": {},
   "source": [
    "## Explaining the UI function...\n",
    "\n",
    "I'll be honest, this is some \"dodgy\" looking code; if I spent more time on it I probably could have come up with something more beautiful than this ugly monstrosity! Notice how repetitive it is? Thats usually a good sign that you can do better. In fact, as my final homework to you go ahead, see if you can improve my function.\n",
    "\n",
    "Anyway, the basics of this function is that it gets the user to enter valid data with the 'input' built-in. Once we have the data we need we return it. Honestly there is little else to say really. \n",
    "\n",
    "Actaully, maybe I should explain while-loops but do I need to? At this point in the guide if you don't know something you should be googling it, not waiting for me to spoon-feed you! \n",
    "\n",
    "## Explaining the 'play game' function...\n",
    "\n",
    "    x, y, rf = ui(ROWS, COLS)\n",
    "    \n",
    "So this is a new bit of Python syntax you might need help understanding. The short version is that the 'ui' function returns three values, and these values instead of being returned are being saved as varaibles. Yes you can do that!\n",
    "\n",
    "    def ui(ROWS, COLS):\n",
    "    # ...Lots of code...\n",
    "        return  x, y, rf\n",
    "\n",
    "In this case the 'x', 'y' and 'rf' values are being saved as 'x', 'y', and 'rf' within the 'play_game' function. I used the same name 'cuz reada-feckin-bility!\n",
    "\n",
    "## Detour; unpacking.\n",
    "\n",
    "Here's another example of the above concept:"
   ]
  },
  {
   "cell_type": "code",
   "execution_count": 4,
   "metadata": {},
   "outputs": [
    {
     "name": "stdout",
     "output_type": "stream",
     "text": [
      "5 4 3 2 1\n"
     ]
    }
   ],
   "source": [
    "def simple_example():\n",
    "    return 1, 2, 3, 4, 5\n",
    "\n",
    "one, two, three, four, five = simple_example()\n",
    "\n",
    "print(five, four, three, two, one)"
   ]
  },
  {
   "cell_type": "markdown",
   "metadata": {},
   "source": [
    "Note that this only works because we have five names to assign and five items being returned. What happens if we mess up the numbers involved?"
   ]
  },
  {
   "cell_type": "code",
   "execution_count": 5,
   "metadata": {},
   "outputs": [
    {
     "ename": "ValueError",
     "evalue": "too many values to unpack (expected 2)",
     "output_type": "error",
     "traceback": [
      "\u001b[0;31m---------------------------------------------------------------------------\u001b[0m",
      "\u001b[0;31mValueError\u001b[0m                                Traceback (most recent call last)",
      "\u001b[0;32m<ipython-input-5-72242f54f8f3>\u001b[0m in \u001b[0;36m<module>\u001b[0;34m()\u001b[0m\n\u001b[0;32m----> 1\u001b[0;31m \u001b[0mone\u001b[0m\u001b[0;34m,\u001b[0m \u001b[0mtwo\u001b[0m \u001b[0;34m=\u001b[0m \u001b[0msimple_example\u001b[0m\u001b[0;34m(\u001b[0m\u001b[0;34m)\u001b[0m\u001b[0;34m\u001b[0m\u001b[0m\n\u001b[0m",
      "\u001b[0;31mValueError\u001b[0m: too many values to unpack (expected 2)"
     ]
    }
   ],
   "source": [
    "one, two = simple_example()"
   ]
  },
  {
   "cell_type": "markdown",
   "metadata": {},
   "source": [
    "Yes thats right, we get a rather helpful error message! Python expects the function to return two items but it returns five. And now poor old python doesn't know what to do.\n",
    "\n",
    "You get it? I bet you don't lol. Here, let me confuse you!"
   ]
  },
  {
   "cell_type": "code",
   "execution_count": null,
   "metadata": {},
   "outputs": [],
   "source": [
    "everything = simple_example()\n",
    "\n",
    "print(everything)"
   ]
  },
  {
   "cell_type": "markdown",
   "metadata": {},
   "source": [
    "Thats wierd right? We give Python five names and it works, we give Python two names and it throws and error. And finally, if we give it just one name to assign a value to Python works again. \n",
    "\n",
    "The awnser is that when you try to return multiple variables Python returns a tuple containing those variables. \n",
    "\n",
    "> What's a tuple? \n",
    "\n",
    "Google it. But, if you are simply too lazy to Google just think of a tuples as being a 'specail type' of list. So, you give Python one variable name and Python says:\n",
    "\n",
    "> \"ah I see, you want me to assign the whole 'list' to the name. Okay sure, I can do that.\"\n",
    "\n",
    "But when you give Python multiple names to assign values to Python tried to \"unpack\" the tuple; one name for each item. And thats why you get an error when you give it too many/too few names to assign."
   ]
  },
  {
   "cell_type": "code",
   "execution_count": null,
   "metadata": {},
   "outputs": [],
   "source": [
    "a, b, c, d, e, f = simple_example() ## To many names to handle!"
   ]
  },
  {
   "cell_type": "markdown",
   "metadata": {},
   "source": [
    "## Alright, back to the 'play game' function...\n",
    "\n",
    "    x, y, rf = ui(ROWS, COLS)\n",
    "\n",
    "        if rf in \"Rr\":\n",
    "            s = reveal_square(x, y, p_board, g_board)\n",
    "            if s == \"GAME OVER\":\n",
    "                return \"YOU LOSE!\"\n",
    "\n",
    "Alright so what's going on here? well, remember x, y are integers that the player gave us. remember also that rf is one of [\"r\", \"R\", \"f\", \"F\"].\n",
    "\n",
    "In our code if the player typed in \"R\" that means that want to reveal square(x, y). So we set up an if statement to check rf does equal \"R\". If it does, we call the reveal square function and see what happens. \n",
    "\n",
    "In this case the variable name \"s\" *(a bad variable name, by the way, what a naughty hamster I am!)* equals either nothing at all or the string \"GAME OVER\". In the latter case we exit the game loop with a return statement. \n",
    "\n",
    "     elif rf in \"Ff\":\n",
    "            flag_square(x, y, p_board)\n",
    "            if is_won(p_board, g_board):\n",
    "                return \"YOU WIN!\"\n",
    "                \n",
    "If rf is an \"F\" or \"f\", the player intended to flag a square, and so we do just that. Now that the player have flagged a square we want to check if the game is over (i.e. the player has flagged all the bombs). If they have, we exit the game loop. If not though, we continue...\n",
    "\n",
    "    display_board(p_board)\n",
    "    \n",
    "Prints the board to the console. Oh by the way, I \"upgraded\" this function since you last saw it, it now not only prints the board but also prints the board cordinates on the side. Cool huh?\n",
    "\n",
    "But after this statement we reach the end of our function. What happens now? Well, notice all the above code was contained within a while loops:\n",
    "\n",
    "    While True:\n",
    "        ## ... main code ...\n",
    "        \n",
    "This means that we will continue the above pattern either until the end of time or (more likely) the player wins or loses the game. \n",
    "\n",
    "Below I've played a game  to show you how it works. If you wish, you can play a game for yourself too. "
   ]
  },
  {
   "cell_type": "markdown",
   "metadata": {},
   "source": [
    "## Playing the Game!"
   ]
  },
  {
   "cell_type": "code",
   "execution_count": 6,
   "metadata": {},
   "outputs": [
    {
     "name": "stdout",
     "output_type": "stream",
     "text": [
      "0| ['-', '-', '-']\n",
      "1| ['-', '-', '-']\n",
      "2| ['-', '-', '-']\n",
      "------------------\n",
      "    '0'  '1'  '2'  \n",
      "Please give me an x value in range 0-to-2.  1\n",
      "Please give me an y value in range 0-to-2.  1\n",
      "Type \"R\" to reveal a square, or \"F\" to flag a square.  f\n",
      "0| ['-', '-', '-']\n",
      "1| ['-', 'F', '-']\n",
      "2| ['-', '-', '-']\n",
      "------------------\n",
      "    '0'  '1'  '2'  \n",
      "Please give me an x value in range 0-to-2.  1\n",
      "Please give me an y value in range 0-to-2.  0\n",
      "Type \"R\" to reveal a square, or \"F\" to flag a square.  r\n",
      "0| ['-', '-', '-']\n",
      "1| ['2', 'F', '-']\n",
      "2| ['-', '-', '-']\n",
      "------------------\n",
      "    '0'  '1'  '2'  \n",
      "Please give me an x value in range 0-to-2.  0\n",
      "Please give me an y value in range 0-to-2.  2\n",
      "Type \"R\" to reveal a square, or \"F\" to flag a square.  r\n",
      "0| ['-', '-', '1']\n",
      "1| ['2', 'F', '-']\n",
      "2| ['-', '-', '-']\n",
      "------------------\n",
      "    '0'  '1'  '2'  \n",
      "Please give me an x value in range 0-to-2.  0\n",
      "Please give me an y value in range 0-to-2.  1\n",
      "Type \"R\" to reveal a square, or \"F\" to flag a square.  r\n",
      "0| ['-', '2', '1']\n",
      "1| ['2', 'F', '-']\n",
      "2| ['-', '-', '-']\n",
      "------------------\n",
      "    '0'  '1'  '2'  \n",
      "Please give me an x value in range 0-to-2.  0\n",
      "Please give me an y value in range 0-to-2.  0\n",
      "Type \"R\" to reveal a square, or \"F\" to flag a square.  f\n"
     ]
    },
    {
     "data": {
      "text/plain": [
       "'YOU WIN!'"
      ]
     },
     "execution_count": 6,
     "metadata": {},
     "output_type": "execute_result"
    }
   ],
   "source": [
    "random.seed(20) ## Used for testing... it \"rigs\" the RNG, lol\n",
    "play_game(3,3,2) "
   ]
  },
  {
   "cell_type": "markdown",
   "metadata": {},
   "source": [
    "## Conclusion\n",
    "\n",
    "Aright so after a fair bit of effort we managed to get a fairly basic version of minesweeper working. If you want to take the project further you can always experiment by adding new features or trying to make the game itself more fun to play (is losing on the first turn of the game fun?). But for this guide what we have now will do. \n",
    "\n",
    "Alright, thats it folks, peace out!"
   ]
  }
 ],
 "metadata": {
  "kernelspec": {
   "display_name": "Python 3",
   "language": "python",
   "name": "python3"
  },
  "language_info": {
   "codemirror_mode": {
    "name": "ipython",
    "version": 3
   },
   "file_extension": ".py",
   "mimetype": "text/x-python",
   "name": "python",
   "nbconvert_exporter": "python",
   "pygments_lexer": "ipython3",
   "version": "3.7.4"
  }
 },
 "nbformat": 4,
 "nbformat_minor": 2
}
