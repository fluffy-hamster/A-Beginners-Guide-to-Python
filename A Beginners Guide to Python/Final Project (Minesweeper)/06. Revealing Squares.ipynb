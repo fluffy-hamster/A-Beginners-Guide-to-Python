{
 "cells": [
  {
   "cell_type": "markdown",
   "metadata": {},
   "source": [
    "Okay so lets quickly recap where we are at with this project:\n",
    " \n",
    "* We have built the 'board function'\n",
    "* We can print the board.\n",
    "* We can set the board to display the correct number of neughor bombs.\n",
    "\n",
    "And finally, let's quickly consider what we have left to do:\n",
    "\n",
    "* create a 'reveal square' function.\n",
    "* create a 'flag square' function.\n",
    "* Add win/loss checks, a UI, set-up functions, bling\n",
    "* Bring everything together\n",
    "\n",
    "Today we shall be focus on the reveal square function.\n",
    "\n",
    "## ToDo\n",
    "\n",
    "Okay, so here's the basic implementation idea. When we start a new game we create two boards:\n",
    "\n",
    "* The 'game board' (with bombs) -- Hidden from player\n",
    "* The 'player board' (with flags and numbers) -- This is what the players sees during the game.\n",
    "\n",
    "The player board will have the same dimensions as the game board. This means that the square (0, 0) on the game board corressponds to same square on the player board. You may remember that when we wrote the 'build_board' function I advised you to make it generalisable. Well, the effort is about to pay-off; we can create both of our boards with just a few lines of code:"
   ]
  },
  {
   "cell_type": "code",
   "execution_count": null,
   "metadata": {},
   "outputs": [],
   "source": [
    "NUMBER_OF_ROWS  = 3\n",
    "NUMBER_OF_COLS  = 3\n",
    "NUMBER_OF_BOMBS = 2 # You may remember that all_caps mean that these variables should NOT change values at runtime.\n",
    "\n",
    "game_board = build_board(NUMBER_OF_ROWS, NUMBER_OF_COLS, bomb_count = NUMBER_OF_BOMBS)\n",
    "player_board = build_board(NUMBER_OF_ROWS, NUMBER_OF_COLS, bomb_count=0)"
   ]
  },
  {
   "cell_type": "markdown",
   "metadata": {},
   "source": [
    "## The Reveal function\n",
    "\n",
    "* Take a square as input and reveal a square to the player (said square will be either a bomb or a number)\n",
    "* In the case of revealing a bomb, its game over.\n",
    "* If we reveal a number, it should stay revealed until the end of the game. \n",
    "* If we highlight an already selected square (e.g a number or the letter \"F\") we should do nothing. \n",
    "\n",
    "## The Flag Function\n",
    "\n",
    "* If the selected square is flagged, de-flag it.\n",
    "* If the square is already revealed (e.g. a flag or a number) we should do nothing.\n",
    "* If we flag a square, the player board should display an \"F\" character. \n",
    "\n",
    "Also note that if the player flags all (and only) bombs then the player has won the game. You may wish to bear that in mind as you write your functions...\n",
    "\n",
    "Also as you read the requirements it should hopefully occur to you that the flag and reveal square functions are actually rather similar. What do this mean? What should you do as a result of this similiarity?"
   ]
  },
  {
   "cell_type": "code",
   "execution_count": null,
   "metadata": {},
   "outputs": [],
   "source": [
    "def test_board():\n",
    "    \"\"\"\n",
    "    Write your tests here...\n",
    "    \n",
    "    Example:\n",
    "    >>> 1 + 1\n",
    "    2\n",
    "    \n",
    "    \"\"\"\n",
    "    import doctest\n",
    "    doctest.testmod()\n",
    "    print(\"TESTING COMPLETE... if you see nothing, (other than this message) that means all tests passed.\")"
   ]
  },
  {
   "cell_type": "code",
   "execution_count": null,
   "metadata": {},
   "outputs": [],
   "source": [
    "def reveal_square(row, col, player_board, game_board):\n",
    "    # Your code here...\n",
    "    pass\n",
    "\n",
    "# testing...\n",
    "test()"
   ]
  },
  {
   "cell_type": "code",
   "execution_count": null,
   "metadata": {},
   "outputs": [],
   "source": [
    "def flag_square(row, col, player_board):\n",
    "    # Your code here...\n",
    "    pass\n",
    "\n",
    "# testing...\n",
    "test()"
   ]
  }
 ],
 "metadata": {
  "kernelspec": {
   "display_name": "Python 3",
   "language": "python",
   "name": "python3"
  },
  "language_info": {
   "codemirror_mode": {
    "name": "ipython",
    "version": 3
   },
   "file_extension": ".py",
   "mimetype": "text/x-python",
   "name": "python",
   "nbconvert_exporter": "python",
   "pygments_lexer": "ipython3",
   "version": "3.7.4"
  }
 },
 "nbformat": 4,
 "nbformat_minor": 2
}
