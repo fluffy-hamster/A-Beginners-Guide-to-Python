{
 "cells": [
  {
   "cell_type": "markdown",
   "metadata": {},
   "source": [
    "So my the code for my solution can be found in:\n",
    "\n",
    "    ../misc/minesweeper.py\n",
    "    \n",
    " In this lecture I shall be going through some bits of code and explaining parts of it. I encourage you to read it before going any further with this lecture.\n",
    " \n",
    "The first thing you may notice is that this file in actually a jupyter notebook. There are a few reasons why I ended up making this a normal .py file, but the main was that as projects get bigger the harder it is to use jupyter notebook. Moreover, notebooks have limited debugging capabilities, so by having a file that I could open with a code editor allowed me to spot my mistakes a bit faster.\n",
    "\n",
    "Anyway, the code is more or less split up into three main parts:\n",
    "\n",
    "1. The game logic (i.e. code for creating boards, revealing squares, etc)\n",
    "2. Code to understand user input (that is, the code that can map an instruction such as 'flag 0 0' to a function call.\n",
    "3. Code to that starts the game and runs the game-loop.\n",
    "\n",
    "Part 1 should be straight-forward, its just the combination of all the mini-projects we have done with a few tweeks modifications here and there to fix bugs and general improvements to code quality (such as improved variable naming). \n",
    "\n",
    "Part 2 is a bit of a beast, so I'll leave that till last.\n",
    "\n",
    "This leaves Part 3 to talk about.\n",
    "\n",
    "\n",
    "## if \\__name__ == \"\\__main__\""
   ]
  },
  {
   "cell_type": "code",
   "execution_count": 48,
   "metadata": {},
   "outputs": [
    {
     "name": "stdout",
     "output_type": "stream",
     "text": [
      "2\n"
     ]
    }
   ],
   "source": [
    "## Assume that this code exists in a file named example.py\n",
    "\n",
    "def main():\n",
    "    print(1 + 1)\n",
    "\n",
    "if __name__ == \"__main__\":\n",
    "    main()"
   ]
  },
  {
   "cell_type": "markdown",
   "metadata": {},
   "source": [
    "The above bit of boiler-plate code is useful in a number of situations. Indeed, this is a pattern I regularly find myself using when writing scripts.\n",
    "\n",
    "The if-statement asks if the file has been opened 'directly'. If it has, we call main.  This means that if I call the above bit of code from the command line like so:\n",
    "\n",
    "    > python example.py \n",
    "    \n",
    "then the code works and it prints 2 to the console. \n",
    "\n",
    "However if I create a new python file and try to import the module like so:\n",
    "\n",
    "    import example\n",
    "    \n",
    "Nothing happens. This is because when you import a file, its \\__name__ is not equal to \\__main__.  \n",
    "\n",
    "We can however have our cake and eat it too; we can make the code work in both cases by calling main when importing the file. for example:\n",
    "\n",
    "    import example\n",
    "    \n",
    "    example.main()\n",
    "    \n",
    "So by using this pattern I can make it possible to import minesweeper.py into a jupyter notebook and it also works when you call minesweeper.py directly from the command line.\n",
    "\n",
    "### Main Function"
   ]
  },
  {
   "cell_type": "code",
   "execution_count": null,
   "metadata": {},
   "outputs": [],
   "source": [
    "def main():\n",
    "    DEBUG = False #True\n",
    "\n",
    "    if DEBUG:\n",
    "        random.seed(243)\n",
    "\n",
    "    print(\"+--------------------------------+\")\n",
    "    print(\"|   WELCOME TO MINSWEEPER 1.0!   |\")\n",
    "    print(\"+--------------------------------+\")\n",
    "    print(\"How to play: type 'commands' for a list of valid inputs. Then type 'help x' for information about how to use command 'x'\")\n",
    "    print(\"\")\n",
    "\n",
    "    game = PlayGame()\n",
    "\n",
    "    while game.is_playing:\n",
    "        s = input(\"Command: \")\n",
    "        game.parse_command(s)\n",
    "        display_board(game.player_board)\n",
    "        print(\"\\n\")"
   ]
  },
  {
   "cell_type": "markdown",
   "metadata": {},
   "source": [
    "As for the main function itself, this ought to be at least somewhat easy to follow. We have a debug switch that allows us to determine where bombs are placed. We use this for testing. \n",
    "\n",
    "The only other new things is that we have a class object called PlayGame. In this guide I've only briefly touched on classes, and so I shall not go into super detail about how classes work. But the short version is that the game object stores information about the game in progress, and the game continues all the while game.is_playing is set to True.\n",
    "\n",
    "The input function waits for the user to give us information. This is how we can make a move."
   ]
  },
  {
   "cell_type": "code",
   "execution_count": 4,
   "metadata": {},
   "outputs": [
    {
     "name": "stdout",
     "output_type": "stream",
     "text": [
      "give me a number: 10\n",
      "your selected number is:  10\n"
     ]
    }
   ],
   "source": [
    "number = input(\"give me a number: \")\n",
    "print(\"your selected number is: \", number)"
   ]
  },
  {
   "cell_type": "markdown",
   "metadata": {},
   "source": [
    "Most of the code in the PlayGame function is concerned with parsing information from the user. When writing code, sometimes you have to make trade-offs, you can make things faster as the cost of memory, for example.\n",
    " \n",
    "In this particular case I've made the code quite flexible and concise, at the cost of complexity. "
   ]
  },
  {
   "cell_type": "code",
   "execution_count": 19,
   "metadata": {},
   "outputs": [
    {
     "name": "stdout",
     "output_type": "stream",
     "text": [
      "Shows the location of all bombs. Example useage: cheat\n",
      "flag function was called. x = 0, y = 7\n",
      "cheating!\n"
     ]
    }
   ],
   "source": [
    "def flag(x, y):\n",
    "    print(f\"flag function was called. x = {x}, y = {y}\")\n",
    "\n",
    "def _help(topic=None):\n",
    "    if topic:\n",
    "        print(COMMANDS[topic][1])\n",
    "\n",
    "def cheat():\n",
    "    print(\"cheating!\")\n",
    "\n",
    "## Command -> (function, help text)\n",
    "COMMANDS = {\n",
    "            \"flag\": (flag, \"Flags/deflags square(x,y). Example useage: flag x y\"),\n",
    "            \"help\": (_help,  \"Selects square(x, y) to reveal, its game over if you reveal a bomb. Example useage: pick x y\"),\n",
    "            \"cheat\": (cheat, \"Shows the location of all bombs. Example useage: cheat\") }\n",
    "    \n",
    "def parse_command(command):\n",
    "        instruction, *arguments = command.split(\" \")\n",
    "\n",
    "        if instruction in COMMANDS:\n",
    "            return COMMANDS[instruction][0](*arguments)\n",
    "        else:\n",
    "            print(\"Parsing instruction failed\")\n",
    "            \n",
    "# Example Calls:\n",
    "command = \"help cheat\"\n",
    "parse_command(command)\n",
    "\n",
    "command2 = \"flag 0 7\"\n",
    "parse_command(command2)\n",
    "\n",
    "command3 = \"cheat\"\n",
    "parse_command(command3)"
   ]
  },
  {
   "cell_type": "markdown",
   "metadata": {},
   "source": [
    "So the above code snippet is a smaller, simpler version of the code you will find in my mindsweeper implementation. Here's the problem: what want to support multiple commands, each of which have their own arguments. Some need several arguments from the user to work, others need zero arguments from the user. How can we handle multiple cases?\n",
    " \n",
    "Well, one possible way to do it would be to use multiple if statements like this:"
   ]
  },
  {
   "cell_type": "code",
   "execution_count": 20,
   "metadata": {},
   "outputs": [
    {
     "name": "stdout",
     "output_type": "stream",
     "text": [
      "Shows the location of all bombs. Example useage: cheat\n",
      "flag function was called. x = 0, y = 7\n",
      "cheating!\n"
     ]
    }
   ],
   "source": [
    "def parse_command_if_version(command):\n",
    "    c = command.split(\" \")\n",
    "    \n",
    "    instruction = c[0]\n",
    "    args = c[1:]\n",
    "    \n",
    "    if instruction == \"help\":     \n",
    "        if len(args) == 0:\n",
    "            return _help()\n",
    "        if len(args) == 1:\n",
    "            topic = args[0]\n",
    "            return _help(topic)\n",
    "\n",
    "    if instruction == \"cheat\":\n",
    "        return cheat()\n",
    "    \n",
    "    if instruction == \"flag\":\n",
    "        x = args[0]\n",
    "        y = args[1]\n",
    "        \n",
    "        return flag(x, y)\n",
    "    \n",
    "# Example Calls:\n",
    "command = \"help cheat\"\n",
    "parse_command_if_version(command)\n",
    "\n",
    "command2 = \"flag 0 7\"\n",
    "parse_command_if_version(command2)\n",
    "\n",
    "command3 = \"cheat\"\n",
    "parse_command_if_version(command3)"
   ]
  },
  {
   "cell_type": "markdown",
   "metadata": {},
   "source": [
    "So this code would more or less do the same job. And although its easier to understand it does have the drawback that for every additional command we add we need to add several lines of code. Meanwhile, the solution I went for does away with all those nested if statements. In fact, adding an extra command requires just a single line of code (which we add to the COMMANDS dictionary).  \n",
    "\n",
    "The 'cleverness' of my implementation can be seen in these two lines:\n",
    "    \n",
    "    instruction, *arguments = command.split(\" \")\n",
    "    COMMANDS[instruction][0](*arguments)\n",
    "\n",
    "The first line is more or less equivlent to the following:\n",
    "    \n",
    "    instruction = command[0]\n",
    "    arguments   = command[1:]\n",
    "    \n",
    "The second line can only be understood with reference to the COMMANDS dictionary. Basically every command has a tuple with two elements. The first element (index 0) is the function we want to call (index 1 is the 'help text'). Meanwhile \\*arguments will take a list of items and pass them to the function individually."
   ]
  },
  {
   "cell_type": "code",
   "execution_count": 10,
   "metadata": {},
   "outputs": [
    {
     "name": "stdout",
     "output_type": "stream",
     "text": [
      "3\n",
      "3\n"
     ]
    }
   ],
   "source": [
    "def add(a, b):\n",
    "    return a + b\n",
    "\n",
    "nums = [1, 2]\n",
    "    \n",
    "# add(nums) # this would fail \n",
    "print(add(nums[0], nums[1])) \n",
    "print(add(*nums))"
   ]
  },
  {
   "cell_type": "markdown",
   "metadata": {},
   "source": [
    "By the way, in python it is possible to save a function as a variable (with the idea of calling it later), which the code below below hopefully illustrates:"
   ]
  },
  {
   "cell_type": "code",
   "execution_count": 14,
   "metadata": {},
   "outputs": [
    {
     "name": "stdout",
     "output_type": "stream",
     "text": [
      "20\n",
      "20\n"
     ]
    }
   ],
   "source": [
    "def example(number):\n",
    "    return number\n",
    "\n",
    "m = example # example is NOT called. m is merely a reference to a function.\n",
    "n = example(20) # n calls example with the argument 20. The result is a number \n",
    "\n",
    "print(n)\n",
    "print(m(20)) # m(20) is the same as example(20)"
   ]
  },
  {
   "cell_type": "markdown",
   "metadata": {},
   "source": [
    "Combining all of these things means it is possible to write an argument parser in just a few lines of code. Moreover, adding new commands requires very little effort.\n",
    " \n",
    "another reason why my implementation is more powerful than if statements is that I can, with minor modifications use it in other projects. For example:"
   ]
  },
  {
   "cell_type": "code",
   "execution_count": 46,
   "metadata": {},
   "outputs": [],
   "source": [
    "def parse_command(command, command_dictionary):\n",
    "    \"\"\"\n",
    "    command: str\n",
    "    command_dictionary: dict where the key a command and the value is a function reference \n",
    "    \"\"\"\n",
    "    instruction, *arguments = command.split(\" \")\n",
    "\n",
    "    if instruction in command_dictionary:\n",
    "        return command_dictionary[instruction](*arguments)\n",
    "    else:\n",
    "        return f\"ERROR: '{instruction}' is not a valid command\"\n",
    "            \n",
    "math_dict = { \"sqrt\": lambda x: int(x)**0.5, \n",
    "              \"round\": lambda x, precision: round(float(x), int(precision)),\n",
    "              \"neg\": lambda x: -float(x) }\n",
    "\n",
    "string_dict = { \"toCaps\": str.upper,\n",
    "                \"reverse\": lambda x: x[::-1],\n",
    "                \"join\": lambda *x: \"\".join(list(x))} "
   ]
  },
  {
   "cell_type": "code",
   "execution_count": 47,
   "metadata": {},
   "outputs": [
    {
     "name": "stdout",
     "output_type": "stream",
     "text": [
      "STRING_DICT EXAMPLES...\n",
      "HELLO\n",
      "world\n",
      "hello_world\n",
      "\n",
      "MATH_DICT EXAMPLES...\n",
      "1.4142135623730951\n",
      "11.0\n",
      "2.0\n",
      "ERROR: 'missing' is not a valid command\n"
     ]
    }
   ],
   "source": [
    "print(\"STRING_DICT EXAMPLES...\")\n",
    "print(parse_command(\"toCaps hello\", string_dict))\n",
    "print(parse_command(\"reverse dlrow\", string_dict))\n",
    "print(parse_command(\"join h e l l o _ w o r l d\", string_dict))\n",
    "print()\n",
    "\n",
    "\n",
    "print(\"MATH_DICT EXAMPLES...\")\n",
    "print(parse_command(\"sqrt 2\", math_dict))\n",
    "print(parse_command(\"round 10.98 1\", math_dict))\n",
    "print(parse_command(\"neg -2\", math_dict))\n",
    "\n",
    "print(parse_command(\"missing a b c\", math_dict))"
   ]
  },
  {
   "cell_type": "markdown",
   "metadata": {},
   "source": [
    "So now hopefully you can see that although the code is more complication than if-statements it is also more powerful. It took me very little effort to convert my parse_command function (which was initially designed with minesweeper in mind) to something that can be used in multiple projects.\n",
    "\n",
    "How would you do this with if statements? It would be messy, I suspect."
   ]
  }
 ],
 "metadata": {
  "kernelspec": {
   "display_name": "Python 3",
   "language": "python",
   "name": "python3"
  },
  "language_info": {
   "codemirror_mode": {
    "name": "ipython",
    "version": 3
   },
   "file_extension": ".py",
   "mimetype": "text/x-python",
   "name": "python",
   "nbconvert_exporter": "python",
   "pygments_lexer": "ipython3",
   "version": "3.7.4"
  }
 },
 "nbformat": 4,
 "nbformat_minor": 2
}
