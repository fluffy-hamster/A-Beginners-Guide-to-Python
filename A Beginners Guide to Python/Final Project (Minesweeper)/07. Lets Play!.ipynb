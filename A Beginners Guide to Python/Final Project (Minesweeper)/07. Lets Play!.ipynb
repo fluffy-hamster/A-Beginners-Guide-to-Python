{
 "cells": [
  {
   "cell_type": "markdown",
   "metadata": {},
   "source": [
    "## Lets play Minesweeper\n",
    "\n",
    "This lecture is a chill one. All I am going to do is play my implementation of minesweeper. I'll show you the code in the next lecture."
   ]
  },
  {
   "cell_type": "code",
   "execution_count": 1,
   "metadata": {},
   "outputs": [
    {
     "name": "stdout",
     "output_type": "stream",
     "text": [
      "+--------------------------------+\n",
      "|   WELCOME TO MINSWEEPER 1.0!   |\n",
      "+--------------------------------+\n",
      "How to play: type 'commands' for a list of valid inputs. Then type 'help x' for information about how to use command 'x'\n",
      "\n",
      "Command: commands\n",
      "dict_keys(['flag', 'pick', 'hint', 'new', 'cheat', 'help', 'commands', 'exit'])\n",
      "[]\n",
      "\n",
      "\n",
      "Command: help exit\n",
      "Exit the application. Example useage: exit\n",
      "[]\n",
      "\n",
      "\n",
      "Command: help new\n",
      "Starts a new game with a board size of (x,y) with z bombs. Example useage: new x y z\n",
      "[]\n",
      "\n",
      "\n",
      "Command: help hint\n",
      "The computer checks if square(x, y) is a bomb or not. Example useage: hint x y\n",
      "[]\n",
      "\n",
      "\n",
      "Command: help flag\n",
      "Flags/deflags square(x,y). Example useage: flag x y\n",
      "[]\n",
      "\n",
      "\n",
      "Command: help pick\n",
      "Selects square(x, y) to reveal, its game over if you reveal a bomb. Example useage: pick x y\n",
      "[]\n",
      "\n",
      "\n",
      "Command: exit\n",
      "[]\n",
      "\n",
      "\n"
     ]
    }
   ],
   "source": [
    "import sys\n",
    "sys.path.append(\"..\\misc\") # Adding to sys.path allows us to find \"minsweeper.py\" \n",
    "\n",
    "import minesweeper\n",
    "\n",
    "minesweeper.main()"
   ]
  },
  {
   "cell_type": "markdown",
   "metadata": {},
   "source": [
    "So as you can see, to make the game more playable I have enabled to program to listen to instructions and execute them. By typing commands we see a list of all the availible instructions and help instruction tells us what how we can use that instruction. This is all the information we should need in order to play a game of minesweeper. Okay, lets play a game for 3x3 with 4 bombs..."
   ]
  },
  {
   "cell_type": "code",
   "execution_count": 2,
   "metadata": {},
   "outputs": [
    {
     "name": "stdout",
     "output_type": "stream",
     "text": [
      "+--------------------------------+\n",
      "|   WELCOME TO MINSWEEPER 1.0!   |\n",
      "+--------------------------------+\n",
      "How to play: type 'commands' for a list of valid inputs. Then type 'help x' for information about how to use command 'x'\n",
      "\n",
      "Command: new 3 3 4\n",
      "['-', '-', '-']\n",
      "['-', '-', '-']\n",
      "['-', '-', '-']\n",
      "\n",
      "\n",
      "Command: pick 0 1\n",
      "['-', '2', '-']\n",
      "['-', '-', '-']\n",
      "['-', '-', '-']\n",
      "\n",
      "\n",
      "Command: hint 0 2\n",
      "Is square(0,2) a bomb?: False\n",
      "['-', '2', '-']\n",
      "['-', '-', '-']\n",
      "['-', '-', '-']\n",
      "\n",
      "\n",
      "Command: pick 0 2\n",
      "['-', '2', '1']\n",
      "['-', '-', '-']\n",
      "['-', '-', '-']\n",
      "\n",
      "\n",
      "Command: cheat\n",
      "['-', '-', '-']\n",
      "['B', 'B', '-']\n",
      "['B', 'B', '-']\n",
      "\n",
      "\n",
      "['-', '2', '1']\n",
      "['-', '-', '-']\n",
      "['-', '-', '-']\n",
      "\n",
      "\n",
      "Command: flag 1 0\n",
      "['-', '2', '1']\n",
      "['F', '-', '-']\n",
      "['-', '-', '-']\n",
      "\n",
      "\n",
      "Command: flag 1 1\n",
      "['-', '2', '1']\n",
      "['F', 'F', '-']\n",
      "['-', '-', '-']\n",
      "\n",
      "\n",
      "Command: pick 0 0\n",
      "['2', '2', '1']\n",
      "['F', 'F', '-']\n",
      "['-', '-', '-']\n",
      "\n",
      "\n",
      "Command: pick 2 0\n",
      "============\n",
      "GAME OVER\n",
      "=============\n",
      "['-', '-', '-']\n",
      "['B', 'B', '-']\n",
      "['B', 'B', '-']\n",
      "[]\n",
      "\n",
      "\n",
      "Command: exit\n",
      "[]\n",
      "\n",
      "\n"
     ]
    }
   ],
   "source": [
    "minesweeper.main()"
   ]
  },
  {
   "cell_type": "markdown",
   "metadata": {},
   "source": [
    "So there you have it. Feel free to play a game yourself. A magic internet cookie goes to anyone how can find a bug!\n",
    "\n",
    "If you want to inspect the code you'll find it in the 'misc' folder."
   ]
  }
 ],
 "metadata": {
  "kernelspec": {
   "display_name": "Python 3",
   "language": "python",
   "name": "python3"
  },
  "language_info": {
   "codemirror_mode": {
    "name": "ipython",
    "version": 3
   },
   "file_extension": ".py",
   "mimetype": "text/x-python",
   "name": "python",
   "nbconvert_exporter": "python",
   "pygments_lexer": "ipython3",
   "version": "3.7.4"
  }
 },
 "nbformat": 4,
 "nbformat_minor": 2
}
