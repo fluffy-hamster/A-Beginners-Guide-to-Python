{
 "cells": [
  {
   "cell_type": "code",
   "execution_count": 1,
   "metadata": {},
   "outputs": [],
   "source": [
    "def test():\n",
    "    \"\"\"\n",
    "    >>> display_board([['-', 'B', '-'], ['-', 'B', 'B'], ['-', '-', '-']])\n",
    "    ['-', 'B', '-']\n",
    "    ['-', 'B', 'B']\n",
    "    ['-', '-', '-']\n",
    "    >>> display_board([['-', 'B', '-'], ['-', 'B', 'B']])\n",
    "    ['-', 'B', '-']\n",
    "    ['-', 'B', 'B']\n",
    "    >>> display_board([['-', 'B', '-','-', 'B', 'B']])\n",
    "    ['-', 'B', '-', '-', 'B', 'B']\n",
    "    >>> display_board([['-', '-'], ['B', '-'], ['-', '-'], ['-', 'B'], ['-', '-'], ['-', '-']])\n",
    "    ['-', '-']\n",
    "    ['B', '-']\n",
    "    ['-', '-']\n",
    "    ['-', 'B']\n",
    "    ['-', '-']\n",
    "    ['-', '-']\n",
    "    >>> display_board([['B']])\n",
    "    ['B']\n",
    "    \"\"\"\n",
    "    import doctest\n",
    "    doctest.testmod()\n",
    "    print(\"TESTING COMPLETE... if you see nothing, (other than this message) that means all tests passed.\")"
   ]
  },
  {
   "cell_type": "markdown",
   "metadata": {},
   "source": [
    "## Possible Solution"
   ]
  },
  {
   "cell_type": "code",
   "execution_count": 2,
   "metadata": {},
   "outputs": [
    {
     "name": "stdout",
     "output_type": "stream",
     "text": [
      "TESTING COMPLETE... if you see nothing, (other than this message) that means all tests passed.\n"
     ]
    }
   ],
   "source": [
    "def display_board(board):\n",
    "    for row in board:\n",
    "        print(row)\n",
    "        \n",
    "# Runing the tests...\n",
    "test()\n",
    "# Note if you recieve an error message saying test_board not found \n",
    "# try hitting the run button on the test_board cell and try again."
   ]
  },
  {
   "cell_type": "markdown",
   "metadata": {},
   "source": [
    "## Alternate Solution"
   ]
  },
  {
   "cell_type": "code",
   "execution_count": 3,
   "metadata": {},
   "outputs": [
    {
     "name": "stdout",
     "output_type": "stream",
     "text": [
      "TESTING COMPLETE... if you see nothing, (other than this message) that means all tests passed.\n"
     ]
    }
   ],
   "source": [
    "def display_board(board):\n",
    "    print(*board, sep=\"\\n\")\n",
    "        \n",
    "# Runing the tests...\n",
    "test()\n",
    "# Note if you recieve an error message saying test_board not found \n",
    "# try hitting the run button on the test_board cell and try again."
   ]
  },
  {
   "cell_type": "markdown",
   "metadata": {},
   "source": [
    "The alternate solution uses a concept we haven't seen in this course, if you want to know how it works you need to google \"unpacking\" in Python. \n",
    "\n",
    "You might be wondering why this function was so easy for me. Well, the answer is because I have already done the hard-work creating a 2d board in homework 1. And since I have a 2D board already defined all I need to do here is print what I already have. "
   ]
  }
 ],
 "metadata": {
  "kernelspec": {
   "display_name": "Python 3",
   "language": "python",
   "name": "python3"
  },
  "language_info": {
   "codemirror_mode": {
    "name": "ipython",
    "version": 3
   },
   "file_extension": ".py",
   "mimetype": "text/x-python",
   "name": "python",
   "nbconvert_exporter": "python",
   "pygments_lexer": "ipython3",
   "version": "3.7.4"
  }
 },
 "nbformat": 4,
 "nbformat_minor": 2
}
