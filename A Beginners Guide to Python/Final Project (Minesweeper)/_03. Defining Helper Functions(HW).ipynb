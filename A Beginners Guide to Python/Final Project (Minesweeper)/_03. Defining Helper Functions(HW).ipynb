{
 "cells": [
  {
   "cell_type": "code",
   "execution_count": 1,
   "metadata": {
    "collapsed": true
   },
   "outputs": [],
   "source": [
    "def test():\n",
    "    \"\"\"\n",
    "    >>> get_square(0,1, [[\"-\",\"YES!\", \"-\", \"-\"], [\"-\",\"-\",\"-\"]])\n",
    "    'YES!'\n",
    "    >>> get_square(0, 0, [[\"B\"]])\n",
    "    'B'\n",
    "    \n",
    "    >>> b = [[\"B\"]]\n",
    "    >>> set_square(0, 0, \"X\", b)    \n",
    "    >>> b[0][0] == \"X\"\n",
    "    True\n",
    "    >>> get_square(0,0, b)\n",
    "    'X'\n",
    "    \n",
    "    >>> board = [['0', '1', '2', '3', '4', '5'], ['6', '7', '8', '9', '10', '11']]\n",
    "    >>> get_square(0,2, board)\n",
    "    '2'\n",
    "    >>> set_square(0,5, 'This', board)\n",
    "    >>> get_square(1,2, board)\n",
    "    '8'\n",
    "    >>> set_square(1,0, 'is', board)\n",
    "    >>> get_square(1,3, board)\n",
    "    '9'\n",
    "    >>> set_square(1, 5, 'sparta', board)\n",
    "    >>> board\n",
    "    [['0', '1', '2', '3', '4', 'This'], ['is', '7', '8', '9', '10', 'sparta']]\n",
    "    \"\"\"\n",
    "    \n",
    "    # IndexErrors raised?\n",
    "    try:\n",
    "        get_square(1, 0, [[1,2,3,4,5,6,7,8]])\n",
    "        print(\"TEST FAIL, IndexError not raised\")\n",
    "    except IndexError:\n",
    "        pass\n",
    "    try:\n",
    "        set_square(1, 0, \"X\", [[1,2,3,4,5,6,7,8]])\n",
    "        print(\"TEST FAIL, IndexError not raised\")\n",
    "    except IndexError:\n",
    "        pass\n",
    "    \n",
    "    import doctest\n",
    "    doctest.testmod()\n",
    "    print(\"TESTING COMPLETE... if you see nothing, (other than this message) that means all tests passed.\")"
   ]
  },
  {
   "cell_type": "code",
   "execution_count": 2,
   "metadata": {},
   "outputs": [
    {
     "name": "stdout",
     "output_type": "stream",
     "text": [
      "TESTING COMPLETE... if you see nothing, (other than this message) that means all tests passed.\n"
     ]
    }
   ],
   "source": [
    "def get_square(x, y, board):\n",
    "    \"\"\"\n",
    "    This function takes a board and returns the value at that square(x,y).\n",
    "    \"\"\"\n",
    "    return board[x][y]\n",
    "\n",
    "def set_square(x, y, new_val, board):\n",
    "    \"\"\"\n",
    "    This function indexes into the given board at position (x, y).\n",
    "    We then change that value to new_val. Returns nothing.\n",
    "    \"\"\"\n",
    "    board[x][y] = new_val\n",
    "    \n",
    "# Runing the tests...\n",
    "test()\n",
    "# Note if you recieve an error message saying test_board not found \n",
    "# try hitting the run button on the test_board cell and try again."
   ]
  }
 ],
 "metadata": {
  "kernelspec": {
   "display_name": "Python 3",
   "language": "python",
   "name": "python3"
  },
  "language_info": {
   "codemirror_mode": {
    "name": "ipython",
    "version": 3
   },
   "file_extension": ".py",
   "mimetype": "text/x-python",
   "name": "python",
   "nbconvert_exporter": "python",
   "pygments_lexer": "ipython3",
   "version": "3.7.4"
  }
 },
 "nbformat": 4,
 "nbformat_minor": 2
}
