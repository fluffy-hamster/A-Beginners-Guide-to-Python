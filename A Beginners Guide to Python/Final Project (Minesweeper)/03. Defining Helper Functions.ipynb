{
 "cells": [
  {
   "cell_type": "markdown",
   "metadata": {},
   "source": [
    "For this project we are going to need to index squares on the board. Thus, its probably a good idea to write some helper functions. For example:\n",
    "\n",
    "* 'get_square' -- takes a board and a position(x,y), returns the value of square (x,y).\n",
    "* 'set_square' -- takes a board and a position(x,y) and new_val. We then change value of square(x,y) to new_val.\n",
    "\n",
    "In future we will be able to use these functions inside other functions. This will hopefully save a bit of time and avoid a few bugs!"
   ]
  },
  {
   "cell_type": "code",
   "execution_count": 1,
   "metadata": {},
   "outputs": [],
   "source": [
    "def test():\n",
    "    \"\"\"\n",
    "    Write your tests here...\n",
    "    \n",
    "    Example:\n",
    "    >>> 1 + 1\n",
    "    2\n",
    "    \n",
    "    \"\"\"\n",
    "    import doctest\n",
    "    doctest.testmod()\n",
    "    print(\"TESTING COMPLETE... if you see nothing, (other than this message) that means all tests passed.\")"
   ]
  },
  {
   "cell_type": "code",
   "execution_count": null,
   "metadata": {},
   "outputs": [],
   "source": [
    "def get_square(x, y, board):\n",
    "    \"\"\"\n",
    "    This function takes a board and returns the value at that square(x,y).\n",
    "    \"\"\"\n",
    "    # Your code here.\n",
    "    pass\n",
    "\n",
    "def set_square(x, y, new_val, board):\n",
    "    \"\"\"\n",
    "    This function indexes into the given board at position (x, y).\n",
    "    We then change that value to new_val. Returns nothing.\n",
    "    \"\"\"\n",
    "    # Your code here.\n",
    "    pass\n",
    "\n",
    "# Runing the tests...\n",
    "test()\n",
    "# Note if you recieve an error message saying test_board not found \n",
    "# try hitting the run button on the test_board cell and try again."
   ]
  }
 ],
 "metadata": {
  "kernelspec": {
   "display_name": "Python 3",
   "language": "python",
   "name": "python3"
  },
  "language_info": {
   "codemirror_mode": {
    "name": "ipython",
    "version": 3
   },
   "file_extension": ".py",
   "mimetype": "text/x-python",
   "name": "python",
   "nbconvert_exporter": "python",
   "pygments_lexer": "ipython3",
   "version": "3.7.4"
  }
 },
 "nbformat": 4,
 "nbformat_minor": 2
}
