{
 "cells": [
  {
   "cell_type": "code",
   "execution_count": 1,
   "metadata": {},
   "outputs": [],
   "source": [
    "def test_board():\n",
    "    \"\"\"\n",
    "    >>> build_board(1, 1, 1)\n",
    "    [['B']]\n",
    "    >>> build_board(1,3, 3)\n",
    "    [['B', 'B', 'B']]\n",
    "    >>> build_board(3, 1, 0, non_bomb_character = \"X\")\n",
    "    [['X'], ['X'], ['X']]\n",
    "    >>> build_board(3, 6, 0, non_bomb_character = \"y\")\n",
    "    [['y', 'y', 'y', 'y', 'y', 'y'], ['y', 'y', 'y', 'y', 'y', 'y'], ['y', 'y', 'y', 'y', 'y', 'y']]\n",
    "    >>> build_board(3, 3, 9)\n",
    "    [['B', 'B', 'B'], ['B', 'B', 'B'], ['B', 'B', 'B']]\n",
    "    >>> build_board(3, 3, 300)\n",
    "    [['B', 'B', 'B'], ['B', 'B', 'B'], ['B', 'B', 'B']]\n",
    "    >>> build_board(4, 3, 0)\n",
    "    [['-', '-', '-'], ['-', '-', '-'], ['-', '-', '-'], ['-', '-', '-']]\n",
    "    \"\"\"\n",
    "    import doctest\n",
    "    doctest.testmod()\n",
    "    print(\"TESTING COMPLETE... if you see nothing, (other than this message) that means all tests passed.\")"
   ]
  },
  {
   "cell_type": "markdown",
   "metadata": {},
   "source": [
    "## Possible Solution"
   ]
  },
  {
   "cell_type": "code",
   "execution_count": 2,
   "metadata": {},
   "outputs": [
    {
     "name": "stdout",
     "output_type": "stream",
     "text": [
      "TESTING COMPLETE... if you see nothing, (other than this message) that means all tests passed.\n"
     ]
    }
   ],
   "source": [
    "import random\n",
    "\n",
    "\n",
    "def build_board(num_rows, num_cols, bomb_count=0, non_bomb_character=\"-\"):\n",
    "    board_temp = [\"B\"] * bomb_count + [non_bomb_character] * (num_rows * num_cols - bomb_count)\n",
    "\n",
    "    if bomb_count:\n",
    "        random.shuffle(board_temp)\n",
    "\n",
    "    board = []\n",
    "    for i in range(0, num_rows*num_cols, num_cols):\n",
    "        board.append(board_temp[i:i+num_cols])\n",
    "    return board\n",
    "\n",
    "# Runing the tests...\n",
    "test_board()\n",
    "# Note if you recieve an error message saying test_board not found \n",
    "# try hitting the run button on the test_board cell and try again."
   ]
  },
  {
   "cell_type": "markdown",
   "metadata": {},
   "source": [
    "## Explaining my code\n",
    "\n",
    "Okay guys, my code is a bit complicated to understand at first glance, but I'm going to talk you through it.\n",
    "\n",
    "    board_temp = [\"B\"] * bomb_count + [non_bomb_character] * (row * col-bomb_count)\n",
    "    \n",
    "So this line of code looks like a monster, but actually once you think about it is not so difficult to understand. Basically we start by making a list containing \"B\" characters, the number of \"B\"'s we add to the list is dependant on the number of bombs the board is supposed to have (which is given by the bomb count argument)."
   ]
  },
  {
   "cell_type": "code",
   "execution_count": 9,
   "metadata": {},
   "outputs": [
    {
     "data": {
      "text/plain": [
       "['B', 'B', 'B']"
      ]
     },
     "execution_count": 9,
     "metadata": {},
     "output_type": "execute_result"
    }
   ],
   "source": [
    "bomb_count = 3\n",
    "[\"B\"] * bomb_count"
   ]
  },
  {
   "cell_type": "markdown",
   "metadata": {},
   "source": [
    "The next step is to multiply the row by the col to get the total number of squares our board should have. We subtract the bomb_count from this figure because we have already added those to the board and we do not wish to 'double count'. \n",
    "\n",
    "For example, if bomb_count is 10 and our board is 10x10 then we want to add 90 non-bomb characters to the list (10\\*10 - 10 = 90). The result is a list of length 100, 10 of which are bombs."
   ]
  },
  {
   "cell_type": "code",
   "execution_count": 10,
   "metadata": {},
   "outputs": [
    {
     "name": "stdout",
     "output_type": "stream",
     "text": [
      "['B', '-', '-', '-']\n"
     ]
    }
   ],
   "source": [
    "row = 2\n",
    "col = 2 \n",
    "b_count = 1\n",
    "\n",
    "part_one_of_list = [\"B\"] * b_count\n",
    "part_two_of_list = [\"-\"] * (row * col-b_count)\n",
    "\n",
    "our_list = part_one_of_list + part_two_of_list\n",
    "\n",
    "print(our_list)  # --> 2x2 grid with 1 bomb.\n"
   ]
  },
  {
   "cell_type": "markdown",
   "metadata": {},
   "source": [
    "The next two lines of code are:\n",
    "\n",
    "        if bomb_count:\n",
    "            random.shuffle(board_temp)\n",
    "\n",
    "So this code shuffles the list (but only if bombs >= 1), we take a list with all the bombs at the start and we jumble them around.  \n",
    "\n",
    "     board = []\n",
    "     for i in range(0, row*col, col ):\n",
    "        board.append(board_temp[i : i+col])\n",
    "        \n",
    "So this is the most complex part of my function, what are we doing here?\n",
    "\n",
    "We have a range function, which starts at 0, ends at row \\* col and has a step of size col. Next up, we use those values to slice the temp_board we made earlier. In effect this is creating a 'moving window', and this gives us our board with the correct dimensions.   \n",
    "\n",
    "Lets try to visualise what is happening here by running it a few times with print statement:"
   ]
  },
  {
   "cell_type": "code",
   "execution_count": 9,
   "metadata": {},
   "outputs": [
    {
     "name": "stdout",
     "output_type": "stream",
     "text": [
      "['01', '02', '03', '04', '05', '06', '07', '08', '09', '10', '11', '12', '13', '14', '15', '16', '17', '18', '19', '20']\n"
     ]
    }
   ],
   "source": [
    "## Create a 1d board\n",
    "board_temp = [str(i).zfill(2) for i in range(1,21)]\n",
    "print(board_temp)"
   ]
  },
  {
   "cell_type": "code",
   "execution_count": 10,
   "metadata": {},
   "outputs": [
    {
     "name": "stdout",
     "output_type": "stream",
     "text": [
      "['01', '02', '03', '04']\n",
      "['05', '06', '07', '08']\n",
      "['09', '10', '11', '12']\n",
      "['13', '14', '15', '16']\n",
      "['17', '18', '19', '20']\n"
     ]
    }
   ],
   "source": [
    "row = 5\n",
    "col = 4\n",
    "\n",
    "# print board with dims (5, 4)\n",
    "for i in range(0, row*col, col ):\n",
    "    print(board_temp[i : i+col])"
   ]
  },
  {
   "cell_type": "code",
   "execution_count": 17,
   "metadata": {},
   "outputs": [
    {
     "name": "stdout",
     "output_type": "stream",
     "text": [
      "['01', '02', '03', '04', '05', '06', '07', '08', '09']\n",
      "['10', '11', '12', '13', '14', '15', '16', '17', '18']\n",
      "['19', '20']\n"
     ]
    }
   ],
   "source": [
    "row = 3\n",
    "col = 9\n",
    "\n",
    "# print board with dims (3, 9)\n",
    "for i in range(0, row*col, col ):\n",
    "    print(board_temp[i : i+col])"
   ]
  },
  {
   "cell_type": "code",
   "execution_count": 14,
   "metadata": {},
   "outputs": [
    {
     "name": "stdout",
     "output_type": "stream",
     "text": [
      "['01', '02']\n",
      "['03', '04']\n",
      "['05', '06']\n",
      "['07', '08']\n",
      "['09', '10']\n",
      "['11', '12']\n"
     ]
    }
   ],
   "source": [
    "row = 6\n",
    "col = 2\n",
    "\n",
    "# print board with dims (6, 2)\n",
    "for i in range(0, row*col, col ):\n",
    "    print(board_temp[i : i+col])"
   ]
  },
  {
   "cell_type": "markdown",
   "metadata": {},
   "source": [
    "In the above demonstration the board consists of 20 squares. As we If change the row/col dimensions of the board you should begin to see how the code works."
   ]
  }
 ],
 "metadata": {
  "kernelspec": {
   "display_name": "Python 3",
   "language": "python",
   "name": "python3"
  },
  "language_info": {
   "codemirror_mode": {
    "name": "ipython",
    "version": 3
   },
   "file_extension": ".py",
   "mimetype": "text/x-python",
   "name": "python",
   "nbconvert_exporter": "python",
   "pygments_lexer": "ipython3",
   "version": "3.7.4"
  }
 },
 "nbformat": 4,
 "nbformat_minor": 2
}
