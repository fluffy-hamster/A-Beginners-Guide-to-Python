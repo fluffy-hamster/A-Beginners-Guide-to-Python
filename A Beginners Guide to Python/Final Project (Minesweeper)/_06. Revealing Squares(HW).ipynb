{
 "cells": [
  {
   "cell_type": "markdown",
   "metadata": {},
   "source": [
    "## Loading our Previous Functions..."
   ]
  },
  {
   "cell_type": "code",
   "execution_count": 1,
   "metadata": {},
   "outputs": [],
   "source": [
    "import random\n",
    "\n",
    "def set_square(x, y, new_val, board):\n",
    "    \"\"\"\n",
    "    This function indexes into the given board at position (x, y).\n",
    "    We then change that value to new_val. Returns nothing.\n",
    "    \"\"\"\n",
    "    board[x][y] = new_val\n",
    "\n",
    "def get_square(x, y, board):\n",
    "    \"\"\"\n",
    "    This function takes a board and returns the value at that square(x,y).\n",
    "    \"\"\"\n",
    "    return board[x][y]\n",
    "\n",
    "def display_board(board):\n",
    "    print(*board, sep=\"\\n\")\n",
    "    \n",
    "\n",
    "def neighbour_squares(x, y, num_rows, num_cols):\n",
    "    \"\"\"\n",
    "    (x, y) 0-based index co-ordinate pair.\n",
    "    num_rows, num_cols: specifiy the max size of the board\n",
    "    \n",
    "    returns all valid (x, y) coordinates from starting position.\n",
    "    \"\"\"\n",
    "    offsets = [(-1,-1), (-1,0), (-1,1),\n",
    "               ( 0,-1),         ( 0,1),\n",
    "               ( 1,-1), ( 1,0), ( 1,1)]\n",
    "    \n",
    "    result = []\n",
    "    for x2, y2 in offsets:\n",
    "        \n",
    "        px = x + x2\n",
    "        py = y + y2\n",
    "        \n",
    "        row_check = 0 <= px < num_rows\n",
    "        col_check = 0 <= py < num_cols\n",
    "        \n",
    "        if row_check and col_check:\n",
    "            point = (py, px)\n",
    "            result.append(point)\n",
    "            \n",
    "    return result\n",
    "    \n",
    "def count_occurence_of_character_in_neighbour_squares(x, y, board, character):\n",
    "    \"\"\"\n",
    "    returns the number of neighbours of (x,y) that are bombs. Max is 8, min is 0.\n",
    "    \"\"\"\n",
    "    num_rows = len(board[0])\n",
    "    num_cols = len(board)\n",
    "        \n",
    "    squares = neighbour_squares(x, y, num_rows, num_cols)\n",
    "\n",
    "    character_found = 0\n",
    "    for px, py in squares:\n",
    "        \n",
    "        square_value = get_square(px, py, board)\n",
    "        \n",
    "        if square_value == character:\n",
    "            character_found += 1\n",
    "          \n",
    "    return character_found\n",
    "\n",
    "def build_board(num_rows, num_cols, bomb_count=0, non_bomb_character=\"-\"):\n",
    "    board_temp = [\"B\"] * bomb_count + [non_bomb_character] * (num_rows * num_cols - bomb_count)\n",
    "\n",
    "    if bomb_count:\n",
    "        random.shuffle(board_temp)\n",
    "\n",
    "    board = []\n",
    "    for i in range(0, num_rows*num_cols, num_cols):\n",
    "        board.append(board_temp[i:i+num_cols])\n",
    "    return board"
   ]
  },
  {
   "cell_type": "markdown",
   "metadata": {},
   "source": [
    "## Possible Solution:"
   ]
  },
  {
   "cell_type": "code",
   "execution_count": 2,
   "metadata": {},
   "outputs": [],
   "source": [
    "def flag_square(row, col, player_board):\n",
    "    p_square = get_square(row, col, player_board)\n",
    "    \n",
    "    if p_square in \"012345678\":\n",
    "        # do nothing\n",
    "        return\n",
    "    \n",
    "    ## set flag\n",
    "    if p_square == EMPTY_SQUARE_CHARACTER:\n",
    "        set_square(row, col, FLAG_CHARACTER, player_board)\n",
    "    \n",
    "    ## Deflag if flag is already set\n",
    "    if p_square == FLAG_CHARACTER:\n",
    "        set_square(row, col, EMPTY_SQUARE_CHARACTER, player_board)\n",
    "        return\n",
    "     \n",
    "def reveal_square(row, col, player_board, game_board):\n",
    "    p_square = get_square(row, col, player_board)\n",
    "    \n",
    "    if p_square in \"012345678\" or p_square == FLAG_CHARACTER:\n",
    "        ## do nothing\n",
    "        return\n",
    "    \n",
    "    g_square = get_square(row, col, game_board)\n",
    "    \n",
    "    if g_square == BOMB_CHARACTER:\n",
    "        return game_over()\n",
    "    \n",
    "    else:\n",
    "        bomb_count = count_occurence_of_character_in_neighbour_squares(row, col, game_board, BOMB_CHARACTER)\n",
    "        set_square(row, col, str(bomb_count), player_board)\n",
    "\n",
    "def game_over():\n",
    "    print(\"GAME OVER\")\n",
    "    ## Later on, we can implement more logic here, such as asking if the player wants to play again."
   ]
  },
  {
   "cell_type": "markdown",
   "metadata": {},
   "source": [
    "Okay, so now that we have the reveal and flag functions sorted, we are dangeriously close to actually playing a game. Lets try and play..."
   ]
  },
  {
   "cell_type": "code",
   "execution_count": 3,
   "metadata": {},
   "outputs": [],
   "source": [
    "import random\n",
    "\n",
    "NUMBER_OF_ROWS  = 3\n",
    "NUMBER_OF_COLS  = 3\n",
    "NUMBER_OF_BOMBS = 2 # You may remember that all_caps mean that these variables should NOT change values at runtime.\n",
    "\n",
    "BOMB_CHARACTER = \"B\"\n",
    "FLAG_CHARACTER = \"F\"\n",
    "EMPTY_SQUARE_CHARACTER = \"-\" \n",
    "\n",
    "random.seed(213) # for reproducible results\n",
    "\n",
    "game_board = build_board(NUMBER_OF_ROWS, NUMBER_OF_COLS, bomb_count = NUMBER_OF_BOMBS)\n",
    "player_board = build_board(NUMBER_OF_ROWS, NUMBER_OF_COLS, bomb_count=0)"
   ]
  },
  {
   "cell_type": "markdown",
   "metadata": {},
   "source": [
    "The above code should be familiar to you. The only addition I've made here is that I've added some character definitions. I thought it was good idea to define what the bomb_character is just once and have all the other functions reference that constant value. \n",
    "\n",
    "When you start to glue the various peices of code together its perfectly normal to come up with new (and often better) ideas. So this means I'll need to go back and 'refactor' some of my older code to utilise this. \n",
    "\n",
    "Anyway, how about we play a game?"
   ]
  },
  {
   "cell_type": "code",
   "execution_count": 4,
   "metadata": {},
   "outputs": [
    {
     "name": "stdout",
     "output_type": "stream",
     "text": [
      "INTERNAL GAME STATE:\n",
      "['-', '-', '-']\n",
      "['-', 'B', '-']\n",
      "['B', '-', '-']\n",
      "\n",
      "PLAYER BOARD:\n",
      "['-', '-', '-']\n",
      "['-', '-', '-']\n",
      "['-', '-', '-']\n"
     ]
    }
   ],
   "source": [
    "print(\"INTERNAL GAME STATE:\")\n",
    "display_board(game_board)\n",
    "print(\"\")\n",
    "print(\"PLAYER BOARD:\")\n",
    "display_board(player_board)"
   ]
  },
  {
   "cell_type": "code",
   "execution_count": 5,
   "metadata": {},
   "outputs": [
    {
     "name": "stdout",
     "output_type": "stream",
     "text": [
      "INTERNAL GAME STATE:\n",
      "['-', '-', '-']\n",
      "['-', 'B', '-']\n",
      "['B', '-', '-']\n",
      "\n",
      "PLAYER BOARD:\n",
      "['-', '-', '-']\n",
      "['1', '-', '-']\n",
      "['-', '-', '-']\n"
     ]
    }
   ],
   "source": [
    "## Player board should display 2.\n",
    "reveal_square(1, 0, player_board, game_board)\n",
    "\n",
    "print(\"INTERNAL GAME STATE:\")\n",
    "display_board(game_board)\n",
    "print(\"\")\n",
    "print(\"PLAYER BOARD:\")\n",
    "display_board(player_board)"
   ]
  },
  {
   "cell_type": "markdown",
   "metadata": {},
   "source": [
    "### FUCK! \n",
    "\n",
    "Notice that the player_board reveals a 1 here. But there is clearly two bombs nearby. What this means is that I have a bug somewhere in my code. \n",
    "\n",
    "It could be that my game_boards and player_boards are out of sync, or (more likely) I have some sort of indexing error in the \"count_occurence_of_character_in_neighbour_squares\" function. My best guess is that I've mixed up (x,y) coordinates somewhere. \n",
    "\n",
    "But, in a way, this is a good thing. It's a good thing because it gives me an excuse to talk a bit more about testing and debugging code. In development there is a concept called \"failing fast\". At heart it's a simple idea; you should test your code quickly and often. And you should do that because it's much better to see code fail when it is small and simple than when its large and complex.  If you have two thousand lines of code then that means there are two thousand possible places where the bug could be. If there are only twenty lines of code then there are only twenty possible places where the bug could be. \n",
    "\n",
    "The other advantage of testing code as soon as possible is that the longer bugs go unnoticed the harder they are to fix.\n",
    "\n",
    "![BugTime.png](../graphics/BugTime.png)\n",
    "\n",
    "Okay I've made a mental note of the error, but let's carry on for the moment. Maybe we shall find another bug..."
   ]
  },
  {
   "cell_type": "code",
   "execution_count": 7,
   "metadata": {},
   "outputs": [
    {
     "name": "stdout",
     "output_type": "stream",
     "text": [
      "INTERNAL GAME STATE:\n",
      "['-', '-', '-']\n",
      "['-', 'B', '-']\n",
      "['B', '-', '-']\n",
      "\n",
      "PLAYER BOARD:\n",
      "['-', '-', '-']\n",
      "['1', '-', '-']\n",
      "['-', '-', '-']\n"
     ]
    }
   ],
   "source": [
    "## Square already revealed, nothing happens...\n",
    "reveal_square(1, 0, player_board, game_board)\n",
    "\n",
    "print(\"INTERNAL GAME STATE:\")\n",
    "display_board(game_board)\n",
    "print(\"\")\n",
    "print(\"PLAYER BOARD:\")\n",
    "display_board(player_board)"
   ]
  },
  {
   "cell_type": "code",
   "execution_count": 8,
   "metadata": {
    "scrolled": true
   },
   "outputs": [
    {
     "name": "stdout",
     "output_type": "stream",
     "text": [
      "INTERNAL GAME STATE:\n",
      "['-', '-', '-']\n",
      "['-', 'B', '-']\n",
      "['B', '-', '-']\n",
      "\n",
      "PLAYER BOARD:\n",
      "['-', '-', '-']\n",
      "['1', '-', '-']\n",
      "['F', '-', '-']\n"
     ]
    }
   ],
   "source": [
    "## Flag a square\n",
    "flag_square(2, 0, player_board)\n",
    "\n",
    "print(\"INTERNAL GAME STATE:\")\n",
    "display_board(game_board)\n",
    "print(\"\")\n",
    "print(\"PLAYER BOARD:\")\n",
    "display_board(player_board)"
   ]
  },
  {
   "cell_type": "code",
   "execution_count": 9,
   "metadata": {},
   "outputs": [
    {
     "name": "stdout",
     "output_type": "stream",
     "text": [
      "INTERNAL GAME STATE:\n",
      "['-', '-', '-']\n",
      "['-', 'B', '-']\n",
      "['B', '-', '-']\n",
      "\n",
      "PLAYER BOARD:\n",
      "['-', '-', '-']\n",
      "['1', '-', '-']\n",
      "['-', '-', '-']\n"
     ]
    }
   ],
   "source": [
    "## Deflag square\n",
    "flag_square(2, 0, player_board)\n",
    "\n",
    "print(\"INTERNAL GAME STATE:\")\n",
    "display_board(game_board)\n",
    "print(\"\")\n",
    "print(\"PLAYER BOARD:\")\n",
    "display_board(player_board)"
   ]
  },
  {
   "cell_type": "code",
   "execution_count": 10,
   "metadata": {},
   "outputs": [
    {
     "name": "stdout",
     "output_type": "stream",
     "text": [
      "GAME OVER\n",
      "INTERNAL GAME STATE:\n",
      "['-', '-', '-']\n",
      "['-', 'B', '-']\n",
      "['B', '-', '-']\n",
      "\n",
      "PLAYER BOARD:\n",
      "['-', '-', '-']\n",
      "['1', '-', '-']\n",
      "['-', '-', '-']\n"
     ]
    }
   ],
   "source": [
    "## Reveal a bomb, Should display game over\n",
    "reveal_square(1, 1, player_board, game_board)\n",
    "\n",
    "print(\"INTERNAL GAME STATE:\")\n",
    "display_board(game_board)\n",
    "print(\"\")\n",
    "print(\"PLAYER BOARD:\")\n",
    "display_board(player_board)"
   ]
  },
  {
   "cell_type": "markdown",
   "metadata": {},
   "source": [
    "Okay so after a bit more testing it looks like we have something that is working fairly well. So the only things left to do now if to solve that bug..."
   ]
  },
  {
   "cell_type": "code",
   "execution_count": null,
   "metadata": {},
   "outputs": [],
   "source": [
    "if row_check and col_check:\n",
    "    point = (py, px)\n",
    "    result.append(point)\n",
    "return result\n",
    "\n",
    "for px, py in squares: # result    \n",
    "    square_value = get_square(px, py, board)"
   ]
  },
  {
   "cell_type": "markdown",
   "metadata": {},
   "source": [
    "The above two code snippets belong to two different functions. Notice that there is some confusion here regarding px and py. In the first bit of code we have the values (px, py) but store them in (py, px) order. The the for-loop says for px, py do some stuff. This means the names get switched, py becomes px and vice versa. This is bad. Its bad because this sort of error (even if it is not the source of the bug) just leads to confusion, and confusion leads to bugs and wasted time.\n",
    "So the first thing to do would be to at least make the naming consistent across functions..."
   ]
  },
  {
   "cell_type": "code",
   "execution_count": null,
   "metadata": {},
   "outputs": [],
   "source": [
    "if row_check and col_check:\n",
    "    point = (py, px)\n",
    "    result.append(point)\n",
    "return result\n",
    "\n",
    "for py, px in squares: # result    \n",
    "    square_value = get_square(px, py, board)"
   ]
  }
 ],
 "metadata": {
  "kernelspec": {
   "display_name": "Python 3",
   "language": "python",
   "name": "python3"
  },
  "language_info": {
   "codemirror_mode": {
    "name": "ipython",
    "version": 3
   },
   "file_extension": ".py",
   "mimetype": "text/x-python",
   "name": "python",
   "nbconvert_exporter": "python",
   "pygments_lexer": "ipython3",
   "version": "3.7.4"
  }
 },
 "nbformat": 4,
 "nbformat_minor": 2
}
