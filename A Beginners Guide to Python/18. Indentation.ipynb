{
 "cells": [
  {
   "cell_type": "markdown",
   "metadata": {},
   "source": [
    "## Indentation\n",
    "\n",
    "Okay guys, I hope you are starting to get excited, I say that because we are only 1-2 lectures away from having all the necessary syntax for writing interesting programmes with Python.\n",
    "\n",
    "Today I shall be talking about indentation. In other languages, curly brackets (\"{}\") are used to seperate out blocks of code. In python that same work is done via indentation. The syntax:\n",
    "\n",
    "    {some code, e.g an if statement}:\n",
    "    {tab or 4 spaces} {code block}\n",
    "\n",
    "When I say 'tab or 4 spaces', make sure your program in consistent; Python does not like it when you use tabs in some places and spaces in another. For example:"
   ]
  },
  {
   "cell_type": "code",
   "execution_count": 16,
   "metadata": {},
   "outputs": [
    {
     "ename": "TabError",
     "evalue": "inconsistent use of tabs and spaces in indentation (<ipython-input-16-b80db845439b>, line 3)",
     "output_type": "error",
     "traceback": [
      "\u001b[0;36m  File \u001b[0;32m\"<ipython-input-16-b80db845439b>\"\u001b[0;36m, line \u001b[0;32m3\u001b[0m\n\u001b[0;31m    if used_tab:\u001b[0m\n\u001b[0m                ^\u001b[0m\n\u001b[0;31mTabError\u001b[0m\u001b[0;31m:\u001b[0m inconsistent use of tabs and spaces in indentation\n"
     ]
    }
   ],
   "source": [
    "if 1:\n",
    "    used_tab = True\n",
    "\tif used_tab:\n",
    "\t\tused_spaces = True\n",
    "\t\tprint(\"Something Something\")"
   ]
  },
  {
   "cell_type": "markdown",
   "metadata": {},
   "source": [
    "\n",
    "\n",
    "<img src= attachment:indentguide.png) style=\"width: 200px;\"/>"
   ]
  },
  {
   "attachments": {},
   "cell_type": "markdown",
   "metadata": {},
   "source": [
    "Okay, so what does indentation actually do? Basically, its a way to tell Python how to move around your code. Lets look at the image below:\n",
    "\n",
    "![indentguide.png](graphics/indentguide.png)\n",
    "\n",
    "\n",
    "The numbers in grey '(1)', '(2)' and so on represent the indentation level, and the coloured squares represent the 'blocks' of code. At the highest level is the 'black square', in this particular instance in contains a function named 'function' and a variable named 'Z'. \n",
    "\n",
    "The line of code \"if A\" decides whether we enter the 'lime-green-box' or not, if  A happens to be false we skip all of the code with lime-green-box and instead just move to the else statement which tells us return \"something something\". Likewise, the \"if B\" line of code decides whether we enter the 'turquoise-box' of code (or not). If not, we return A. The only time this function returns D is when A,B,C,and D are all True, and that is because this is the only path that leads to the line ‘return D’. \n",
    "\n",
    "In short, indentation is a way of 'sectioning off' code. As a matter of fact Python completely ignores code blocks it doesn’t enter. Here's proof:"
   ]
  },
  {
   "cell_type": "code",
   "execution_count": 17,
   "metadata": {},
   "outputs": [
    {
     "name": "stdout",
     "output_type": "stream",
     "text": [
      "100\n"
     ]
    }
   ],
   "source": [
    "a = 10\n",
    "\n",
    "if a == 11:\n",
    "    a += \"abc\"                  # a (an int) + \"abc\" should be a type error!\n",
    "    10/0                        # dividing by zero should raise a zero division error!\n",
    "    dave + hat + seven_turnips  # should be a name error, none of these things are defined!\n",
    "else:\n",
    "    print(a*a)"
   ]
  },
  {
   "cell_type": "markdown",
   "metadata": {},
   "source": [
    "In the above code snippet we have three lines of error prone code; we cant add ints to strings and we cant divide by zero and we cant add objects that have yet to be defined. and yet, Python ran just fine. The reason being I have already eluded to; Python ignores those three lines of code because 'A' does not equal 11. \n",
    "\n",
    "To summarise quickly indentation is all about organising code and controlling the 'flow' of the program. Messing up indentation is a VERY COMMON beginner error to make, so don't feel bad if you end up incorrectly indenting bits of code.\n",
    "\n",
    "Let me quickly show you how easy it is."
   ]
  },
  {
   "cell_type": "code",
   "execution_count": 29,
   "metadata": {},
   "outputs": [
    {
     "name": "stdout",
     "output_type": "stream",
     "text": [
      "100\n"
     ]
    }
   ],
   "source": [
    "for i in range(1, 11):\n",
    "    square = i*i\n",
    "print(square)"
   ]
  },
  {
   "cell_type": "markdown",
   "metadata": {},
   "source": [
    "So this code goes through the numbers 1-to-10 and calculates the square of the number. Now in this case only one number gets printed (100), which happens to be 10x10.\n",
    "\n",
    "Okay, so now lets take the same bit of code, but this time we are going to indent the print statement. Before we run it I want you to have a guess as to what you think will happen."
   ]
  },
  {
   "cell_type": "code",
   "execution_count": 30,
   "metadata": {},
   "outputs": [
    {
     "name": "stdout",
     "output_type": "stream",
     "text": [
      "1\n",
      "4\n",
      "9\n",
      "16\n",
      "25\n",
      "36\n",
      "49\n",
      "64\n",
      "81\n",
      "100\n"
     ]
    }
   ],
   "source": [
    "for i in range(1, 11):\n",
    "    square = i*i\n",
    "    print(square) # <--- now indented..."
   ]
  },
  {
   "attachments": {},
   "cell_type": "markdown",
   "metadata": {},
   "source": [
    "So we changed the indentation of the print statement and we get a completely different behaviour. In the first case we print one number and in the second case we print ten numbers. \n",
    "\n",
    "To understand what's going one we can once again return to the drawing boxes visualization:\n",
    "\n",
    "![indentguide2.png](graphics/indentguide2.png)\n",
    "\n",
    "In both versions the green-box contains the same code, but the dark-red-boxes differ; in version(A) the print statement is excluded from the red-block whereas in version(B) the print statement is in red-block. In this code, the red-block gets executed ten times (once for each number). And so therefore if the print statement is in the red-block is gets executed ten times whereas if it is outside it gets executed just once. And that fully accounts for the difference of behaviour in this case. \n",
    "\n",
    "Another example:"
   ]
  },
  {
   "cell_type": "code",
   "execution_count": 31,
   "metadata": {},
   "outputs": [
    {
     "ename": "IndentationError",
     "evalue": "unexpected indent (<ipython-input-31-e31177c93935>, line 4)",
     "output_type": "error",
     "traceback": [
      "\u001b[0;36m  File \u001b[0;32m\"<ipython-input-31-e31177c93935>\"\u001b[0;36m, line \u001b[0;32m4\u001b[0m\n\u001b[0;31m    print(i)\u001b[0m\n\u001b[0m    ^\u001b[0m\n\u001b[0;31mIndentationError\u001b[0m\u001b[0;31m:\u001b[0m unexpected indent\n"
     ]
    }
   ],
   "source": [
    "for i in range(10):\n",
    "    a = 3\n",
    "b = 2\n",
    "    print(i)"
   ]
  },
  {
   "cell_type": "markdown",
   "metadata": {},
   "source": [
    "Unlike before, we get an error message this time. In this case the problem is the b=2 line, followed by an intended print statement. The fix here is to either indent b=2 or dedent the print statement. The correct approach will be dependant upon what your code is suppose to do. And lastly:"
   ]
  },
  {
   "cell_type": "code",
   "execution_count": 32,
   "metadata": {
    "collapsed": true
   },
   "outputs": [],
   "source": [
    "a = b =  \"\"\n",
    "\n",
    "# Version (A):\n",
    "if a:\n",
    "    pass\n",
    "    if b:\n",
    "        pass\n",
    "\n",
    "# Version (B): \n",
    "if a:\n",
    "    pass\n",
    "if b:\n",
    "    pass"
   ]
  },
  {
   "cell_type": "markdown",
   "metadata": {},
   "source": [
    "Once again, we have two bits of code that will act very differently from one another and the only difference is indentation. In version (A) what happens is we check if 'A' is True and if it is we check if 'B' is True. In the second case, we check if 'B' is True **independently of whether 'A' is True.**\n",
    "\n",
    "In short, indentation can be a tricky thing to get right. And this difficulty is compounded by the fact in many cases incorrect code is still syntactically correct. And that means instead of error messages you just get the wrong result.\n",
    "\n",
    "## If, elif, else\n",
    "\n",
    "As you (hopefully) remember we have already covered if and else in-line; in a previous lecture we were doing stuff like: \n",
    "\n",
    "    a = True\n",
    "    b = 10 if a else 0\n",
    "    \n",
    "But now we have covered indentation we can examine how to use if/elif/else statements. The Syntax:\n",
    "\n",
    "    if {condition}:\n",
    "        {code block}\n",
    "    elif {condition}:\n",
    "        {code block}\n",
    "    else:\n",
    "        {code block}\n",
    "        \n",
    "We already understand if/else, so the question is \"what does 'elif' do?\" Well, it stands for 'else if' and it is probably best understood by example:"
   ]
  },
  {
   "cell_type": "code",
   "execution_count": 26,
   "metadata": {},
   "outputs": [
    {
     "name": "stdout",
     "output_type": "stream",
     "text": [
      "2 is even\n",
      "33 is odd AND greater than 10\n",
      "100 is even\n",
      "100 is odd AND greater than 10\n"
     ]
    }
   ],
   "source": [
    "# Takes a number and prints if it is even, odd AND >10, or less than 10\n",
    "# Take note of the indentation guys!\n",
    "\n",
    "for number in [2, 5, 33, 100]:\n",
    "    if number % 2 == 0: # number is even\n",
    "        print(\"{} is even\".format(number))\n",
    "    if number > 10:\n",
    "        print(\"{} is odd AND greater than 10\".format(number))\n",
    "    else:\n",
    "        pass  # pass is a way to make python do nothing."
   ]
  },
  {
   "cell_type": "markdown",
   "metadata": {},
   "source": [
    "So our code was called on the numbers 2, 5, 33 and 100. If then printed out a few statements, you should notice the last two lines contradict each other, 100 cannot be both even and odd!\n",
    "\n",
    "How did this happen, well, we used an if statement when we should have used an elif statement. You see, what is currently happening is that Python first checks to see if 100 is even (it is) and so it executes the relevant code block (i.e printing 100 is even). Next it sees another if statement which asks if he current number is greater than 10 (it is), and so 100 is odd AND...\" gets printed. \n",
    "\n",
    "Basically, if we have multiple if statements next to each of Python checks each one (if statements, at the same indentation level, are independent). **Whereas an elif statement is only checked if the if statement above it equates to False.** Thus, a simple fix to our program is to use 'elif' instead of 'if'. Like so:"
   ]
  },
  {
   "cell_type": "code",
   "execution_count": 27,
   "metadata": {},
   "outputs": [
    {
     "name": "stdout",
     "output_type": "stream",
     "text": [
      "2 is even\n",
      "33 is odd AND greater than 10\n",
      "100 is even\n"
     ]
    }
   ],
   "source": [
    "for number in [2, 5, 33, 100]:\n",
    "    if number % 2 == 0: \n",
    "        print(\"{} is even\".format(number))\n",
    "    elif number > 10:    # <--- This is the ONLY LINE that has changed. \n",
    "        print(\"{} is odd AND greater than 10\".format(number))\n",
    "    else:\n",
    "        pass"
   ]
  },
  {
   "cell_type": "markdown",
   "metadata": {},
   "source": [
    "## Homework Assignment\n",
    "\n",
    "Directly below is houses and kittens, a D&D knock-off. The game was ready to be published but unfortunately mysterious computer pixies (sometimes known as 'byte imps') have messed up the indentation of the code and it no longer works. On the bright-side the byte imps have only tinkered with the indentation and nothing else.\n",
    "\n",
    "With this knowledge can you fix the game?"
   ]
  },
  {
   "cell_type": "code",
   "execution_count": null,
   "metadata": {
    "collapsed": true
   },
   "outputs": [],
   "source": [
    "## HOUSES AND KITTENS, A D&D KNOCK-OFF ### \n",
    "\n",
    "#### THIS CODE IS A MESS, FIX THE INDENTATION\n",
    "\n",
    " quest = \"KILL KITTEN\"\n",
    "        current_xp = 20\n",
    "next_level_xp = 100\n",
    "   weapon_of_choice = \"sponge mallet\"\n",
    "    is_dead = False\n",
    "     attack_dmg = 10\n",
    "                    enemy_health = 10\n",
    "\n",
    "print('\\nGAMEMASTER says: \"{} does {} and the enemy has {} health do you want to attack?\"\\n'.format(weapon_of_choice, attack_dmg, enemy_health))\n",
    "    atk = input('Enter \"Y\" to attack, else \"N\"')\n",
    "    do_attack = True if atk == \"Y\" else False\n",
    "\n",
    "\n",
    "if do_attack:\n",
    "    enemy_health -= attack_dmg\n",
    "    if enemy_health == 0:\n",
    "is_dead = True\n",
    "\n",
    "    if is_dead:\n",
    "        print('INKEEPER says: \"OMG WHAT DID YOU DO!!!!, WHY DID YOU KILL THAT POOR LITTLE KITTEN WITH YOUR {}? ..YOU..MONSTER!!!\"'.format(weapon_of_choice.upper()))\n",
    "            if quest == \"KILL KITTEN\":\n",
    "            print('\\nGAMEMASTER says: \"Our brave hero completes his quest. + 80 xp\"\\n')\n",
    "            current_xp += 80\n",
    "            print('INKEEPER says: \"I have a baby seal in the swimming pool if you want to club that too?\"'.format(weapon_of_choice))\n",
    "\n",
    "        new_quest_accept = input('GAMEMASTER says: \"DO YOU ACCEPT THE CLUB POOR SEAL QUEST? Type Y or N\"\\n')    \n",
    "\n",
    "    if new_quest_accept == \"Y\":\n",
    "                quest = \"CLUB BABY SEAL\"\n",
    "                print('INKEEPER says: \"YES!? I was being sarcastic you twit, why on earth would I give you a quest to harm by baby seal?\"')\n",
    "                else:\n",
    "                print('INKEEPER says: \"NO? Well THANKYOU for not killing every living thing in my house. Speaking of which, Why are you even in my house? GET OUT GET OUT YOU FOUL BEAST!!\"')\n",
    "\n",
    "    elif do_attack and not is_dead:\n",
    "print('INKEEPER says: \"SNUFFLES!!! WHAT DID HE DO TO YOU!!! SOMEONE PLEASE FETCH A CAT DOCTOR\"')\n",
    "\n",
    "    if current_xp == next_level_xp:\n",
    "        print('\\nGAMEMASTER says: \"LEVEL UP!!, {} now does +2 attack\"\\n'.format(weapon_of_choice))\n",
    "        attack_dmg += 2\n",
    "\n",
    "            else:\n",
    "print('INKEEPER says: \"Thankyou kind sir for not maiming my little kitten with your {}\"'.format(weapon_of_choice))\n"
   ]
  }
 ],
 "metadata": {
  "kernelspec": {
   "display_name": "Python 3",
   "language": "python",
   "name": "python3"
  },
  "language_info": {
   "codemirror_mode": {
    "name": "ipython",
    "version": 3
   },
   "file_extension": ".py",
   "mimetype": "text/x-python",
   "name": "python",
   "nbconvert_exporter": "python",
   "pygments_lexer": "ipython3",
   "version": "3.7.4"
  }
 },
 "nbformat": 4,
 "nbformat_minor": 2
}
