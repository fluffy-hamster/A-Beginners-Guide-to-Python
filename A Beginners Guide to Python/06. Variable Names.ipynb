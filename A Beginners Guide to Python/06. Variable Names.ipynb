{
 "cells": [
  {
   "cell_type": "markdown",
   "metadata": {},
   "source": [
    "# Variable Names\n",
    "\n",
    "Before moving on, let's say a few things about variable names. If you want to *name* some object in Python you have to abide by a few 'concrete' rules:\n",
    "\n",
    "1. The name should not be already be in use (unless you want to 'delete' the previous value).\n",
    "1. The name should not start with a number or punctuation marks (with the notable exception of the underscore \"_\" character)\n",
    "1. The name cannot contain any \"special characters\" or spaces. \n",
    "\n",
    "Below are a few examples of the above three rules in action."
   ]
  },
  {
   "cell_type": "code",
   "execution_count": 1,
   "metadata": {},
   "outputs": [
    {
     "ename": "SyntaxError",
     "evalue": "invalid syntax (<ipython-input-1-f792aa7cb411>, line 2)",
     "output_type": "error",
     "traceback": [
      "\u001b[0;36m  File \u001b[0;32m\"<ipython-input-1-f792aa7cb411>\"\u001b[0;36m, line \u001b[0;32m2\u001b[0m\n\u001b[0;31m    0sales = 10.20 # Rule 2: cannot start a name with a number.\u001b[0m\n\u001b[0m         ^\u001b[0m\n\u001b[0;31mSyntaxError\u001b[0m\u001b[0;31m:\u001b[0m invalid syntax\n"
     ]
    }
   ],
   "source": [
    "print = 10.20              # Rule 1: \"print\" is a reserved word in Python and therefore we cannot use it.\n",
    "0sales = 10.20             # Rule 2: cannot start a name with a number.\n",
    "this has spaces = 10.20    # Rule 2: space character is punctation.\n",
    "thisnamehasa+init = 10.20  # Rule 3: Fails because \"+\" is a special character in python (addition)"
   ]
  },
  {
   "cell_type": "markdown",
   "metadata": {},
   "source": [
    "In addition to the above ‘concrete’ there are also a few *guidelines* that describe *\"best practices\"*:\n",
    "\n",
    "* Variable names should be concise yet relevant, descriptive too.  \n",
    "* The best names are not just relevant and descriptive, there are also elegant. \n",
    "* The best names are easy to read and type.\n",
    "* Try to avoid possible confusion; \"Print\" is a legal name, but easily mistaken for the \"print\" command.\n",
    "* Don’t use ALL CAPS *(unless you know what you are doing).*\n",
    "* Don't start a name with an underscore character or double underscore *(unless you know what you are doing).* \n",
    "* Don't start a name with a capital letter *(unless you know what you are doing).* \n",
    "\n",
    "For the last three bullet points I said *\"unless you know what you are doing\"*, let me explain that quickly. \n",
    "\n",
    "By convention, variable names in ALLCAPS are supposed to have a special meaning, and that is these are values that should **NOT** be changed by the program at runtime. \n",
    "\n",
    "Mathematical constants are a pretty good example; for most applications you probably don't want to change these values while the program is running. For example, under what circumstances would you want to change the value of PI while the code is running?\n",
    "\n",
    "In python we denote constants by naming them in ALLCAPS, and I would recommend you follow this already agreed upon practice; after all, if everyone uses the same naming conventions then all code is that little bit easier to read. "
   ]
  },
  {
   "cell_type": "code",
   "execution_count": null,
   "metadata": {
    "collapsed": true
   },
   "outputs": [],
   "source": [
    "golden_ratio = 1.61803398874989484820 # okay name\n",
    "GOLDEN_RATIO = 1.61803398874989484820 # better name"
   ]
  },
  {
   "cell_type": "markdown",
   "metadata": {},
   "source": [
    "As for using underscores and captial letters in names, well, thats to do with classes, which I do not cover in this lecture series. All you need to know right now is that underscores and capital letters are best avoided.\n",
    "\n",
    "Anyway, here are a few more examples:"
   ]
  },
  {
   "cell_type": "code",
   "execution_count": 2,
   "metadata": {
    "collapsed": true
   },
   "outputs": [],
   "source": [
    "# superbad (nonsense name, mixed case, starts with underscore):\n",
    "_QWeRTy = 10.20\n",
    "# bad (still nonsense):\n",
    "qwerty = 10.20 \n",
    "# poor (descriptive, but mixed case is very annoying):\n",
    "SaLestAX = 10.20\n",
    "# better (most boxes ticked!):\n",
    "salestax = 10.20\n",
    "# even better:\n",
    "sales_tax = 10.20\n",
    "# WAAAYYYY over the top (descriptive doesn't mean \"write a novel!\")\n",
    "this_is_the_sales_tax_for_the_beer_I_bought_on_a_summers_day_in_1965_or_was_it_1967_I_cant_remember = 10.20 "
   ]
  },
  {
   "cell_type": "markdown",
   "metadata": {},
   "source": [
    "So in the above examples we saw a few terrible names and two reasonable ones. “sales_tax” is my top-pick because the name tells use something about our data and at just two words long it is concise. \n",
    "\n",
    "In C# the usual naming convention is to use snake case. So a variable in C# should be called 'salesTax'. In Python we tend to use underscores to split up words. And thats another reason why 'sales_tax' is my top-pick.\n",
    "\n",
    "**The last thing I would like to say about variable names is that very good names can negate the need for comments.** [Pep8](https://www.python.org/dev/peps/pep-0008/#inline-comments) *(the main style guideline for Python)* recommends that we use in-line comments sparingly and comments should also avoid stating the obvious; needless comments only serve as a distraction.\n",
    "\n",
    "Don't get it twisted; we **should** write comments, but they should be good ones. The real point here is that good code should explain itself.   \n",
    "\n",
    "Here, let me show you can example."
   ]
  },
  {
   "cell_type": "code",
   "execution_count": 19,
   "metadata": {
    "collapsed": true
   },
   "outputs": [],
   "source": [
    "price = 1000 # including sales tax"
   ]
  },
  {
   "cell_type": "markdown",
   "metadata": {},
   "source": [
    "So this bit of code isn't actually that bad; the variable name \"price\" is a reasonably good one (short, readable, descriptive) and the comment is helpful. All in all, this code is decent, but that doesn’t mean we cannot do even better:"
   ]
  },
  {
   "cell_type": "code",
   "execution_count": 20,
   "metadata": {
    "collapsed": true
   },
   "outputs": [],
   "source": [
    "price_after_tax = 1000"
   ]
  },
  {
   "cell_type": "markdown",
   "metadata": {},
   "source": [
    "All we did here is change our variable name to be a bit more descriptive. And now since our variable name states that this figure includes tax we don't need the comment!\n",
    "> **Show, don't tell.**\n",
    "\n",
    "The point of today was to make you aware that programming is not just about writing code that machines can understand; **Good code is understood by both man AND machine.**"
   ]
  },
  {
   "cell_type": "markdown",
   "metadata": {},
   "source": [
    "## Homework\n",
    "\n",
    "Below is three lines of python code, the only thing you have seen yet is the '*' symbol which means multiplication. The Syntax:\n",
    "    \n",
    "    {number}*{number}\n",
    "\n",
    "Your task comes in three parts:\n",
    "\n",
    "1. Figure out what the code is supposed to do. *(this might take some googling. Hint: think circles!)*\n",
    "2. Add a comment or two, explaining what it does.\n",
    "2. change the name \"belt_size\" and \"cake\" to something more meaningful.\n",
    "2. After you have renamed the variables, do you still need the comments in order to understand the code?"
   ]
  },
  {
   "cell_type": "code",
   "execution_count": null,
   "metadata": {
    "collapsed": true
   },
   "outputs": [],
   "source": [
    "# WTF does this do? Place your bets now...\n",
    "cake = 3.14\n",
    "diameter = 2\n",
    "\n",
    "belt_size = cake * diameter"
   ]
  }
 ],
 "metadata": {
  "kernelspec": {
   "display_name": "Python 3",
   "language": "python",
   "name": "python3"
  },
  "language_info": {
   "codemirror_mode": {
    "name": "ipython",
    "version": 3
   },
   "file_extension": ".py",
   "mimetype": "text/x-python",
   "name": "python",
   "nbconvert_exporter": "python",
   "pygments_lexer": "ipython3",
   "version": "3.7.4"
  }
 },
 "nbformat": 4,
 "nbformat_minor": 2
}
