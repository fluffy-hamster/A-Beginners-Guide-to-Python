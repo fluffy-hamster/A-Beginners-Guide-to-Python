{
 "cells": [
  {
   "cell_type": "markdown",
   "metadata": {},
   "source": [
    "# Comments\n",
    "\n",
    "In the previous lecture we learnt how to print \"hello world\". Lets try to do that again. Click on the cell below and hit the 'run' button. Go on, I'll wait for you..."
   ]
  },
  {
   "cell_type": "code",
   "execution_count": 2,
   "metadata": {
    "collapsed": true
   },
   "outputs": [],
   "source": [
    "# print(\"Hello World)"
   ]
  },
  {
   "cell_type": "markdown",
   "metadata": {},
   "source": [
    "Woah !? Nothing happened!? Why is that?  \n",
    "\n",
    "The reason “hello world” did not get printed to the console in this case is because that line of code is *“commented out”*. Comments in Python have a very simple syntax:\n",
    "\n",
    "    # {Any text we want}\n",
    "    # {More gibberish}\n",
    "\n",
    "To use comments it is actually super easy, we just type the \"#\" character, and this will make Python ignore everything **on that line from that point on**. If we want comments to span multiple lines, then we have to remember to put a # at the start of every line. For example:"
   ]
  },
  {
   "cell_type": "code",
   "execution_count": 3,
   "metadata": {
    "collapsed": true
   },
   "outputs": [],
   "source": [
    "# Lots...\n",
    "# and lots...\n",
    "# of comments..."
   ]
  },
  {
   "cell_type": "markdown",
   "metadata": {},
   "source": [
    "You can also place comments after some code, in which case the code executes. Here, let me show you:"
   ]
  },
  {
   "cell_type": "code",
   "execution_count": 4,
   "metadata": {},
   "outputs": [
    {
     "name": "stdout",
     "output_type": "stream",
     "text": [
      "this works\n"
     ]
    }
   ],
   "source": [
    "print(\"this works\")  # this works because the \"#\" symbol is placed AFTER the bit of code we want to run!"
   ]
  },
  {
   "cell_type": "markdown",
   "metadata": {},
   "source": [
    "## What are comments for?\n",
    "\n",
    "Comments have a few uses, but the main one is to communicate with other human beings (including your future self!). Helpful comments can make reading and understanding code a lot less difficult, and that's why leaving good comments is a **GREAT** idea. \n",
    "\n",
    "Here, let me show you:"
   ]
  },
  {
   "cell_type": "code",
   "execution_count": 7,
   "metadata": {},
   "outputs": [
    {
     "data": {
      "text/plain": [
       "'abcabcabcabc'"
      ]
     },
     "execution_count": 7,
     "metadata": {},
     "output_type": "execute_result"
    }
   ],
   "source": [
    "\"abc\" * 4  # ??? "
   ]
  },
  {
   "cell_type": "code",
   "execution_count": 8,
   "metadata": {},
   "outputs": [
    {
     "data": {
      "text/plain": [
       "'aaa'"
      ]
     },
     "execution_count": 8,
     "metadata": {},
     "output_type": "execute_result"
    }
   ],
   "source": [
    "\"a\" * 3 # string * number repeats the character. Thus \"a\" * 2 = \"aa\" and \"az\" * 2 = \"azaz\"."
   ]
  },
  {
   "cell_type": "markdown",
   "metadata": {},
   "source": [
    "In later lectures I'll explain how multiplying strings work. But for now just notice that in the first case you didn't know what was going on (because there were no helpful comments), but you understand what is happening in the second case because the comment explains the code. \n",
    "\n",
    "Also as a quick heads up, generally speaking, if you feel you need to write comments explaining the code then this often a sign that your code isn't actually good code. Good code usually has the property that you can just tell what it is doing just by looking at it. For example:\n"
   ]
  },
  {
   "cell_type": "code",
   "execution_count": 17,
   "metadata": {},
   "outputs": [
    {
     "name": "stdout",
     "output_type": "stream",
     "text": [
      "8\n",
      "8\n"
     ]
    }
   ],
   "source": [
    "print( 4 * 2 ) # Very simply and clear code, you can tell what it does just by looking at it.\n",
    "print( int(chr(52)).__mul__(int(chr(50))) ) # A TERRIBLE and confusing way to calculate \"4 * 2\""
   ]
  },
  {
   "cell_type": "markdown",
   "metadata": {},
   "source": [
    "Complex code often requires comments to explain what it does, and that's why comments are (sort-of) bad.\n",
    "\n",
    "Make no mistake, comments are really useful and you SHOULD use them. However, it’s often a good idea to think of comments as a last-resort; only use them if you cannot think of a way to make your code less complicated. In later lectures, I'll discuss a number of techniques for writing simple code."
   ]
  },
  {
   "cell_type": "markdown",
   "metadata": {},
   "source": [
    "## Homework\n",
    "\n",
    "Your task for this week is to get the code in the box below to work, use your understanding of comments to fix it! "
   ]
  },
  {
   "cell_type": "code",
   "execution_count": 3,
   "metadata": {},
   "outputs": [],
   "source": [
    "# print(\"\\n            *      ,MMM8&&&.            *\\n                  MMMM88&&&&&    .\\n                 MMMM88&&&&&&&\\n     *           MMM88&&&&&&&&\\n                 MMM88&&&&&&&&\\n                 'MMM88&&&&&&'\\n                   'MMM8&&&'      *\\n          |\\\\___/|\\n          )     (             .              '\\n         =\\\\     /=\\n           )===(       *\\n          /     \\\\\\n          |     |\\n         /       \\\\\\n         \\\\       /\\n  _/\\\\_/\\\\_/\\\\__  _/_/\\\\_/\\\\_/\\\\_/\\\\_/\\\\_/\\\\_/\\\\_/\\\\_/\\\\_\\n  |  |  |  |( (  |  |  |  |  |  |  |  |  |  |\\n  |  |  |  | ) ) |  |  |  |  |  |  |  |  |  |\\n  |  |  |  |(_(  |  |  |  |  |  |  |  |  |  |\\n  |  |  |  |  |  |  |  |  |  |  |  |  |  |  |\\n  |  |  |  |  |  |  |  |  |  |  |  |  |  |  |\\n\")"
   ]
  }
 ],
 "metadata": {
  "kernelspec": {
   "display_name": "Python 3",
   "language": "python",
   "name": "python3"
  },
  "language_info": {
   "codemirror_mode": {
    "name": "ipython",
    "version": 3
   },
   "file_extension": ".py",
   "mimetype": "text/x-python",
   "name": "python",
   "nbconvert_exporter": "python",
   "pygments_lexer": "ipython3",
   "version": "3.7.4"
  }
 },
 "nbformat": 4,
 "nbformat_minor": 2
}
