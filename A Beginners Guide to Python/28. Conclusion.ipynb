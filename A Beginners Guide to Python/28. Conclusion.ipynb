{
 "cells": [
  {
   "cell_type": "markdown",
   "metadata": {
    "collapsed": true
   },
   "source": [
    "# CONGRATULATIONS!\n",
    "\n",
    "Well done you made it. I sincerely hope you enjoyed your time with me and I hope you will continue your studies and do great things in Python. \n",
    " \n",
    "Regards, \n",
    "             Chris. \n",
    "\n",
    "\n",
    "### Last Updated:  \n",
    "\n",
    "17/01/2020\n",
    "\n",
    "### Version History\n",
    "\n",
    "* 17th Jan  '20:  Substantial rewrite and content improvement.\n",
    "* 8th  Dec  '17:  Redone all lectures, changed/added some content, fixed a lot of typos/grammer stuff.\n",
    "* 26th June '17:  Redone lecture numbers, added \"Guide FAQ\" section, completed (first draft) of main project.\n",
    "* 23rd June '17:  Added first drafts of the main project, added a new lecture on how to use/install jupyter notebooks.\n",
    "* 22nd June '17:  1.0 (Alpha) released! Posted to 'learn python' subreddit.\n",
    "\n",
    "### Acknowledgements\n",
    "\n",
    "* Thankyou to everyone who helped make this possible, however small your contribution. :)"
   ]
  },
  {
   "cell_type": "code",
   "execution_count": null,
   "metadata": {},
   "outputs": [],
   "source": []
  }
 ],
 "metadata": {
  "kernelspec": {
   "display_name": "Python 3",
   "language": "python",
   "name": "python3"
  },
  "language_info": {
   "codemirror_mode": {
    "name": "ipython",
    "version": 3
   },
   "file_extension": ".py",
   "mimetype": "text/x-python",
   "name": "python",
   "nbconvert_exporter": "python",
   "pygments_lexer": "ipython3",
   "version": "3.7.4"
  }
 },
 "nbformat": 4,
 "nbformat_minor": 2
}
