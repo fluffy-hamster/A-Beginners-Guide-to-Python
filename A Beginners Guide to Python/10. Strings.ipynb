{
 "cells": [
  {
   "cell_type": "markdown",
   "metadata": {
    "collapsed": true
   },
   "source": [
    "# Strings\n",
    "\n",
    "In previous lectures we have seen strings being used numerous times. Today we are going to go into a bit more detail. First, some terminology:\n",
    "\n",
    "* 'single-quote character' refers to unicode character 34,  --> { ' }\n",
    "* 'double-quote character' refers to unicode character 39,  --> { \" }\n",
    "* and if I say 'quote-character' then I refer to both/either of the above.\n",
    "\n",
    "Okay, lets begin!\n",
    "\n",
    "\n",
    "## What is a string?\n",
    "\n",
    "A string is basically a bunch of unicode characters, this makes them the ideal data type for storing written text. The Syntax:\n",
    "\n",
    "    {quote-character} unicode characters {MATCHING quote-character}\n",
    "\n",
    "Examples:\n",
    "\n",
    "* \"hello\" # Valid syntax\n",
    "* 'hello' # also valid syntax\n",
    "* \"hello' # doesn't work; uses both quotation characters.\n",
    "\n",
    "And just as with numbers, we can also convert other data-types to strings using the str function.\n",
    "\n",
    "## Why do both single and double quote characters work?\n",
    "\n",
    "The reason Python accepts the use of single OR double quote characters is to make it easier for dealing with text that actually contains quote-characters. Suppose for instance we wanted to store the following sentence as a string:\n",
    "\n",
    "> \"Ahhh!!!! spiders!\", cried the monster. \"Do not worry\" said our hero, \"I have a sharp spoon\".\n",
    "\n",
    "wow, I'm hooked; with epic character development like that maybe I should be writing novels instead of programming tutorials?\n",
    "\n",
    "Anyway, I digress. The point is if I try to save this sentence with double-quotes, problems occur. But I can save the string as is if wrap my string with single-quote characters. As demonstrated by the next two code snippets."
   ]
  },
  {
   "cell_type": "code",
   "execution_count": 15,
   "metadata": {},
   "outputs": [
    {
     "ename": "SyntaxError",
     "evalue": "invalid syntax (<ipython-input-15-3ef74b7e2f84>, line 2)",
     "output_type": "error",
     "traceback": [
      "\u001b[0;36m  File \u001b[0;32m\"<ipython-input-15-3ef74b7e2f84>\"\u001b[0;36m, line \u001b[0;32m2\u001b[0m\n\u001b[0;31m    cool_story_bro = \"\"Ahhh!!!! spiders!\", cried the monster. \"Do not worry\" said our hero, \"I have a sharp spoon\".\"\u001b[0m\n\u001b[0m                          ^\u001b[0m\n\u001b[0;31mSyntaxError\u001b[0m\u001b[0;31m:\u001b[0m invalid syntax\n"
     ]
    }
   ],
   "source": [
    "# wrapping text with double quotes...\n",
    "cool_story_bro = \"\"Ahhh!!!! spiders!\", cried the monster. \"Do not worry\" said our hero, \"I have a sharp spoon\".\"\n",
    "print(cool_story_bro)"
   ]
  },
  {
   "cell_type": "code",
   "execution_count": 7,
   "metadata": {
    "scrolled": true
   },
   "outputs": [
    {
     "name": "stdout",
     "output_type": "stream",
     "text": [
      "\"Ahhh!!!! spiders!\", cried the monster.\"Do not worry\" said our hero, \"I have a sharp spoon\".\n"
     ]
    }
   ],
   "source": [
    "# wrapping text with single quotes...\n",
    "cool_story_bro = '\"Ahhh!!!! spiders!\", cried the monster.\"Do not worry\" said our hero, \"I have a sharp spoon\".'\n",
    "\n",
    "print(cool_story_bro)"
   ]
  },
  {
   "cell_type": "markdown",
   "metadata": {},
   "source": [
    "## Because I messed up, you have homework.\n",
    "\n",
    "When I first wrote the example it took me about 10 minutes to actually get it working, I just couldn't figure out what the problem was!  \n",
    "\n",
    "It turns out that in the original draft my spider-maiming hero said the phrase:\n",
    "\n",
    "\t“don’t worry” \n",
    "\n",
    "The ' character in don't was messing up my attempt to enclose the whole string within single quotes. Here, let me show you:"
   ]
  },
  {
   "cell_type": "code",
   "execution_count": 8,
   "metadata": {},
   "outputs": [
    {
     "ename": "SyntaxError",
     "evalue": "invalid syntax (<ipython-input-8-5319fcad857d>, line 1)",
     "output_type": "error",
     "traceback": [
      "\u001b[1;36m  File \u001b[1;32m\"<ipython-input-8-5319fcad857d>\"\u001b[1;36m, line \u001b[1;32m1\u001b[0m\n\u001b[1;33m    cool_story_bro = '\"Ahhh!!!! spiders!\", cried the monster.\"Don't worry\" said our hero, \"I have a sharp spoon\".'\u001b[0m\n\u001b[1;37m                                                                  ^\u001b[0m\n\u001b[1;31mSyntaxError\u001b[0m\u001b[1;31m:\u001b[0m invalid syntax\n"
     ]
    }
   ],
   "source": [
    "cool_story_bro = '\"Ahhh!!!! spiders!\", cried the monster.\"Don't worry\" said our hero, \"I have a sharp spoon\".'\n",
    "\n",
    "print(cool_story_bro)"
   ]
  },
  {
   "cell_type": "markdown",
   "metadata": {},
   "source": [
    "So what was my genius solution?  Well obviously we cheat and change the text!\n",
    "\n",
    "    “don’t worry” --> “do not worry”\n",
    "\n",
    "Problem...err….solved?  \n",
    "\n",
    "Anyway,  Python does have ways of handling such inputs, your homework for this week to figure out how to make my intended string work – if it takes you less than 10 minutes then congratulations, you figured it out faster than I did. :)\n",
    "\n",
    "## The str function\n",
    "\n",
    "Just like the int() and float() functions, the str function is a good way to convert one data-type to another. If I have the an integer and I want to store it as a string I can simply call the str() function, and Python will do the rest. The code snippet below will take any float/integer and return a string representation of that number. "
   ]
  },
  {
   "cell_type": "code",
   "execution_count": 9,
   "metadata": {},
   "outputs": [
    {
     "name": "stdout",
     "output_type": "stream",
     "text": [
      "4555549099511 <class 'str'>\n",
      "-0.0044352334 <class 'str'>\n",
      "43000000000.0 <class 'str'>\n",
      "43000000000.0 <class 'float'>\n"
     ]
    }
   ],
   "source": [
    "def num_to_string(number):\n",
    "    \"\"\"takes a number of type float/int, returns string of that number\"\"\"\n",
    "    return str(number)\n",
    "\n",
    "# For an explanation of the next three lines of code, please see the 'calling functions' lecture. \n",
    "a = num_to_string(4555549099511) # large integer\n",
    "b = num_to_string(-0.0044352334) # negative float\n",
    "c = num_to_string(4.3e10) # scientific notation\n",
    "\n",
    "print(a, type(a))\n",
    "print(b, type(b))\n",
    "print(c, type(c)) \n",
    "\n",
    "# and notice that we can use the float/int methods to convert the strings back to numbers just as easily...\n",
    "print( float(c), type(float(c)) )"
   ]
  },
  {
   "cell_type": "markdown",
   "metadata": {},
   "source": [
    "## Why might you want to do this?\n",
    "\n",
    "One reason you might want to store a number as a string is because if you convert a number to a string you have access to more 'methods' which may make some processes easier.\n",
    "\n",
    "for example, lets suppose I want to find out what the first two digits of the number are. Converting a number to a string makes this process easy since strings are iterable and can be indexed into, whereas numbers cannot. Thats a lot of techinical jargon right now, but don't worry we shall cover indexing later."
   ]
  },
  {
   "cell_type": "code",
   "execution_count": 4,
   "metadata": {},
   "outputs": [
    {
     "name": "stdout",
     "output_type": "stream",
     "text": [
      "10\n",
      "93\n",
      "11\n"
     ]
    }
   ],
   "source": [
    "def first_two_digits(number):\n",
    "    n = str(number) # < -- convert number to string\n",
    "    n = n[:2]       # < -- get the first two characters via slicing (more on slicing later).\n",
    "    n = int(n)      # < -- converting n back to a number.\n",
    "    \n",
    "    return n\n",
    "\n",
    "print(first_two_digits(100000))\n",
    "print(first_two_digits(933323))\n",
    "print(first_two_digits(11))"
   ]
  },
  {
   "cell_type": "markdown",
   "metadata": {},
   "source": [
    "## Escape Characters\n",
    "\n",
    "Text frequently has ‘meta-data’ attached to it, by meta-data in this context I’m mainly talking about things like HTML tags;  font colour, size, stylings (e.g **bold**, *italic*),  and so on.  \n",
    "\n",
    "The normal process for handling this is to have the code embedded into the text itself. In other words, the text itself has characters that Python has parse as commands. \n",
    "\n",
    "But for some applications you might want to have the ability to literally print every character passed in.  So example, in the example directly below we have two lines of text, a pink heading and some text with tags.  Crucially these two pieces of text are the same; the difference in what we see is the difference between literally printing the HTML tags versus executing them.\n",
    "\n",
    "> <h1 style=\"color:pink;\">This is a heading</h1>\n",
    "&lt;h1 style=&quot;color:pink;&quot;&gt;This is a heading&lt;/h1&gt;\n",
    "\n",
    "So, how does the computer know to interpret text in one way and not the other? Well, the solution is something called “escape characters”. \n",
    "\n",
    "Just for completeness, to show you the tags to get pink text I had to use several HTML escape characters, I typed the following monstrocity:\n",
    "\n",
    "> &amp;lt;h1 style=&amp;quot;color:pink;&amp;quot;&amp;gt;This is a heading&amp;lt;/h1&amp;gt;\n",
    "\n",
    "Thats a complex line of jargon I couldn't have done without the help of [this tool](https://www.freeformatter.com/html-escape.html). So yeah, escaping in HTML can be bit tricky but fortunately for us escape characters in Python are a bit easier to work with.\n",
    "\n",
    "Consider the following lines of code."
   ]
  },
  {
   "cell_type": "code",
   "execution_count": 5,
   "metadata": {},
   "outputs": [
    {
     "ename": "SyntaxError",
     "evalue": "EOL while scanning string literal (<ipython-input-5-acf1ca423f4a>, line 2)",
     "output_type": "error",
     "traceback": [
      "\u001b[1;36m  File \u001b[1;32m\"<ipython-input-5-acf1ca423f4a>\"\u001b[1;36m, line \u001b[1;32m2\u001b[0m\n\u001b[1;33m    b = \"\\\"\u001b[0m\n\u001b[1;37m           ^\u001b[0m\n\u001b[1;31mSyntaxError\u001b[0m\u001b[1;31m:\u001b[0m EOL while scanning string literal\n"
     ]
    }
   ],
   "source": [
    "a = \"\\\\\"\n",
    "b = \"\\\""
   ]
  },
  {
   "cell_type": "markdown",
   "metadata": {},
   "source": [
    "At first glance this code seems perfectly fine, right? The variable 'A' should be the string \\\\\\ right? And variable 'B' should just be a single backslash. But we don't get that, Python throws and error!\n",
    "\n",
    "What’s going on here? Well, the reason is that the backslash character (\\\\) is an escape character in Python. To actually get Python to literally print \"\\\\\\\\\" or \"\\\\\" we would actually have to type out: "
   ]
  },
  {
   "cell_type": "code",
   "execution_count": 6,
   "metadata": {},
   "outputs": [
    {
     "name": "stdout",
     "output_type": "stream",
     "text": [
      "\\\\ \\\n"
     ]
    }
   ],
   "source": [
    "a = \"\\\\\\\\\"   # double \\\\\n",
    "b = \"\\\\\"     # single \\\n",
    "\n",
    "print(a, b)\n",
    "# Note that I didn't have to do any escaping in the comments, thats because Python just ignores comments!"
   ]
  },
  {
   "cell_type": "markdown",
   "metadata": {},
   "source": [
    "It is important to be aware of these Python features because If you don't know this stuff it you can be easily 'caught-out' the moment you start trying to parse complex strings. In what follows I have a (hopefully humorous) example of why you should care about this stuff. Let’s talk *pathing*. "
   ]
  },
  {
   "cell_type": "code",
   "execution_count": 18,
   "metadata": {},
   "outputs": [
    {
     "name": "stdout",
     "output_type": "stream",
     "text": [
      "C:\\Documents\\pictures\\selfies\n"
     ]
    }
   ],
   "source": [
    "directory = \"C:\\Documents\\pictures\\selfies\"\n",
    "print(directory)"
   ]
  },
  {
   "cell_type": "markdown",
   "metadata": {},
   "source": [
    "So let's imagine we are building some sort of code that saves a directory as a string for use later on. If we print this particular directory we get no surprises, it just works as we would expect.\n",
    "\n",
    "But hold-up, what if I wanted to send my girlfriend a naughty photo! inside of my 'selfies' folder I have a 'nudes' folder. And inside the 'nudes' folder I have a plethora of Jpegs; my little sausage pictured from a variety of different angles wearing an assortment of novelty hats.\n",
    "<img src=\"http://i.imgur.com/wVrnjgc.png\" style=\"width:300px;height:170px;\" ALIGN=\"right\">\n",
    "> “Wait, did he just say little?” \n",
    "\n",
    "\n",
    "On this occasion however, let's pretend I'm not a total weirdo (debatable), I want to sent her something *arty*, something *classy*.\n",
    "\n",
    "    [scurries through folder...]\n",
    "    [finds ... 'tasteful.jpeg' ]\n",
    " \n",
    "Alright, lets code that up and see what happens..."
   ]
  },
  {
   "cell_type": "code",
   "execution_count": 19,
   "metadata": {},
   "outputs": [
    {
     "name": "stdout",
     "output_type": "stream",
     "text": [
      "C:\\Documents\\pictures\\selfies\n",
      "udes\tasteful.jpeg\n"
     ]
    }
   ],
   "source": [
    "directory2 = \"C:\\Documents\\pictures\\selfies\\nudes\\tasteful.jpeg\" \n",
    "print(directory2)"
   ]
  },
  {
   "cell_type": "markdown",
   "metadata": {},
   "source": [
    "Oh dear! It seems like python doesn't want me to send dick-pics over the internet afterall! thats a pity, a big pity (wink wink). \n",
    "\n",
    "What has gone wrong? Well, basically every time Python see's a backslash character it looks to see what the next character is. In the case of directory above, we have the following: \\\\D, \\\\p, \\\\s, \\\\n, \\\\t\n",
    "\n",
    "This first time we ran the code we didn't get any errors because \\\\D \\\\p where not special 'commands'. However, both \\\\n and \\\\t are special commands in Python.  These commands get  executed  and we get a different result.\n",
    "\n",
    "## New line...\n",
    "\n",
    "As an aside, \\\\n is a very useful command to use within strings. It starts a new line, and splitting data up into separate lines frequently comes in useful. \n",
    "\n",
    "    \"{some text}\\n{more text}\"\n",
    "\n",
    "Simple example:"
   ]
  },
  {
   "cell_type": "code",
   "execution_count": 1,
   "metadata": {},
   "outputs": [
    {
     "name": "stdout",
     "output_type": "stream",
     "text": [
      "hello\n",
      "world\n",
      "hello\tworld\n"
     ]
    }
   ],
   "source": [
    "greeting = \"hello\\nworld\"\n",
    "print(greeting)\n",
    "\n",
    "# using \\t (which is tab)\n",
    "greeting = \"hello\\tworld\"\n",
    "print(greeting)\n",
    "\n",
    "# There are other commands of course, but I feel that most of them are not useful enough to be worth teaching. "
   ]
  },
  {
   "cell_type": "markdown",
   "metadata": {},
   "source": [
    "In short, \\n is a newline, and \\t is tab. Thus, if we are trying to save/open files/folders on windows systems that start with t or n we can end up having some difficulties. \n",
    "\n",
    "There are a few solutions to this problem. If you are dealing with directories specificially then the best choice is to you the os module. This module will fix a number of these issues for you (the os module works on linux and windows machines).\n",
    "\n",
    "for example:"
   ]
  },
  {
   "cell_type": "code",
   "execution_count": 4,
   "metadata": {},
   "outputs": [
    {
     "name": "stdout",
     "output_type": "stream",
     "text": [
      "C:\\Documents\\pictures\\selfies\\santa_hat2.jpeg\n",
      "C:\\Documents\\pictures\\selfies\\santa_hat2.jpeg\n"
     ]
    }
   ],
   "source": [
    "import os\n",
    "\n",
    "directory = \"C:\\Documents\\pictures\\selfies\"\n",
    "photo_name = \"santa_hat2.jpeg\" \n",
    "\n",
    "## the bad way\n",
    "path_to_photo_1 = directory + \"\\\\\" + photo_name\n",
    "\n",
    "## the good way\n",
    "path_to_photo_2 = os.path.join(directory, photo_name)\n",
    "\n",
    "print(path_to_photo_1)\n",
    "print(path_to_photo_2)"
   ]
  },
  {
   "cell_type": "markdown",
   "metadata": {},
   "source": [
    "However, the above method only works for file systems, how can we solve this problem in a more general way?"
   ]
  },
  {
   "cell_type": "markdown",
   "metadata": {},
   "source": [
    "## Raw strings...\n",
    "\n",
    "So what can we do if we want Python to ignore these commands? Well, the simplest solution is to put an 'r' before the string starts. The 'r' here tells Python we want a *raw string.*"
   ]
  },
  {
   "cell_type": "code",
   "execution_count": 5,
   "metadata": {},
   "outputs": [
    {
     "name": "stdout",
     "output_type": "stream",
     "text": [
      "The raw string version looks like this:\n",
      " \\nevery\\nword\\nis\\non\\na\\nnew\\nline\n",
      "\n",
      "\n",
      "The normal version of string looks like this:\n",
      " \n",
      "every\n",
      "word\n",
      "is\n",
      "on\n",
      "a\n",
      "new\n",
      "line\n"
     ]
    }
   ],
   "source": [
    "string1 = r\"\\nevery\\nword\\nis\\non\\na\\nnew\\nline\"  # notice the 'r' BEFORE the double-quote mark?\n",
    "string2 =  \"\\nevery\\nword\\nis\\non\\na\\nnew\\nline\"  # without the 'r', for comparision. \n",
    "\n",
    "print(\"The raw string version looks like this:\\n\", string1)\n",
    "print(\"\\n\") \n",
    "print(\"The normal version of string looks like this:\\n\", string2)"
   ]
  },
  {
   "cell_type": "markdown",
   "metadata": {},
   "source": [
    "## A Few More Operations...\n",
    "\n",
    "Strings are a huge topic in Python, and we are going to have come back to them latter. But for now, let me leave you with a few basic operations you can perform on strings..."
   ]
  },
  {
   "cell_type": "code",
   "execution_count": 12,
   "metadata": {},
   "outputs": [
    {
     "name": "stdout",
     "output_type": "stream",
     "text": [
      "aaaaaaaaaa\n",
      "abcabcabc\n"
     ]
    }
   ],
   "source": [
    "# Repeating strings\n",
    "     \n",
    "#     {string} * {integer}\n",
    "\n",
    "# Examples:\n",
    "\n",
    "print(\"a\" * 10)\n",
    "print(\"abc\" * 3)  "
   ]
  },
  {
   "cell_type": "code",
   "execution_count": 13,
   "metadata": {},
   "outputs": [
    {
     "name": "stdout",
     "output_type": "stream",
     "text": [
      "abc\n",
      "abc\n"
     ]
    }
   ],
   "source": [
    "# Concatenation \n",
    "\n",
    "#    {string} + {string}\n",
    "\n",
    "# Examples:\n",
    "\n",
    "print(\"ab\" + \"c\")\n",
    "print(\"a\" + \"b\" + \"c\")"
   ]
  },
  {
   "cell_type": "code",
   "execution_count": 10,
   "metadata": {},
   "outputs": [
    {
     "name": "stdout",
     "output_type": "stream",
     "text": [
      "True\n",
      "False\n",
      "False\n"
     ]
    }
   ],
   "source": [
    "# Membership\n",
    "\n",
    "#   {string} in {string}    \n",
    "\n",
    "# Examples:\n",
    "\n",
    "print(\"a\" in \"ab\")\n",
    "print(\"a\" in \"cb\")\n",
    "print(\"abc\" in \"aabbcc\")  # must be an exact match. "
   ]
  },
  {
   "cell_type": "markdown",
   "metadata": {
    "collapsed": true
   },
   "source": [
    "### HOMEWORK ASSIGNMENT\n",
    "\n",
    "Name a variable \"cool_story_bro\" and then assign the the following text as a string:\n",
    "\n",
    ">\"Ahhh!!!! spiders!\", cried the monster.\"Don't worry\" said our hero, \"I have a sharp spoon\".\n",
    "\n",
    "Once complete, print it."
   ]
  },
  {
   "cell_type": "code",
   "execution_count": null,
   "metadata": {
    "collapsed": true
   },
   "outputs": [],
   "source": [
    "# Your answer here…"
   ]
  }
 ],
 "metadata": {
  "kernelspec": {
   "display_name": "Python 3",
   "language": "python",
   "name": "python3"
  },
  "language_info": {
   "codemirror_mode": {
    "name": "ipython",
    "version": 3
   },
   "file_extension": ".py",
   "mimetype": "text/x-python",
   "name": "python",
   "nbconvert_exporter": "python",
   "pygments_lexer": "ipython3",
   "version": "3.7.4"
  }
 },
 "nbformat": 4,
 "nbformat_minor": 2
}
