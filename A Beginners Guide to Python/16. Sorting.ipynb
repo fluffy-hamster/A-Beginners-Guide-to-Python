{
 "cells": [
  {
   "cell_type": "markdown",
   "metadata": {},
   "source": [
    "# Sorting\n",
    "\n",
    "The sort method takes a list and shuffles the data around such that the list is sorted into some order. The sort method has two optional arguments, reverse (which can take the value True or False) and key (which requires a function).\n",
    "\n",
    "By default, Python sorts from smallest-to-largest value, but obviously if you set reverse=True the returned list will be ordered largest-to-smallest.\n",
    " \n",
    "Let’s start with a simple example involving numbers:"
   ]
  },
  {
   "cell_type": "code",
   "execution_count": 1,
   "metadata": {},
   "outputs": [
    {
     "name": "stdout",
     "output_type": "stream",
     "text": [
      "shuffled list:     [10, 15, 6, 12, 11, 5, 3, 4, 9, 13, 7, 8, 1, 14, 2]\n",
      "sorted list:       [1, 2, 3, 4, 5, 6, 7, 8, 9, 10, 11, 12, 13, 14, 15]\n",
      "sorted (reverse):  [15, 14, 13, 12, 11, 10, 9, 8, 7, 6, 5, 4, 3, 2, 1]\n"
     ]
    }
   ],
   "source": [
    "import random\n",
    "list_1 = list(range(1, 16))   # creates a list 1...15\n",
    "\n",
    "random.shuffle(list_1)     # shuffles the list \n",
    "print( \"shuffled list:    \", list_1)\n",
    "\n",
    "list_1.sort()\n",
    "print(\"sorted list:      \", list_1)\n",
    "\n",
    "list_1.sort(reverse= True)\n",
    "print(\"sorted (reverse): \", list_1)"
   ]
  },
  {
   "cell_type": "markdown",
   "metadata": {},
   "source": [
    "Sorting can get a bit more tricky when dealing with different data types, for example, how do you sort a list of strings? or a list of lists? Well, Python will have a default behaviour in each case, and if you ever need to know I'd recommend google.\n",
    "\n",
    "As a quick word of caution, I'd be careful about sorting lists containing multiple data types. The logic being your code is more likely to throw errors. Far worse still, instead of errors your data may just end up being junk!\n",
    "\n",
    "Simple example:"
   ]
  },
  {
   "cell_type": "code",
   "execution_count": 2,
   "metadata": {},
   "outputs": [
    {
     "name": "stdout",
     "output_type": "stream",
     "text": [
      "[-4, -3, -2, False, True, 2, 3, 4]\n"
     ]
    }
   ],
   "source": [
    "our_list = [True, False, -4, -3, -2, 2, 3, 4]\n",
    "our_list.sort()\n",
    "print(our_list)"
   ]
  },
  {
   "cell_type": "markdown",
   "metadata": {},
   "source": [
    "In this case, we have a list containing booleans (more on those later) and integers. \n",
    "Before we even start to question what Python is doing it might be worth asking ourselves the following question:\n",
    "> “How would we sort a list like this?”\n",
    "\n",
    "Does it really make sense to sort by size and then shove True, False in the middle? A more 'human' approach might be to sort by type and then by size.\n",
    "    \n",
    "    [False, True, -4, -3, -2, 2, 3, 4]\n",
    "    \n",
    "In any case, I can explain to you Pythons weird look decision to put True, False right in the smack of the list by spending a few moments explaining that Booleans (i.e. True/False) are NOT ‘special’ in Python. As a matter of fact, True is just the number 1 and False is just the number 0. Here, let me show you:"
   ]
  },
  {
   "cell_type": "code",
   "execution_count": 8,
   "metadata": {},
   "outputs": [
    {
     "name": "stdout",
     "output_type": "stream",
     "text": [
      "3\n",
      "21\n",
      "0\n"
     ]
    }
   ],
   "source": [
    "print(True + True + True)   # 1 + 1 + 1 = 3\n",
    "print(True + 20)            # 1 + 20  = 21\n",
    "print((True + 20) * False)  # (20 + 1) * 0 = 0"
   ]
  },
  {
   "cell_type": "markdown",
   "metadata": {},
   "source": [
    "Once you understand that True/False are actually numbers in Python (specifically 1 and 0) its easy to understand why the sort function put these two values smack centre in our list of numbers.\n",
    "\n",
    "So yeah, to protect yourself against \"junk\" output you have to really careful about what you are doing; a good question to ask yourself is: \n",
    "\n",
    ">\"Does this task I'm asking of Python even make sense?\" \n",
    "\n",
    "Alright, before wrapping up this section on sorting lets checkout the optional argument 'key'. Basically, the sort function, when given this optional argument will sort the data according to the specified key. Its probably easiest if I just show you..."
   ]
  },
  {
   "cell_type": "code",
   "execution_count": 16,
   "metadata": {},
   "outputs": [
    {
     "name": "stdout",
     "output_type": "stream",
     "text": [
      "Default sort (small to large)...\n",
      "[0, 0, 1, 1, 1, 1, 1, 1, 2, 3, 3, 4, 5, 8, 8, 8, 9, 33, 33, 40, 50, 55, 55, 55, 55, 98, 40000, 324343434]\n",
      "\n",
      "Sort by 'count' (i.e. how many times each number occurs)...\n",
      "[9, 2, 4, 5, 324343434, 40000, 50, 40, 98, 0, 0, 3, 3, 33, 33, 8, 8, 8, 55, 55, 55, 55, 1, 1, 1, 1, 1, 1]\n",
      "\n",
      "Sort by 'number of digits'...\n",
      "[8, 8, 8, 0, 0, 9, 1, 2, 3, 4, 5, 1, 1, 1, 1, 1, 3, 55, 55, 55, 55, 50, 40, 33, 33, 98, 40000, 324343434]\n"
     ]
    }
   ],
   "source": [
    "the_list = [8, 8, 8, 0, 0, 9, 1, 2, 3, 4, 5, 55, 55, 55, 55, 324343434, 40000, 50, 40, 1, 1, 1, 1, 1, 3, 33, 33, 98]\n",
    "\n",
    "by_default    = sorted(the_list)\n",
    "by_count      = sorted(the_list, key= lambda x: the_list.count(x)) # Lambda is explained below!\n",
    "by_digits_num = sorted(the_list, key= lambda x: len(str(x)))\n",
    "\n",
    "\n",
    "print(\"Default sort (small to large)...\", by_default,  \n",
    "      \"\\nSort by 'count' (i.e. how many times each number occurs)...\", by_count,\n",
    "      \"\\nSort by 'number of digits'...\", by_digits_num, sep=\"\\n\")"
   ]
  },
  {
   "cell_type": "markdown",
   "metadata": {},
   "source": [
    "So, you may notice that the 'sort by n digits' list only checks how many digits are in a number and doesn't sort beyond that. In other words, because the sort puts all the one digit numbers e.g before the two digit numbers but the numbers are not in any order beyond that (e.g one digit numbers are NOT sorted from smallest-to-largest).\n",
    "\n",
    "If you want to by two categories then things get a bit complicated. But here's a quick example: "
   ]
  },
  {
   "cell_type": "code",
   "execution_count": 2,
   "metadata": {},
   "outputs": [
    {
     "name": "stdout",
     "output_type": "stream",
     "text": [
      "[0, 0, 1, 1, 1, 1, 1, 1, 2, 3, 3, 4, 5, 8, 8, 8, 9, 33, 33, 40, 50, 55, 55, 55, 55, 98, 40000, 324343434]\n",
      "[324343434, 40000, 98, 55, 55, 55, 55, 50, 40, 33, 33, 9, 8, 8, 8, 5, 4, 3, 3, 2, 1, 1, 1, 1, 1, 1, 0, 0]\n"
     ]
    }
   ],
   "source": [
    "the_list = [8, 8, 8, 0, 0, 9, 1, 2, 3, 4, 5, 55, 55, 55, 55, 324343434, 40000, 50, 40, 1, 1, 1, 1, 1, 3, 33, 33, 98]\n",
    "\n",
    "by_len_then_size = sorted(the_list, key=lambda x: (len(str(x)), x))\n",
    "by_len_then_size_large_first = sorted(the_list, key=lambda x: (-len(str(x)), -x))\n",
    "\n",
    "print(by_len_then_size)\n",
    "print(by_len_then_size_large_first)"
   ]
  },
  {
   "cell_type": "markdown",
   "metadata": {},
   "source": [
    "This works by creating a small two element structure as our key. We sort by the first item, and then, if there is a tie we sort by the second item. So for example the pair (2,0) comes before the pair (2,1) because 1 is greater than 0. Likewise (6,-10) comes after (2,0) and (2,1) because 6 is greater than both 0 and 1.\n",
    "\n",
    "If I want the values in the opposite order (large-to-small), then a quick trick I can employ is the flip the sign of the number when creating the key. This means that large numbers become very small numbers and small numbers become large. Thus, in this case Python is still sorting from small-to-large; we made it work by changing the numbers.\n",
    "\n",
    "in the example above, I think it would have been better to write the following:\n",
    "\n",
    "    by_len_then_size_large_first = sorted(the_list, key=lambda x: (len(str(x)), x), reverse=True)\n",
    "\n",
    "However this \"flip the sign\" trick can be useful if you ever what to sort category X by largest first and category Y by smallest first (or vice-versa). For example, maybe you want to sort by age first and then by largest salary."
   ]
  },
  {
   "cell_type": "code",
   "execution_count": 3,
   "metadata": {},
   "outputs": [
    {
     "name": "stdout",
     "output_type": "stream",
     "text": [
      "[[200, 19], [100, 19], [100, 23], [200, 27], [300, 33]]\n",
      "[[300, 33], [200, 27], [100, 23], [100, 19], [200, 19]]\n"
     ]
    }
   ],
   "source": [
    "## Each mini list is a person, salary first and age second. For example the first person earns £100 and is 23yrs old.\n",
    "age_and_salaries = [[100, 23], [100, 19], [200, 27], [200, 19], [300, 33]]\n",
    "\n",
    "age_then_wealth = sorted(age_and_salaries, key=lambda x: (x[1], -x[0]))\n",
    "wealth_then_age = sorted(age_and_salaries, key=lambda x: (-x[1], x[0]))\n",
    "\n",
    "print(age_then_wealth)\n",
    "print(wealth_then_age)"
   ]
  },
  {
   "cell_type": "markdown",
   "metadata": {},
   "source": [
    "Is a quick final point, I'd like to stress than any function that takes one input ('x') and returns a number can be used as our sorting method.\n",
    "\n",
    "And so, if we wanted shuffle a list into a random order we could actually sort the list. Which may sound counter-intuitive at first, but really, when you think about it, it makes some sense; all sorting is doing is arranging some numbers according so some rule, the rule itself could be anything we like. "
   ]
  },
  {
   "cell_type": "code",
   "execution_count": 6,
   "metadata": {},
   "outputs": [
    {
     "name": "stdout",
     "output_type": "stream",
     "text": [
      "[8, 8, 8, 0, 0, 9, 1, 2, 3, 4, 5, 55, 55, 55, 55, 324343434, 40000, 50, 40, 1, 1, 1, 1, 1, 3, 33, 33, 98]\n",
      "[2, 8, 1, 1, 0, 50, 33, 3, 9, 40000, 8, 40, 8, 55, 4, 1, 0, 1, 1, 1, 33, 55, 3, 324343434, 55, 5, 55, 98]\n"
     ]
    }
   ],
   "source": [
    "import random\n",
    "\n",
    "the_list = [8, 8, 8, 0, 0, 9, 1, 2, 3, 4, 5, 55, 55, 55, 55, 324343434, 40000, 50, 40, 1, 1, 1, 1, 1, 3, 33, 33, 98]\n",
    "random_shuffle = sorted(the_list, key=lambda x: random.random())\n",
    "\n",
    "print(the_list)\n",
    "print(random_shuffle)"
   ]
  },
  {
   "cell_type": "markdown",
   "metadata": {},
   "source": [
    "I mention this because its a good 'brain-teaser' type excerise. In Computer Science, a large number of difficult problems can be solved once you change your perpective."
   ]
  },
  {
   "cell_type": "markdown",
   "metadata": {},
   "source": [
    "\n",
    "## Lambda functions \n",
    "\n",
    "There is nothing particularly special about lambda functions, they are just another way to build a function. lambda's are mainly used when you are trying to create a simple function quickly and you don't think you will need to call again.\n",
    "\n",
    "    is_zero = lambda x: x == 0\n",
    "    add = lambda x, y: x + y\n",
    "\n",
    "The first lambda function above is simply asking if x is equal to zero. In the syntax you are more familiar with it would be written like this:\n",
    "\n",
    "    def is_zero(x):\n",
    "        return x == 0\n",
    "\n",
    "similarly the second lambda adds x to y. In 'normal' function syntax:\n",
    "\n",
    "    def add(x, y):\n",
    "        return x + y"
   ]
  },
  {
   "cell_type": "code",
   "execution_count": null,
   "metadata": {},
   "outputs": [],
   "source": []
  }
 ],
 "metadata": {
  "kernelspec": {
   "display_name": "Python 3",
   "language": "python",
   "name": "python3"
  },
  "language_info": {
   "codemirror_mode": {
    "name": "ipython",
    "version": 3
   },
   "file_extension": ".py",
   "mimetype": "text/x-python",
   "name": "python",
   "nbconvert_exporter": "python",
   "pygments_lexer": "ipython3",
   "version": "3.7.4"
  }
 },
 "nbformat": 4,
 "nbformat_minor": 2
}
