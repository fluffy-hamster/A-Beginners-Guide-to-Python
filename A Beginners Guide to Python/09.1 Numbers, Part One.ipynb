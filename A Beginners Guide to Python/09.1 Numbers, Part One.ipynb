{
 "cells": [
  {
   "cell_type": "markdown",
   "metadata": {},
   "source": [
    "# Numbers\n",
    "\n",
    "Today we shall be discussing floats and integers. The good news is that most of the stuff we shall be covering today should be intuitive. Okay, let’s get moving... \n",
    "\n",
    "## Integers\n",
    "\n",
    "Integers are **whole numbers** like -6, 10, 1066 etc. In Python, integers work much in the same way they do in mathematics.\n",
    "\n",
    "There are two main ways to create integers within Python:\n",
    "\n",
    "1.  Just type a number into the console. Yeah, its that easy!\n",
    "1.  use a special built-in function called 'int'. \n",
    "\n",
    "Every data-type in Python has a function that can be used to convert objects into that type, for example, lists have the list() function, strings have the str() function and so on. Unsurprisingly then int() is used to convert non-integers into integers. For example, if I have the string “1066” I can use int() to convert it. "
   ]
  },
  {
   "cell_type": "code",
   "execution_count": 1,
   "metadata": {},
   "outputs": [
    {
     "name": "stdout",
     "output_type": "stream",
     "text": [
      "1066\n",
      "<class 'int'>\n"
     ]
    }
   ],
   "source": [
    "string_number = \"1066\"\n",
    "integer = int(string_number)\n",
    "\n",
    "print(int(integer))\n",
    "print(type(integer))  # <-- the type function returns the type of the object passed in eg 1 is an integer, \"hi\" is a string, etc."
   ]
  },
  {
   "cell_type": "markdown",
   "metadata": {},
   "source": [
    "The int() function also takes an optional argument base as well.  So for example “1111”, base=2 will treat “1111” as a binary number and will return whatever that number is in base 10."
   ]
  },
  {
   "cell_type": "code",
   "execution_count": 1,
   "metadata": {},
   "outputs": [
    {
     "data": {
      "text/plain": [
       "15"
      ]
     },
     "execution_count": 1,
     "metadata": {},
     "output_type": "execute_result"
    }
   ],
   "source": [
    "int(\"1111\", base = 2)"
   ]
  },
  {
   "cell_type": "markdown",
   "metadata": {},
   "source": [
    "If we give the int function a float (more on them later) it will return the integer part of the number. Take care to note it always rounds down.\n"
   ]
  },
  {
   "cell_type": "code",
   "execution_count": 3,
   "metadata": {},
   "outputs": [
    {
     "data": {
      "text/plain": [
       "6"
      ]
     },
     "execution_count": 3,
     "metadata": {},
     "output_type": "execute_result"
    }
   ],
   "source": [
    "int(6.99999999999999)"
   ]
  },
  {
   "cell_type": "markdown",
   "metadata": {},
   "source": [
    "## Integer Methods\n",
    "\n",
    "If we have two integer numbers (lets say A and B), then you probably won't be suprised to hear that we can add, subtract, and multiply those numbers together. The symbols for those commands are as follows:"
   ]
  },
  {
   "cell_type": "code",
   "execution_count": 4,
   "metadata": {},
   "outputs": [
    {
     "name": "stdout",
     "output_type": "stream",
     "text": [
      "15\n",
      "5\n",
      "50\n",
      "100000\n",
      "0\n",
      "2.0\n",
      "2\n",
      "-10 10\n"
     ]
    }
   ],
   "source": [
    "a = 10\n",
    "b = 5\n",
    "\n",
    "print(a +  b)  # addition\n",
    "print(a -  b)  # subtraction\n",
    "print(a *  b)  # multiplication\n",
    "print(a ** b)  # exponentation\n",
    "print(a %  b)  # modular arithmetic\n",
    "print(a /  b)  # divsion (note, returns a float! Also, Python2 and Python3 act differently here, so beware!)\n",
    "print(a // b)  # integer division\n",
    "\n",
    "# For negative numbers, just add a \"-\" symbol before the number, for example:\n",
    "print(-a, a) "
   ]
  },
  {
   "cell_type": "markdown",
   "metadata": {},
   "source": [
    "## Modular Arithmetic\n",
    "\n",
    "Modular Arithmetic is something you can learn more about [here](https://en.wikipedia.org/wiki/Modular_arithmetic). I’m going to skip most of the math and just show you a few common uses:\n",
    "\n",
    "* Work out if B is a divisor of A  (If not, we get the remainder)\n",
    "* Creating numerical cycles (eg, 121212121...)\n",
    "* Grabbing the last n digits of a number.\n",
    "\n",
    "#### divisors...\n",
    "\n",
    "A % B gives the remainder of A / B. Thus if A % B is 0 then that means the B must be a divisor of A. Ergo if x % 2 equals zero then that means x is an even number. \n",
    "\n",
    "#### 'cycles'...\n",
    "\n",
    "As for cycles, an obvious use for this is stuff like measuring time, a clocks hand resets after hitting 60:\n",
    "\t\n",
    "    58 % 60 = 58\n",
    "    59 % 60 = 59\n",
    "\t60 % 60 = 0    ←- count ‘resets’\n",
    "\t61 % 60 = 1\n",
    "\t62 % 60 = 2\n",
    "\n",
    "Once we hit 61 secs then we would prefer to set the secs timer back to zero and update minutes. thus 61 secs becomes 1min 1sec\n",
    "\n",
    "#### getting n last digits...\n",
    "\n",
    "And finally, you can get last digits of a number by using x % (power of 10). A load of examples are printed in the console below."
   ]
  },
  {
   "cell_type": "code",
   "execution_count": 36,
   "metadata": {},
   "outputs": [
    {
     "name": "stdout",
     "output_type": "stream",
     "text": [
      "0\n",
      "1\n",
      "2\n",
      "3\n",
      "4\n",
      "5\n",
      "\n",
      "\n",
      "445\n",
      "244\n",
      "23\n",
      "\n",
      "\n",
      "342302\n",
      "423423\n",
      "234567\n",
      "12345\n"
     ]
    }
   ],
   "source": [
    "# Grabbing the last digit:\n",
    "print(123423420 % 10)\n",
    "print(1234234231 % 10)\n",
    "print(12342342302 % 10)\n",
    "print(123423423023 % 10)\n",
    "print(1234234230244 % 10)\n",
    "print(12342342302445 % 10)\n",
    "\n",
    "print(\"\\n\")\n",
    "\n",
    "# Grabbing the last 3 digits:\n",
    "print(12342342302445 % 1000)\n",
    "print(1234234230244 % 1000)\n",
    "print(123423423023 % 1000) # <-- note 0 is dropped, integers cannot start with a 0. Thus 023 is simply 23\n",
    "\n",
    "print(\"\\n\")\n",
    "\n",
    "# grabbing the last 6 digits\n",
    "print(12342342302 % 1000000)\n",
    "print(123423423 % 1000000)\n",
    "print(1234567 % 1000000)\n",
    "print(12345 % 1000000)"
   ]
  },
  {
   "cell_type": "markdown",
   "metadata": {},
   "source": [
    "## Integer Divsion\n",
    "\n",
    "Integer division returns the whole number part of  A / B.  for example, 10 // 6 is 1 because 6 fits into 10 exactly once (12 // 6 is of course 2). \n",
    "\n",
    "So modulo in conjunction with integer division can get you both the whole part of A/B and the remainder of A/B\n",
    "\n",
    "\t10 // 6  = 1\n",
    "\t10 % 6   = 4 \n",
    "\t10 / 6   = 1.6666666666666667\n",
    "\n",
    "Combine these two operations and you can make a nice clock:"
   ]
  },
  {
   "cell_type": "code",
   "execution_count": 5,
   "metadata": {},
   "outputs": [
    {
     "name": "stdout",
     "output_type": "stream",
     "text": [
      "Input in mins = '1' which is: 0 days 0 hours and 01 mins\n",
      "Input in mins = '60' which is: 0 days 1 hours and 00 mins\n",
      "Input in mins = '61' which is: 0 days 1 hours and 01 mins\n",
      "Input in mins = '960' which is: 0 days 16 hours and 00 mins\n",
      "Input in mins = '1440' which is: 1 days 0 hours and 00 mins\n",
      "Input in mins = '1447' which is: 1 days 0 hours and 07 mins\n",
      "Input in mins = '33456456' which is: 23233 days 15 hours and 36 mins\n"
     ]
    }
   ],
   "source": [
    "def time(time):\n",
    "    \"\"\"time measured in total elapsed minutes, function converts to days, hours, mins\"\"\"\n",
    "    t = time // 60\n",
    "    days  = t // 24 # 24 hours in a day\n",
    "    hours = t %  24 # after working out number of days, get leftover hours\n",
    "    mins =  time % 60\n",
    "    return \"Input in mins = '{}' which is: {} days {} hours and {} mins\".format(time, days, hours, str(mins).zfill(2))\n",
    "\n",
    "print(time(1))\n",
    "print(time(60))\n",
    "print(time(61))\n",
    "print(time(960))\n",
    "print(time(1440))\n",
    "print(time(1447))\n",
    "print(time(33456456))"
   ]
  },
  {
   "cell_type": "markdown",
   "metadata": {},
   "source": [
    "## Floats\n",
    "\n",
    "What are floating-point numbers? \n",
    "\n",
    "Well, they are a bit like decimal numbers in Math *(Warning! this is an over-simplification, in numbers part 2 I will go into more depth).* \n",
    "\n",
    "Just like Integers there are two main ways to create them:\n",
    "\n",
    "1. Just type a floating point number, e.g 3.14\n",
    "1. Or we can use the 'float' built-in method\n",
    "\n",
    "Floats have more or less the same methods as integers do (e.g +-/\\*%//). Similarly the float() function works remarkably similar to the int function."
   ]
  },
  {
   "cell_type": "code",
   "execution_count": 20,
   "metadata": {},
   "outputs": [
    {
     "name": "stdout",
     "output_type": "stream",
     "text": [
      "10.66\n",
      "-3.2e+20\n",
      "inf\n",
      "0.0\n",
      "10.0\n",
      "5.0\n"
     ]
    }
   ],
   "source": [
    "string_number = \"10.66\"\n",
    "print(float(string_number))\n",
    "\n",
    "\n",
    "print(float(-3.2e20)) # < -- Python supports scientific notation...\n",
    "print(float('inf'))   # < -- Python also has a way of representing infinity\n",
    "print(float(0), float(10), float(5), sep=\"\\n\") # notice that when 'float' gets an integer as input '.0' is added to the number"
   ]
  },
  {
   "cell_type": "markdown",
   "metadata": {},
   "source": [
    "## Dividing by Zero\n",
    "\n",
    "Dividing by zero is something you are not allowed to do in mathmatics, Python is no different. If you try and divide by zero Python will simply throw and error. If you try to modulo by zero or use integer divsion you will get the same error. "
   ]
  },
  {
   "cell_type": "code",
   "execution_count": 89,
   "metadata": {},
   "outputs": [
    {
     "ename": "ZeroDivisionError",
     "evalue": "division by zero",
     "output_type": "error",
     "traceback": [
      "\u001b[0;31m---------------------------------------------------------------------------\u001b[0m",
      "\u001b[0;31mZeroDivisionError\u001b[0m                         Traceback (most recent call last)",
      "\u001b[0;32m<ipython-input-89-478a8a99f756>\u001b[0m in \u001b[0;36m<module>\u001b[0;34m()\u001b[0m\n\u001b[0;32m----> 1\u001b[0;31m \u001b[0;36m30\u001b[0m \u001b[0;34m/\u001b[0m \u001b[0;36m0\u001b[0m\u001b[0;34m\u001b[0m\u001b[0m\n\u001b[0m",
      "\u001b[0;31mZeroDivisionError\u001b[0m: division by zero"
     ]
    }
   ],
   "source": [
    "30 / 0"
   ]
  },
  {
   "cell_type": "code",
   "execution_count": 8,
   "metadata": {},
   "outputs": [
    {
     "ename": "ZeroDivisionError",
     "evalue": "integer division or modulo by zero",
     "output_type": "error",
     "traceback": [
      "\u001b[0;31m---------------------------------------------------------------------------\u001b[0m",
      "\u001b[0;31mZeroDivisionError\u001b[0m                         Traceback (most recent call last)",
      "\u001b[0;32m<ipython-input-8-830f8b6f3cd5>\u001b[0m in \u001b[0;36m<module>\u001b[0;34m()\u001b[0m\n\u001b[0;32m----> 1\u001b[0;31m \u001b[0;36m30\u001b[0m \u001b[0;34m%\u001b[0m \u001b[0;36m0\u001b[0m\u001b[0;34m\u001b[0m\u001b[0m\n\u001b[0m",
      "\u001b[0;31mZeroDivisionError\u001b[0m: integer division or modulo by zero"
     ]
    }
   ],
   "source": [
    "30 % 0"
   ]
  },
  {
   "cell_type": "code",
   "execution_count": 9,
   "metadata": {},
   "outputs": [
    {
     "ename": "ZeroDivisionError",
     "evalue": "integer division or modulo by zero",
     "output_type": "error",
     "traceback": [
      "\u001b[0;31m---------------------------------------------------------------------------\u001b[0m",
      "\u001b[0;31mZeroDivisionError\u001b[0m                         Traceback (most recent call last)",
      "\u001b[0;32m<ipython-input-9-180e3438e879>\u001b[0m in \u001b[0;36m<module>\u001b[0;34m()\u001b[0m\n\u001b[0;32m----> 1\u001b[0;31m \u001b[0;36m30\u001b[0m \u001b[0;34m//\u001b[0m \u001b[0;36m0\u001b[0m\u001b[0;34m\u001b[0m\u001b[0m\n\u001b[0m",
      "\u001b[0;31mZeroDivisionError\u001b[0m: integer division or modulo by zero"
     ]
    }
   ],
   "source": [
    "30 // 0"
   ]
  },
  {
   "cell_type": "markdown",
   "metadata": {},
   "source": [
    "## Order of Operations\n",
    "\n",
    "The order of operations (sorted by highest-to-lowerest precidence) in Python is the following:\n",
    "\n",
    "1. Parentheses\n",
    "1. Exponentiation\n",
    "1. Multiplication\n",
    "1. Division\n",
    "1. Addition\n",
    "1. Subtraction\n",
    "\n",
    "A few examples..."
   ]
  },
  {
   "cell_type": "code",
   "execution_count": 21,
   "metadata": {},
   "outputs": [
    {
     "name": "stdout",
     "output_type": "stream",
     "text": [
      "-38840.0\n",
      "9953290.0\n",
      "-2.38863639936011e+93\n",
      "-32370.0\n",
      "-1.444317089237147e+101\n",
      "-38860.0\n"
     ]
    }
   ],
   "source": [
    "## The only difference a-through-f is where we put a pair of parentheses.\n",
    "a = 30 - 6 ** 4 * 30 + 20 / 2 \n",
    "b = (30 - 6) ** 4 * 30 + 20 / 2 \n",
    "c = 30 - 6 ** (4 * 30) + 20 / 2 \n",
    "d = 30 - 6 ** 4 * (30 + 20) / 2 \n",
    "e = 30 - 6 ** (4 * 30 + 20 / 2) \n",
    "f = 30 - (6 ** 4 * 30 + 20 / 2) \n",
    "\n",
    "print(a, b, c, d, e, f, sep= \"\\n\")"
   ]
  },
  {
   "cell_type": "markdown",
   "metadata": {},
   "source": [
    "So thats some basic mathmatics for you. Python does have support for fractions, complex numbers and a bunch of other stuff as well. But if you want that functionality you have to go hunting for it. \n",
    "\n",
    "For example, suppose I want the log(x) or the sqrt(x) what can I do?"
   ]
  },
  {
   "cell_type": "code",
   "execution_count": 1,
   "metadata": {},
   "outputs": [
    {
     "name": "stdout",
     "output_type": "stream",
     "text": [
      "10.0\n",
      "10.0\n",
      "6.643856189774724\n"
     ]
    }
   ],
   "source": [
    "from math import log2, sqrt\n",
    "\n",
    "print(sqrt(100))\n",
    "## Alternatively, you can also get the square root of a number by raising it to the 0.5 power\n",
    "print(100**0.5)\n",
    "\n",
    "print(log2(100))"
   ]
  },
  {
   "cell_type": "markdown",
   "metadata": {},
   "source": [
    "You might be wondering why I didn't get a name error here. Well, thats because the import statement on the first line tell Python where the definition of log2 and sqrt are; i.e. they come *from* the math module. \n",
    "\n",
    "Alright thats it for today. In the next lecture we will go into a bit more detail."
   ]
  },
  {
   "cell_type": "code",
   "execution_count": null,
   "metadata": {},
   "outputs": [],
   "source": []
  }
 ],
 "metadata": {
  "kernelspec": {
   "display_name": "Python 3",
   "language": "python",
   "name": "python3"
  },
  "language_info": {
   "codemirror_mode": {
    "name": "ipython",
    "version": 3
   },
   "file_extension": ".py",
   "mimetype": "text/x-python",
   "name": "python",
   "nbconvert_exporter": "python",
   "pygments_lexer": "ipython3",
   "version": "3.7.4"
  }
 },
 "nbformat": 4,
 "nbformat_minor": 2
}
