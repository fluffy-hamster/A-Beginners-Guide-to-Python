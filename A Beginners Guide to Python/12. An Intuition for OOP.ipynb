{
 "cells": [
  {
   "cell_type": "markdown",
   "metadata": {},
   "source": [
    "# An Intuition for OOP\n",
    "\n",
    "'OOP' stands for **O**bject **O**rientated **P**rogramming. Today my aim to provide a quick overview of the topic which will help you develop an 'intuition' for what *objects* are and how *methods* work.\n",
    "\n",
    "## What is an Object?\n",
    "\n",
    "In Python almost everything is an object! In real terms, what this means is that every 'item' in Python has a set of properties and a special set functions that only work on items of that type. \n",
    "\n",
    "## What are methods?\n",
    "\n",
    "Above I said that *\"every 'item' in Python has a set of properties and a special set of commands or functions that only work on objects of that same type.\"* Well, the technical name for that special set of commands/properties is \"methods\". \n",
    "    \n",
    "Let me give you a simple example:"
   ]
  },
  {
   "cell_type": "code",
   "execution_count": 7,
   "metadata": {},
   "outputs": [
    {
     "name": "stdout",
     "output_type": "stream",
     "text": [
      "I LOVE CATS.\n",
      "I love bats.\n",
      "I love cats.I love cats.\n",
      "I love cats.I love cats.I love cats.\n"
     ]
    }
   ],
   "source": [
    "x = \"I love cats.\" # <= x is a string... \n",
    "\n",
    "print(x.upper())             # converts string to upper case\n",
    "print(x.replace(\"c\", \"b\"))   # cats? I'm a bat kinda guy myself!\n",
    "print(x.__add__(x))          # x.__add__(x) is EXACTLY the same as x + x. \n",
    "print(x.__mul__(3))          # Equivalent to x * 3"
   ]
  },
  {
   "cell_type": "markdown",
   "metadata": {},
   "source": [
    "In the above example we can see that we can replace the letter \"c\" with a \"b\" using the replace 'method'. What happens if I have the number 711 and want to change the 7 to a 9 to make 911?"
   ]
  },
  {
   "cell_type": "code",
   "execution_count": 4,
   "metadata": {},
   "outputs": [
    {
     "ename": "AttributeError",
     "evalue": "'int' object has no attribute 'replace'",
     "output_type": "error",
     "traceback": [
      "\u001b[1;31m---------------------------------------------------------------------------\u001b[0m",
      "\u001b[1;31mAttributeError\u001b[0m                            Traceback (most recent call last)",
      "\u001b[1;32m<ipython-input-4-0e345c917348>\u001b[0m in \u001b[0;36m<module>\u001b[1;34m()\u001b[0m\n\u001b[0;32m      1\u001b[0m \u001b[0mz\u001b[0m \u001b[1;33m=\u001b[0m \u001b[1;36m711\u001b[0m\u001b[1;33m\u001b[0m\u001b[0m\n\u001b[0;32m      2\u001b[0m \u001b[1;33m\u001b[0m\u001b[0m\n\u001b[1;32m----> 3\u001b[1;33m \u001b[0mprint\u001b[0m\u001b[1;33m(\u001b[0m\u001b[0mz\u001b[0m\u001b[1;33m.\u001b[0m\u001b[0mreplace\u001b[0m\u001b[1;33m(\u001b[0m\u001b[1;36m7\u001b[0m\u001b[1;33m,\u001b[0m \u001b[1;36m1\u001b[0m\u001b[1;33m)\u001b[0m\u001b[1;33m)\u001b[0m\u001b[1;33m\u001b[0m\u001b[0m\n\u001b[0m",
      "\u001b[1;31mAttributeError\u001b[0m: 'int' object has no attribute 'replace'"
     ]
    }
   ],
   "source": [
    "z = 711\n",
    "print(z.replace(7, 1))"
   ]
  },
  {
   "cell_type": "code",
   "execution_count": 8,
   "metadata": {},
   "outputs": [
    {
     "name": "stdout",
     "output_type": "stream",
     "text": [
      "10\n",
      "25\n"
     ]
    }
   ],
   "source": [
    "# With this said, integers do have some of the \"same\" methods as well.\n",
    "# Please note however these methods are the \"same\" in name only, behind the scenes they work very differently from each other.\n",
    "\n",
    "i = 5 \n",
    "print(i.__add__(i)) # i + i => 5 + 5\n",
    "print(i.__mul__(i)) # i * i => 5 * 5\n",
    " "
   ]
  },
  {
   "cell_type": "markdown",
   "metadata": {},
   "source": [
    "When we try to use replace with integers we get an error; *\"'int' object has no attribute 'replace'\"*. Basically this is Python's way of telling us that 'replace' is not a method belonging to the integer class. \n",
    "\n",
    "In the next lecture I will explain how methods work in a bit more detail. However, the purpose of this lecture is to introduce to you the concepts of objects. So lets get started!\n",
    "\n",
    "## Let's think about balls...\n",
    "\n",
    "X is a football. There is nothing special about X, its just a normal football. The question I want you to think about all various ways you might interact with a football. Go ahead, make a mental a list, I can wait...\n",
    "\n",
    "<img src=\"https://www.maxim.com/.image/t_share/MTM1MTQ2MDg3MDYxNzU2Mzgy/placeholder-title.jpg\" style=\"width:300px;height:213px;\" ALIGN=\"right\">\n",
    "\n",
    "There are a number of 'operations' we could perform on or with a ball. For example, we could name it 'Wilson'. We could also kick the ball, bounce the ball and so on. \n",
    "\n",
    "Similarly, there are lot of operations that might make sense with other objects but not a ball. For example, it makes sense to 'plug in' a kettle or toaster, but it’s not clear what 'plugging in' a ball actually means.Likewise, we can make sense of \"subtract 7 from 9\", but it is not clear what is meant when somebody says \"subtract 7 from a ball\".\n",
    "\n",
    "If you want to know why an object in Python has method ‘Y’ and another object (of a different type) does not have a method ‘Y’ the ball example above hopefully helps you make sense of it. In the case of strings, we can add them together because we have a clear idea how that should work. But we can’t subtract strings because it isn’t clear what should happen in a number of cases. For example, “AB” subtract “B” we can make some sense of, the result should probably just be “A”. But what about following cases:\n",
    "     \n",
    "     “AB” subtract “cat”?\n",
    "     “AB” subtract “BA” ? \n",
    "     “A”  subtract “a”  ? \n",
    "\n",
    "In each case it is NOT intuitively clear what should happen. The Python developers could have implemented subtraction for strings and handled all these cases in one way or another. But why would they do that? Surely the time and energy required would be better spent on other projects, such as implementing *well-defined* methods for other objects.  \n",
    "\n",
    "## Let's Design a Ball & Footballer UI\n",
    "\n",
    "Okay so let's imagine we are implementing a ball object in a computer game. If it is a football game we probably do not want to *name* footballs but we probably do want player characters to be able to interact with the ball by kicking it. We also want the ball bounce off of the ground and other objects too.\n",
    "\n",
    "After some thought, we might come up with a list of interactions we want to build into methods, we might also start thinking about what *arguments* these functions (methods) might require. "
   ]
  },
  {
   "cell_type": "code",
   "execution_count": null,
   "metadata": {
    "collapsed": true
   },
   "outputs": [],
   "source": [
    "# Note the following code doesn't work, it is for demonstration purposes only!\n",
    "\n",
    "class Ball():\n",
    "    \n",
    "    def get_speed():\n",
    "        \"\"\"The get_speed method returns the current speed of the ball.\"\"\"\n",
    "        # magic goes here...\n",
    "        return speed\n",
    "    \n",
    "    def get_direction():\n",
    "        \"\"\"The get_direction method returns the direction the ball is currently traveling in (in 3 dimensions).\"\"\"\n",
    "        # magic goes here...\n",
    "        return direction\n",
    "    \n",
    "    def get_position():\n",
    "        \"\"\"The get_position method returns the current position of the ball.\"\"\"\n",
    "        # magic goes here...\n",
    "        return position\n",
    "    \n",
    "    def bounce_off_of_object(other_object):\n",
    "        \"\"\"This method calculates a new speed and position of the ball after colliding with another object.\"\"\"\n",
    "        # magic goes here...\n",
    "        return # something\n",
    "    \n",
    "wilson = Ball() # creates a ball called Wilson."
   ]
  },
  {
   "cell_type": "markdown",
   "metadata": {},
   "source": [
    "The above code doesn't work, but it should give you a feel for what a \"ball UI\" could look like in Python. Now lets do something similar for a football player. "
   ]
  },
  {
   "cell_type": "code",
   "execution_count": 1,
   "metadata": {},
   "outputs": [],
   "source": [
    "# Note the following code doesn't work, it is for demonstration purposes only!\n",
    "class Football_Player():\n",
    "    \n",
    "    def name(name):\n",
    "        \"\"\"This method gives the footballer a name.\"\"\"\n",
    "        # magic goes here...\n",
    "        return name\n",
    "    \n",
    "    def get_position():\n",
    "        \"\"\"The get_position method returns the current position of the player.\"\"\"\n",
    "        # magic goes here...\n",
    "        return position\n",
    "    \n",
    "    def get_speed():\n",
    "        \"\"\"The get_speed method returns the current speed of the player.\"\"\"\n",
    "        # magic goes here...\n",
    "        return speed\n",
    "    \n",
    "    def move(direction, speed):\n",
    "        \"\"\"The move method makes the player run in X direction at Y speed.\"\"\"\n",
    "        # magic goes here...\n",
    "        return # new_speed of self\n",
    "    \n",
    "    def kick_ball(ball, power, direction):\n",
    "        \"\"\"This method kicks ball Z with X power in Y direction.\"\"\"\n",
    "        # magic goes here...\n",
    "        return # new_speed of ball, direction of ball."
   ]
  },
  {
   "cell_type": "markdown",
   "metadata": {},
   "source": [
    "Let's suppose you are a developer on this project and a colleague of yours has implemented these methods already. The really cool thing is this UI adds a layer of *abstraction* that allows you to meaningfully interact with the ball/player without needing to actually understand exactly *how* this stuff works.\n",
    "\n",
    "The reason why this is so damn cool is basically because we can now write some game logic, despite not knowing anything about the system the game is using to run physics, etc. "
   ]
  },
  {
   "cell_type": "code",
   "execution_count": null,
   "metadata": {
    "collapsed": true
   },
   "outputs": [],
   "source": [
    "# Note the following code doesn't work, it is for demonstration purposes only!\n",
    "\n",
    "Messi = Football_Player().name(\"Messi\") # This line creates a footballer called 'Messi'\n",
    "football = Ball()                       # create a ball object.\n",
    "\n",
    "if ball.get_position == Messi.get_position:  # This line asks if Messi and the football are at the same position in space.\n",
    "    Messi.kick_ball(football, \"100mph\", direction=\"NorthWest\") # Messi kicks the balls 100mph to the northwest. \n",
    "    \n",
    "else:                                         # If Messi is NOT near the ball then...\n",
    "    target_position = football.get_position() # Messi wants to know where the football is. \n",
    "    Messi.move(target_position, \"12mph\")      # Messi is now running at 12mph towards the ball. "
   ]
  },
  {
   "cell_type": "markdown",
   "metadata": {},
   "source": [
    "So what does the above code do? Well, even though we haven't covered indentation and if/else statements (yet) my well-chosen variables names and comments were probably sufficient for you to figure out what is going on. \n",
    "\n",
    "Basically, this code creates two objects (a ball and a football player called \"Messi\"), we then check if Messi is close to the ball. If he is, he kicks it up the pitch. If he isn't near the ball Messi starts running towards it. \n",
    "\n",
    "In short, objects and object methods in Python allow us to write code at a 'high-level', we can leave all the 'low-level' stuff for another developer (or Python itself) to handle. And that leaves us all the time in the world to do the fun stuff!\n",
    "\n",
    "\n",
    "## Building A Time Object..\n",
    "\n",
    "I am going to finish today's lecture with an actual example of Object Orientated Programming in practice; I'm going to quickly build a 'Time class'. It is going to be a class that allows us to add times together and print them. For example: 6:00 + 30 minutes should equal 6:30 and 10:59 + 1:01 should equal 12:00. \n",
    "\n",
    "Please be aware that I **DO NOT** expect you to understand the code below nor am I going to explain in detail *how* it works either. I just wanted to end this lecture on a real example, simple as that. "
   ]
  },
  {
   "cell_type": "code",
   "execution_count": 2,
   "metadata": {
    "collapsed": true
   },
   "outputs": [],
   "source": [
    "class Time(object):\n",
    "    \n",
    "    # Do you remember in the variable names lecture I said that \n",
    "    # you shouldn't name a variable '__something' unless you know what you are doing?\n",
    "    # Well, thats because double underscore is usually reserved for \"hidden\" class properties/functions.\n",
    "    # In this particular case, __init__, __repr__, __add__, all have very special meanings in Python. \n",
    "    \n",
    "    def __init__(self, hours, mins=0):\n",
    "        assert isinstance(hours, int) and 0<= hours <=24  # Hours should be between 0 and 24 for a 24-hour clock. \n",
    "        assert isinstance(mins, int) and  0<= mins  <=60\n",
    "\n",
    "        self.hours = hours\n",
    "        self.mins = mins\n",
    "\n",
    "    def __repr__(self): \n",
    "        return format_time(self.hours, self.mins)\n",
    "        \n",
    "    def __add__(self, other):\n",
    "        \"\"\"\n",
    "        This function takes itself and another Time object and adds them together.\n",
    "        \"\"\"\n",
    "        a = self.mins\n",
    "        b = other.mins\n",
    "\n",
    "        x = self.hours\n",
    "        y = other.hours\n",
    "        \n",
    "        c = str( (a + b) % 60 ).zfill(2)   # Integer division and Modulo Arithmetic. You have seen this before! \n",
    "        z = str((((a+b) // 60) + x + y) % 25).zfill(2)\n",
    "        \n",
    "        return format_time(z, c)\n",
    "\n",
    "def format_time(h, m):\n",
    "    \"\"\"\n",
    "    This function takes hours (int) and mins(int) and returns them in a pretty format. 2, 59 => 02:59\n",
    "    \"\"\"\n",
    "    return \"{}:{}\".format(str(h).zfill(2), str(m).zfill(2))      "
   ]
  },
  {
   "cell_type": "markdown",
   "metadata": {},
   "source": [
    "Okay, so what does this code to? Well, it creates an object which I call ‘Time’.  A Time object takes two integers as input (hours and minutes). Let’s create a Time object and see what happens when I print it. "
   ]
  },
  {
   "cell_type": "code",
   "execution_count": 11,
   "metadata": {},
   "outputs": [
    {
     "name": "stdout",
     "output_type": "stream",
     "text": [
      "04:50\n",
      "00:01\n",
      "24:59\n"
     ]
    }
   ],
   "source": [
    "a = Time(4,50)\n",
    "b = Time(0, 1)\n",
    "c = Time(24, 59)\n",
    "\n",
    "print(a, b, c, sep=\"\\n\")"
   ]
  },
  {
   "cell_type": "markdown",
   "metadata": {},
   "source": [
    "When we print time objects they are represented as a string that looks just like an alarm clock; Time(12, 30) returns \"12:30\" \n",
    "\n",
    "Now, the code above also defines a method \"add\". This method adds Time Y to Time X which is effectively asking:\n",
    "\n",
    "    “If the time now is X what time is in Y hours and Z minutes from now?”\n",
    "\n",
    "Let's try adding some times together now:"
   ]
  },
  {
   "cell_type": "code",
   "execution_count": 3,
   "metadata": {},
   "outputs": [
    {
     "name": "stdout",
     "output_type": "stream",
     "text": [
      "11:00\n",
      "07:30\n"
     ]
    },
    {
     "ename": "AttributeError",
     "evalue": "'int' object has no attribute 'mins'",
     "output_type": "error",
     "traceback": [
      "\u001b[1;31m---------------------------------------------------------------------------\u001b[0m",
      "\u001b[1;31mAttributeError\u001b[0m                            Traceback (most recent call last)",
      "\u001b[1;32m<ipython-input-3-9776fe390d46>\u001b[0m in \u001b[0;36m<module>\u001b[1;34m()\u001b[0m\n\u001b[0;32m      2\u001b[0m \u001b[0mprint\u001b[0m\u001b[1;33m(\u001b[0m \u001b[0mTime\u001b[0m\u001b[1;33m(\u001b[0m\u001b[1;36m0\u001b[0m\u001b[1;33m,\u001b[0m\u001b[1;36m0\u001b[0m\u001b[1;33m)\u001b[0m  \u001b[1;33m+\u001b[0m  \u001b[0mTime\u001b[0m\u001b[1;33m(\u001b[0m\u001b[1;36m7\u001b[0m\u001b[1;33m,\u001b[0m\u001b[1;36m30\u001b[0m\u001b[1;33m)\u001b[0m \u001b[1;33m)\u001b[0m  \u001b[1;31m# 00:00 + 07:30 => 7:30\u001b[0m\u001b[1;33m\u001b[0m\u001b[0m\n\u001b[0;32m      3\u001b[0m \u001b[1;33m\u001b[0m\u001b[0m\n\u001b[1;32m----> 4\u001b[1;33m \u001b[0mprint\u001b[0m\u001b[1;33m(\u001b[0m \u001b[0mTime\u001b[0m\u001b[1;33m(\u001b[0m\u001b[1;36m20\u001b[0m\u001b[1;33m,\u001b[0m\u001b[1;36m20\u001b[0m\u001b[1;33m)\u001b[0m \u001b[1;33m+\u001b[0m \u001b[1;36m10\u001b[0m \u001b[1;33m)\u001b[0m \u001b[1;31m# Error, can't add integer to a Time object\u001b[0m\u001b[1;33m\u001b[0m\u001b[0m\n\u001b[0m",
      "\u001b[1;32m<ipython-input-2-b98a4f7e2b5d>\u001b[0m in \u001b[0;36m__add__\u001b[1;34m(self, other)\u001b[0m\n\u001b[0;32m     21\u001b[0m         \"\"\"\n\u001b[0;32m     22\u001b[0m         \u001b[0ma\u001b[0m \u001b[1;33m=\u001b[0m \u001b[0mself\u001b[0m\u001b[1;33m.\u001b[0m\u001b[0mmins\u001b[0m\u001b[1;33m\u001b[0m\u001b[0m\n\u001b[1;32m---> 23\u001b[1;33m         \u001b[0mb\u001b[0m \u001b[1;33m=\u001b[0m \u001b[0mother\u001b[0m\u001b[1;33m.\u001b[0m\u001b[0mmins\u001b[0m\u001b[1;33m\u001b[0m\u001b[0m\n\u001b[0m\u001b[0;32m     24\u001b[0m \u001b[1;33m\u001b[0m\u001b[0m\n\u001b[0;32m     25\u001b[0m         \u001b[0mx\u001b[0m \u001b[1;33m=\u001b[0m \u001b[0mself\u001b[0m\u001b[1;33m.\u001b[0m\u001b[0mhours\u001b[0m\u001b[1;33m\u001b[0m\u001b[0m\n",
      "\u001b[1;31mAttributeError\u001b[0m: 'int' object has no attribute 'mins'"
     ]
    }
   ],
   "source": [
    "print( Time(10,40) + Time(0,20) )  # 10:40 + 00:20 => 11:00\n",
    "print( Time(0,0)  +  Time(7,30) )  # 00:00 + 07:30 => 7:30\n",
    "\n",
    "print( Time(20,20) + 10 ) # Error, can't add integer to a Time object"
   ]
  },
  {
   "cell_type": "markdown",
   "metadata": {},
   "source": [
    "As a minor implementation detail my code adds Time to other Time objects, if we try to add an integer (e.g 4) to the time 10:30 we get an error. The reason for this is if we get handed an integer it is not entirely clear what should to happen; should we assume the integer is hours? But couldn’t that integer just as easily be minutes or total elapsed time (e.g 65 means 1:05) ? Since it's not clear, we don't guess. Instead we just yield an error.\n",
    "\n",
    "> “In the face of ambiguity, refuse the temptation to guess.” ~ Zen of Python\n",
    "\n",
    "I could expand my Time object by adding more methods; maybe I could define subtraction, or a method for converting time-zones. But I wouldn’t add a ‘kick’ or a ‘bounce’ method because we can’t make sense of kicking or bouncing “12:30”. \n",
    "\n",
    "## Conclusion\n",
    "\n",
    "It is important to remember that more or less everything in Python is an object. Strings are an object, Integers are an object and so on. Objects have methods (which are usually, although not always, functions) that can be called on them. Moreover, as we have seen above we can use the \"class\" keyword in Python to build our own objects with a corresponding set of methods. \n",
    " \n",
    "Hopefully I have also demonstrated to you the power of OOP; by using objects we can think about code at a 'higher-level' of abstraction. And that's powerful stuff. \n",
    " \n",
    "In the rest of this lecture series I do not mention classes and that's because in my opinion classes are a better topic for an intermediate guide; Classes can be tricky to get working but there are an undeniably powerful tool you should endeavour to learn more about.  "
   ]
  },
  {
   "cell_type": "code",
   "execution_count": 14,
   "metadata": {},
   "outputs": [
    {
     "name": "stdout",
     "output_type": "stream",
     "text": [
      "<class '__main__.Time'>\n",
      "<class 'str'>\n",
      "<class 'int'>\n",
      "<class 'float'>\n"
     ]
    }
   ],
   "source": [
    "# Notice that, just like my \"Time\" object, integers, strings, floats, etc are all implemented in Python as classes.\n",
    "print(type(Time(10,0)),type(\"hello\"),type(10), type(5.67), sep=\"\\n\")"
   ]
  }
 ],
 "metadata": {
  "kernelspec": {
   "display_name": "Python 3",
   "language": "python",
   "name": "python3"
  },
  "language_info": {
   "codemirror_mode": {
    "name": "ipython",
    "version": 3
   },
   "file_extension": ".py",
   "mimetype": "text/x-python",
   "name": "python",
   "nbconvert_exporter": "python",
   "pygments_lexer": "ipython3",
   "version": "3.7.4"
  }
 },
 "nbformat": 4,
 "nbformat_minor": 2
}
