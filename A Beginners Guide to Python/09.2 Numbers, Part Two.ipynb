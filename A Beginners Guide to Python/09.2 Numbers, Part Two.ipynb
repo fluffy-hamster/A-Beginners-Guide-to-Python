{
 "cells": [
  {
   "cell_type": "markdown",
   "metadata": {},
   "source": [
    "# How Floats work (in a bit more depth)\n",
    "\n",
    "At the fundamental level computers work by flicking on and off trillions of little switches (transistors). \n",
    "\n",
    "When Python receives a number (in any base) it converts that number into base 2 (binary). This is because at the fundamental level computers run on binary (1’s and 0’s get further converted into electrical current; say 2V for 1 and 0V for 0). \n",
    "\n",
    "So numbers start at base 10 → are converted to base 2 → and then are converted back again. Sometimes information can be lost in this process. As a result sometimes Python will give you weird answers to basic arithmetic questions. It might seem like a bug when it happens. But actually, these ‘quirks’ are just a consequence of how floats are implemented at the low level.\n",
    "\n",
    "Let's take a look at a few examples..."
   ]
  },
  {
   "cell_type": "code",
   "execution_count": 1,
   "metadata": {},
   "outputs": [
    {
     "name": "stdout",
     "output_type": "stream",
     "text": [
      "0.2\n"
     ]
    }
   ],
   "source": [
    "print (0.1 + 0.1)"
   ]
  },
  {
   "cell_type": "markdown",
   "metadata": {},
   "source": [
    "0.1 + 0.1 = 0.2 Okay, no surprises here. But what about the following sum:"
   ]
  },
  {
   "cell_type": "code",
   "execution_count": 2,
   "metadata": {},
   "outputs": [
    {
     "name": "stdout",
     "output_type": "stream",
     "text": [
      "0.30000000000000004\n"
     ]
    }
   ],
   "source": [
    "print(0.1 + 0.1 + 0.1)"
   ]
  },
  {
   "cell_type": "markdown",
   "metadata": {},
   "source": [
    "This sum should equal 0.3, you don’t need to be a genius to figure that out. But what Python returns is close to right answer but nonetheless wrong. \n",
    "\n",
    "What happened? well 0.1 * 3 is easy for us to do in base 10 but in base 2 it’s a bit more tricky. Instead of trying to find the actual value Python \"gives up\" after a while and just does a bit of rounding.\n",
    "\n",
    "Here’s another example:"
   ]
  },
  {
   "cell_type": "code",
   "execution_count": 11,
   "metadata": {},
   "outputs": [
    {
     "name": "stdout",
     "output_type": "stream",
     "text": [
      "2.0999999999999996\n",
      "2.8\n"
     ]
    }
   ],
   "source": [
    "print(0.7 + 0.7 + 0.7)\n",
    "print(0.7 + 0.7 + 0.7 + 0.7)"
   ]
  },
  {
   "cell_type": "markdown",
   "metadata": {},
   "source": [
    "Here 0.7 times 3 is clearly 2.1 but Python returns 2.099. If we add an extra 0.7 to the mix Python gets the anwser correct, 0.7 times 4 does in fact equal 2.8. \n",
    "\n",
    "Alright, that just about wraps up this lecture on numbers. If you would like an even more in-depth explanation how floats works please [read this](https://docs.python.org/3/tutorial/floatingpoint.html). "
   ]
  }
 ],
 "metadata": {
  "kernelspec": {
   "display_name": "Python 3",
   "language": "python",
   "name": "python3"
  },
  "language_info": {
   "codemirror_mode": {
    "name": "ipython",
    "version": 3
   },
   "file_extension": ".py",
   "mimetype": "text/x-python",
   "name": "python",
   "nbconvert_exporter": "python",
   "pygments_lexer": "ipython3",
   "version": "3.7.4"
  }
 },
 "nbformat": 4,
 "nbformat_minor": 2
}
