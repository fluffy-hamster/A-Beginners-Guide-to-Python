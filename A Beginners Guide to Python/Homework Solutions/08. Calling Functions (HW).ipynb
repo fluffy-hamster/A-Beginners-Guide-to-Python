{
 "cells": [
  {
   "cell_type": "markdown",
   "metadata": {},
   "source": [
    "## Homework\n",
    "\n",
    "In the cell below there is a function called \"call me\". For homework I want you to call this function with several arguments such that it returns the string:\n",
    "\n",
    "    \"Dave and Jerry went to the cheese factory.\""
   ]
  },
  {
   "cell_type": "code",
   "execution_count": 4,
   "metadata": {},
   "outputs": [
    {
     "data": {
      "text/plain": [
       "'Dave and Jerry went to the cheese factory.'"
      ]
     },
     "execution_count": 4,
     "metadata": {},
     "output_type": "execute_result"
    }
   ],
   "source": [
    "def call_me(a, f, d, b=\"\", c=\"cheese\", e=False):\n",
    "    if e == True:\n",
    "        return \"{} and {} went to the {}{} {}.\".format(a, b, c, d, f)\n",
    "    else:\n",
    "        return \"YOU SHALL NOT PASS\"\n",
    "\n",
    "## Solution:\n",
    "\n",
    "call_me(\"Dave\", \"factory\", \"\", b=\"Jerry\", e=True)"
   ]
  },
  {
   "cell_type": "code",
   "execution_count": null,
   "metadata": {},
   "outputs": [],
   "source": []
  }
 ],
 "metadata": {
  "kernelspec": {
   "display_name": "Python 3",
   "language": "python",
   "name": "python3"
  },
  "language_info": {
   "codemirror_mode": {
    "name": "ipython",
    "version": 3
   },
   "file_extension": ".py",
   "mimetype": "text/x-python",
   "name": "python",
   "nbconvert_exporter": "python",
   "pygments_lexer": "ipython3",
   "version": "3.7.4"
  }
 },
 "nbformat": 4,
 "nbformat_minor": 2
}
