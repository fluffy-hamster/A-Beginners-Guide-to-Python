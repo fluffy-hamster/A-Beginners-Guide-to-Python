{
 "cells": [
  {
   "cell_type": "markdown",
   "metadata": {},
   "source": [
    "# Where to Get Help: Homework Assignment\n",
    "\n",
    "You need to be think a little bit about your search, the better that is the more likely you are to find what you want. Let me give you a real example I stuggled with:"
   ]
  },
  {
   "cell_type": "code",
   "execution_count": 1,
   "metadata": {},
   "outputs": [
    {
     "name": "stdout",
     "output_type": "stream",
     "text": [
      "['ZZ', 2, 2]\n",
      "['ZZ', 2, 2]\n",
      "['ZZ', 2, 2]\n"
     ]
    }
   ],
   "source": [
    "x = [ [2] * 3 ] * 3\n",
    "\n",
    "x[0][0]  = \"ZZ\"\n",
    "print(*x, sep=\"\\n\")"
   ]
  },
  {
   "cell_type": "markdown",
   "metadata": {},
   "source": [
    "What I wanted to do was build a nested list, x is supposed to look like:\n",
    "\n",
    "    [[2, 2, 2],\n",
    "     [2, 2, 2],\n",
    "     [2, 2, 2]]\n",
    "     \n",
    "And then I wanted to change the value at index \\[0\\][0] but notice that instead of a single value changing the first item in every list changes. I wanted:\n",
    "\n",
    "    [[\"ZZ\", 2, 2],\n",
    "     [  2,  2, 2],\n",
    "     [  2,  2, 2]]\n",
    "     \n",
    "But I got:\n",
    "\n",
    "    [[\"ZZ\", 2, 2],\n",
    "     [\"ZZ\", 2, 2],\n",
    "     [\"ZZ\", 2, 2]]\n",
    "\n",
    "Wierd right?\n",
    "\n",
    "Your homework for this week it to search google for an awnser to this problem. **Why** doesn't X behave like I want it too and what to I need to make it work?\n",
    "\n",
    "I know for a fact the awnser is on stackoverflow already (and probably hundreds of other websites too), so this is a test of your googling skills: \n",
    "\n",
    "    What search query is likely to return the information you need?\n",
    "\n",
    "This excerise is a really useful I think. Through-out your programming carrear you are going to stumped on tough questions. In many cases, the fastest way to solve your issue is going to be google search. **BUT** to get the most out of a search engine is going to require you to carefully think about your problem and what query might contain the awnser."
   ]
  },
  {
   "attachments": {},
   "cell_type": "markdown",
   "metadata": {},
   "source": [
    "## Possible Solution\n",
    "\n",
    "Google to the rescue! Okay so let's think about this problem a little bit; what \"buzz words” might we need to feed google in order to get the answer we want?\n",
    "\n",
    "Lets try...\n",
    "\n",
    "> Python\n",
    "\n",
    "Err...yeah, I think we are going to need to be a bit more specific than that. \n",
    "\n",
    "> Python nested list\n",
    "\n",
    "This search is a bit better, I mean, from the context alone Google has probably figured out that we are not interested in snakes! But again, still probably not specific enough.\n",
    "\n",
    "> Python nested list sublist assignment\n",
    "\n",
    "This query seems decent right? It seems pretty descriptive of the problem, afterall.\n",
    "\n",
    "Lets run it!\n",
    "\n",
    "Google Search (15th June 2017)\n",
    "![Google%20It.png](../graphics/Google%20It.png)"
   ]
  },
  {
   "cell_type": "markdown",
   "metadata": {},
   "source": [
    "The third hit sounds promising, lets [go there and see.](https://stackoverflow.com/questions/10941032/why-cant-i-change-only-a-single-element-in-a-nested-list-in-python)\n",
    "\n",
    "...And sure enough, it sounds like someone is dealing with the EXACT ISSUE we had. The top-voted reply not only explains the issue but also the fix.\n",
    "\n",
    "Basically, the issue is that when you write [ [0]\\*3] \\*3 ] we are actually storing a reference to the **same list**."
   ]
  },
  {
   "cell_type": "code",
   "execution_count": 3,
   "metadata": {},
   "outputs": [
    {
     "name": "stdout",
     "output_type": "stream",
     "text": [
      "140386886422408\n",
      "140386886422408\n"
     ]
    }
   ],
   "source": [
    "out=[[0]*3]*3\n",
    "print( id(out[0]) )\n",
    "print( id(out[1]) ) # want to know what \"id\" is? Why not read the documentation!"
   ]
  },
  {
   "cell_type": "markdown",
   "metadata": {},
   "source": [
    "To see what's happening lets rewrite the code to make the issue even clearer:"
   ]
  },
  {
   "cell_type": "code",
   "execution_count": 4,
   "metadata": {},
   "outputs": [
    {
     "name": "stdout",
     "output_type": "stream",
     "text": [
      "[2, 2, 2]\n",
      "[2, 2, 2]\n",
      "[2, 2, 2]\n",
      "\n",
      "['ZZ', 2, 2]\n",
      "['ZZ', 2, 2]\n",
      "['ZZ', 2, 2]\n"
     ]
    }
   ],
   "source": [
    "a = [2] * 3\n",
    "x = [a] * 3\n",
    "print(*x, sep=\"\\n\")\n",
    "\n",
    "print()\n",
    "\n",
    "a[0] = \"ZZ\"\n",
    "print(*x, sep=\"\\n\")"
   ]
  },
  {
   "cell_type": "markdown",
   "metadata": {},
   "source": [
    "So basically the issue is was that when we write [2]\\*3 and try to add it to a list python isn't making three separate lists, rather, **its adding the same list three times!** \n",
    "\n",
    "The fix then, we need to make sure Python knows we want three separate lists, which we can do with a for loop:"
   ]
  },
  {
   "cell_type": "code",
   "execution_count": 5,
   "metadata": {},
   "outputs": [
    {
     "name": "stdout",
     "output_type": "stream",
     "text": [
      "[2, 2, 2]\n",
      "[2, 2, 2]\n",
      "[2, 2, 2]\n",
      "\n",
      "['ZZ', 2, 2]\n",
      "[2, 2, 2]\n",
      "[2, 2, 2]\n"
     ]
    }
   ],
   "source": [
    "x = []\n",
    "for i in range(3):\n",
    "    x.append([2]*3)\n",
    "    \n",
    "print(*x, sep=\"\\n\")\n",
    "\n",
    "print()\n",
    "\n",
    "x[0][0] = \"ZZ\"\n",
    "print(*x, sep=\"\\n\")"
   ]
  },
  {
   "cell_type": "code",
   "execution_count": null,
   "metadata": {},
   "outputs": [],
   "source": []
  }
 ],
 "metadata": {
  "kernelspec": {
   "display_name": "Python 3",
   "language": "python",
   "name": "python3"
  },
  "language_info": {
   "codemirror_mode": {
    "name": "ipython",
    "version": 3
   },
   "file_extension": ".py",
   "mimetype": "text/x-python",
   "name": "python",
   "nbconvert_exporter": "python",
   "pygments_lexer": "ipython3",
   "version": "3.7.4"
  }
 },
 "nbformat": 4,
 "nbformat_minor": 2
}
