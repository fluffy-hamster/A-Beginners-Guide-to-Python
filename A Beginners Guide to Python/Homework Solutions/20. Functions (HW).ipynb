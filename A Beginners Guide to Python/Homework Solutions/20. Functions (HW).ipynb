{
 "cells": [
  {
   "cell_type": "markdown",
   "metadata": {},
   "source": [
    "## Homework Assignment\n",
    "\n",
    "Your homework assignment this week is to write a function called 'average'. it takes a list as input and returns the arithmetic average. You should assume the list only contains numbers.\n",
    "\n",
    "It should have a docstring explaining what it does (hint: \"\"\"text\"\"\").\n",
    "\n",
    "Hints:\n",
    "* len(input) will give you the length of the list.\n",
    "* sum(input) will add everything up. \n",
    "* If the list is empty, return the string \"EMPTY LIST\"\n",
    "\n",
    "** FOR BONUS POINTS ** \n",
    "\n",
    "* You are ONLY allowed to use addition and for-loops (The use of LEN and SUM is not allowed!).\n",
    "\n",
    "The bonus problem is a bit tricky but I believe in you guys. Good luck!\n",
    "\n",
    "## Possible Solution (easy)"
   ]
  },
  {
   "cell_type": "code",
   "execution_count": 11,
   "metadata": {
    "collapsed": true
   },
   "outputs": [],
   "source": [
    "def average(L):\n",
    "    \"\"\"L is a list, we return the average of L (a float)\"\"\"\n",
    "    if not L:\n",
    "        return \"EMPTY LIST\"\n",
    "    return sum(L)/len(L)"
   ]
  },
  {
   "cell_type": "markdown",
   "metadata": {},
   "source": [
    "## Possible Solution (hard)"
   ]
  },
  {
   "cell_type": "code",
   "execution_count": 10,
   "metadata": {
    "collapsed": true
   },
   "outputs": [],
   "source": [
    "def average2(L):\n",
    "    \"\"\"L is a list, we return the average of L (a float)\"\"\"\n",
    "    if not L:\n",
    "        return \"EMPTY LIST\"\n",
    "    \n",
    "    total = 0  \n",
    "    length = 0\n",
    "    for num in L:\n",
    "        total += num\n",
    "        length +=1\n",
    "    \n",
    "    return total / length\n",
    "\n"
   ]
  }
 ],
 "metadata": {
  "kernelspec": {
   "display_name": "Python 3",
   "language": "python",
   "name": "python3"
  },
  "language_info": {
   "codemirror_mode": {
    "name": "ipython",
    "version": 3
   },
   "file_extension": ".py",
   "mimetype": "text/x-python",
   "name": "python",
   "nbconvert_exporter": "python",
   "pygments_lexer": "ipython3",
   "version": "3.7.4"
  }
 },
 "nbformat": 4,
 "nbformat_minor": 2
}
