{
 "cells": [
  {
   "cell_type": "markdown",
   "metadata": {},
   "source": [
    "## Homework \n",
    "\n",
    "Your challenge this week is to evaluate the following formula as fast as possible:\n",
    "    \n",
    "    (a or b) and ( (b and not b) or c )\n",
    "    \n",
    "Where:\n",
    "\n",
    "* a takes 2 seconds to return a true/false value\n",
    "* b takes 3 seconds to return a true/false value\n",
    "* c takes 4 seconds to return a true/false value\n",
    "\n",
    "Have a bit of play and see how quickly you can make it execute. \n",
    "\n",
    "Just be careful not to change the meaning of the expression. The parenthesis, just like in maths group the elements. For example \"(a or b) and c\" is not the same as \"a or (b and c)\".\n"
   ]
  },
  {
   "cell_type": "code",
   "execution_count": 3,
   "metadata": {},
   "outputs": [
    {
     "name": "stdout",
     "output_type": "stream",
     "text": [
      "Time Taken was 9.0 secs\n",
      "\n",
      "\n"
     ]
    }
   ],
   "source": [
    "import time\n",
    "import random\n",
    "from functools import partial\n",
    "\n",
    "\n",
    "def sleep_bool(x, b):\n",
    "    \"\"\"\n",
    "    waits for x secs, then returns true/false\n",
    "    \"\"\"\n",
    "    time.sleep(x)\n",
    "    return b\n",
    "\n",
    "\n",
    "a = partial(sleep_bool, 2, True) \n",
    "b = partial(sleep_bool, 3, False)\n",
    "c = partial(sleep_bool, 4, False) \n",
    "\n",
    "\n",
    "t1 = time.time()\n",
    "expression = ( a() or b() ) and ( (b() and not b() ) or c() )    ## <-- change this line\n",
    "t2 = time.time()\n",
    "\n",
    "print(\"Time Taken was {} secs\".format(round(t2-t1, 1)))\n",
    "print(\"\\n\")\n",
    "\n",
    "## Can you beat 9 secs ??? "
   ]
  },
  {
   "cell_type": "markdown",
   "metadata": {},
   "source": [
    "## Possible Solution:\n",
    "\n",
    "    c and (a or b)\n",
    "    \n",
    "Why does this work?\n",
    "\n",
    "Firstly observe that it doesn't actually matter what b is, (b and not b) is a contradiction (always false). Since it is always false we can actually simplify the expression by getting rid of it altogether. \n",
    "\n",
    "Thus:\n",
    "\n",
    "    (a or b) and ( (b and not b) or c ) \n",
    "        \n",
    "    which reduces to:\n",
    "        \n",
    "    (a or b) and (false or c)\n",
    "    \n",
    "    which reduces to:\n",
    "    \n",
    "    (a or b) and c\n",
    "    \n",
    "'And' is 'associative', therefore:\n",
    "\n",
    "    (a or b) and c  <= is identical to => c and (a or b)\n",
    "\n",
    "Now is c and (a or b) faster/slower than (a or b) and c. The awnser depends on the input. Which we can see below (note cf means c = false, ctf means it doesn't matter whether c is true or false). \n",
    "\n",
    "        c and (a or b)\n",
    "    \n",
    "    cf,  atf,  btf ==> 4 secs\n",
    "    ct,   af,  btf ==> 9 secs\n",
    "    ct,   at,  btf ==> 6 secs\n",
    "\n",
    "        (a or b) and c\n",
    "    \n",
    "    at, btf, ctf  ==> 6 secs\n",
    "    af,  bt, ctf  ==> 9 secs\n",
    "    af,  bf, ctf  ==> 5 secs\n",
    "\n",
    "This analysis shows that c and (a or b) is slightly faster, on average for the given timings. As a general rule, sometimes all you can do is improve performance 'on average'. Lazy evaluation doesn't always work, and trying to optimise for it is sometimes very tricky. \n",
    "\n",
    "In such cases, your best bet is to optimise for readability instead of performance. To that end, I'd argue that c and (a or b) is the better choice in terms of readability. Why? Well the main reason is that if another developer looks at the code and sees (a or b) and c one of the first things they might try is to swap the terms because listing c first just 'feels more correct'. "
   ]
  },
  {
   "cell_type": "code",
   "execution_count": null,
   "metadata": {},
   "outputs": [],
   "source": []
  }
 ],
 "metadata": {
  "kernelspec": {
   "display_name": "Python 3",
   "language": "python",
   "name": "python3"
  },
  "language_info": {
   "codemirror_mode": {
    "name": "ipython",
    "version": 3
   },
   "file_extension": ".py",
   "mimetype": "text/x-python",
   "name": "python",
   "nbconvert_exporter": "python",
   "pygments_lexer": "ipython3",
   "version": "3.7.4"
  }
 },
 "nbformat": 4,
 "nbformat_minor": 2
}
