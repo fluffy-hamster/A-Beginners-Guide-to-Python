{
 "cells": [
  {
   "cell_type": "markdown",
   "metadata": {},
   "source": [
    "# Names, Homework\n",
    "\n",
    "Below is three lines of python code, the only thing you have seen yet is the \"*\" symbol which means multiplication. Your task comes in three parts:\n",
    "\n",
    "1. Figure out what the code is supposed to do. *(this might take some googling hint: think circles!)*\n",
    "2. Add a comment or two, explaining what it does.\n",
    "2. Change the name \"belt_size\" and \"cake\" to something more meaningful."
   ]
  },
  {
   "cell_type": "code",
   "execution_count": 1,
   "metadata": {
    "collapsed": true
   },
   "outputs": [],
   "source": [
    "cake = 3.14\n",
    "diameter = 2\n",
    "\n",
    "belt_size = cake * diameter"
   ]
  },
  {
   "cell_type": "markdown",
   "metadata": {},
   "source": [
    "# Example Solution"
   ]
  },
  {
   "cell_type": "code",
   "execution_count": 2,
   "metadata": {
    "collapsed": true
   },
   "outputs": [],
   "source": [
    "# calculate the circumference of a circle\n",
    "pi = 3.14\n",
    "diameter = 2\n",
    "\n",
    "circumference = pi * diameter"
   ]
  },
  {
   "cell_type": "markdown",
   "metadata": {},
   "source": [
    "# Even Better Solution"
   ]
  },
  {
   "cell_type": "code",
   "execution_count": null,
   "metadata": {},
   "outputs": [],
   "source": [
    "PI = 3.14\n",
    "diameter = 2\n",
    "\n",
    "circumference = PI * diameter"
   ]
  },
  {
   "cell_type": "markdown",
   "metadata": {},
   "source": [
    "So this solution is a bit better because pi is a mathmatical constant, and so therefore should probably be made into a constant. Which means the name should be in all-caps. I also removed the comment because I think what the code does is clearr from the context."
   ]
  },
  {
   "cell_type": "code",
   "execution_count": null,
   "metadata": {},
   "outputs": [],
   "source": []
  }
 ],
 "metadata": {
  "kernelspec": {
   "display_name": "Python 3",
   "language": "python",
   "name": "python3"
  },
  "language_info": {
   "codemirror_mode": {
    "name": "ipython",
    "version": 3
   },
   "file_extension": ".py",
   "mimetype": "text/x-python",
   "name": "python",
   "nbconvert_exporter": "python",
   "pygments_lexer": "ipython3",
   "version": "3.7.4"
  }
 },
 "nbformat": 4,
 "nbformat_minor": 2
}
