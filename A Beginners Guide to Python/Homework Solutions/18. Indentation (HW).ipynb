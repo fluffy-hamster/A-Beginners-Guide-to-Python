{
 "cells": [
  {
   "cell_type": "markdown",
   "metadata": {},
   "source": [
    "## Homework Assignment\n",
    "\n",
    "Directly below is houses and kittens, a D&D knock-off. The game was ready to be published by unfortunately mysterious computer pixies (sometimes known as 'byte imps') have messed up the indentation of the code and it no longer works. On the bright-side the byte imps have only tinkered with the indentation and nothing else.\n",
    "\n",
    "With this knowledge can you fix the game?"
   ]
  },
  {
   "cell_type": "code",
   "execution_count": null,
   "metadata": {
    "collapsed": true
   },
   "outputs": [],
   "source": [
    "## HOUSES AND KITTENS, A D&D KNOCK-OFF ### \n",
    "\n",
    "#### THIS CODE IS A MESS, FIX THE INDENTATION\n",
    "\n",
    " quest = \"KILL KITTEN\"\n",
    "        current_xp = 20\n",
    "next_level_xp = 100\n",
    "   weapon_of_choice = \"sponge mallet\"\n",
    "    is_dead = False\n",
    "     attack_dmg = 10\n",
    "                    enemy_health = 10\n",
    "\n",
    "print('\\nGAMEMASTER says: \"{} does {} and the enemy has {} health do you want to attack?\"\\n'.format(weapon_of_choice, attack_dmg, enemy_health))\n",
    "    atk = input('Enter \"Y\" to attack, else \"N\"')\n",
    "    do_attack = True if atk == \"Y\" else False\n",
    "\n",
    "\n",
    "if do_attack:\n",
    "    enemy_health -= attack_dmg\n",
    "    if enemy_health == 0:\n",
    "is_dead = True\n",
    "\n",
    "    if is_dead:\n",
    "        print('INKEEPER says: \"OMG WHAT DID YOU DO!!!!, WHY DID YOU KILL THAT POOR LITTLE KITTEN WITH YOUR {}? ..YOU..MONSTER!!!\"'.format(weapon_of_choice.upper()))\n",
    "            if quest == \"KILL KITTEN\":\n",
    "            print('\\nGAMEMASTER says: \"Our brave hero completes his quest. + 80 xp\"\\n')\n",
    "            current_xp += 80\n",
    "            print('INKEEPER says: \"I have a baby seal in the swimming pool if you want to club that too?\"'.format(weapon_of_choice))\n",
    "\n",
    "        new_quest_accept = input('GAMEMASTER says: \"DO YOU ACCEPT THE CLUB POOR SEAL QUEST? Type Y or N\"\\n')    \n",
    "\n",
    "    if new_quest_accept == \"Y\":\n",
    "                quest = \"CLUB BABY SEAL\"\n",
    "                print('INKEEPER says: \"YES!? I was being sarcastic you twit, why on earth would I give you a quest to harm by baby seal?\"')\n",
    "                else:\n",
    "                print('INKEEPER says: \"NO? Well THANKYOU for not killing every living thing in my house. Speaking of which, Why are you even in my house? GET OUT GET OUT YOU FOUL BEAST!!\"')\n",
    "\n",
    "    elif do_attack and not is_dead:\n",
    "print('INKEEPER says: \"SNUFFLES!!! WHAT DID HE DO TO YOU!!! SOMEONE PLEASE FETCH A CAT DOCTOR\"')\n",
    "\n",
    "    if current_xp == next_level_xp:\n",
    "        print('\\nGAMEMASTER says: \"LEVEL UP!!, {} now does +2 attack\"\\n'.format(weapon_of_choice))\n",
    "        attack_dmg += 2\n",
    "\n",
    "            else:\n",
    "print('INKEEPER says: \"Thankyou kind sir for not maiming my little kitten with your {}\"'.format(weapon_of_choice))\n"
   ]
  },
  {
   "cell_type": "markdown",
   "metadata": {},
   "source": [
    "## Example Solution"
   ]
  },
  {
   "cell_type": "code",
   "execution_count": 1,
   "metadata": {},
   "outputs": [
    {
     "name": "stdout",
     "output_type": "stream",
     "text": [
      "\n",
      "GAMEMASTER says: \"sponge mallet does 10 and the enemy has 10 health do you want to attack?\"\n",
      "\n",
      "Enter \"Y\" to attack, else \"N\"Y\n",
      "INKEEPER says: \"OMG WHAT DID YOU DO!!!!, WHY DID YOU KILL THAT POOR LITTLE KITTEN WITH YOUR SPONGE MALLET? ..YOU..MONSTER!!!\"\n",
      "\n",
      "GAMEMASTER says: \"Our brave hero completes his quest. + 80 xp\"\n",
      "\n",
      "INKEEPER says: \"I have a baby seal in the swimming pool if you want to club that too?\"\n",
      "GAMEMASTER says: \"DO YOU ACCEPT THE CLUB POOR SEAL QUEST? Type Y or N\"\n",
      "Y\n",
      "INKEEPER says: \"YES!? I was being sarcastic you twit, why on earth would I give you a quest to harm by baby seal?\"\n",
      "\n",
      "GAMEMASTER says: \"LEVEL UP!!, sponge mallet now does +2 attack\"\n",
      "\n"
     ]
    }
   ],
   "source": [
    "## HOUSES AND KITTENS, A D&D KNOCK-OFF ### \n",
    "\n",
    "#### THIS CODE IS A MESS, FIX THE INDENTATION\n",
    "\n",
    "quest = \"KILL KITTEN\"\n",
    "current_xp = 20\n",
    "next_level_xp = 100\n",
    "weapon_of_choice = \"sponge mallet\"\n",
    "is_dead = False\n",
    "attack_dmg = 10\n",
    "enemy_health = 10\n",
    "\n",
    "print('\\nGAMEMASTER says: \"{} does {} and the enemy has {} health do you want to attack?\"\\n'.format(weapon_of_choice, attack_dmg, enemy_health))\n",
    "atk = input('Enter \"Y\" to attack, else \"N\"')\n",
    "do_attack = True if atk == \"Y\" else False\n",
    "\n",
    "\n",
    "if do_attack:\n",
    "    enemy_health -= attack_dmg\n",
    "    if enemy_health == 0:\n",
    "        is_dead = True\n",
    "\n",
    "    if is_dead:\n",
    "        print('INKEEPER says: \"OMG WHAT DID YOU DO!!!!, WHY DID YOU KILL THAT POOR LITTLE KITTEN WITH YOUR {}? ..YOU..MONSTER!!!\"'.format(weapon_of_choice.upper()))\n",
    "        if quest == \"KILL KITTEN\":\n",
    "            print('\\nGAMEMASTER says: \"Our brave hero completes his quest. + 80 xp\"\\n')\n",
    "            current_xp += 80\n",
    "            print('INKEEPER says: \"I have a baby seal in the swimming pool if you want to club that too?\"'.format(weapon_of_choice))\n",
    "\n",
    "            new_quest_accept = input('GAMEMASTER says: \"DO YOU ACCEPT THE CLUB POOR SEAL QUEST? Type Y or N\"\\n')    \n",
    "\n",
    "            if new_quest_accept == \"Y\":\n",
    "                quest = \"CLUB BABY SEAL\"\n",
    "                print('INKEEPER says: \"YES!? I was being sarcastic you twit, why on earth would I give you a quest to harm by baby seal?\"')\n",
    "            else:\n",
    "                print('INKEEPER says: \"NO? Well THANKYOU for not killing every living thing in my house. Speaking of which, Why are you even in my house? GET OUT GET OUT YOU FOUL BEAST!!\"')\n",
    "\n",
    "    elif do_attack and not is_dead:\n",
    "        print('INKEEPER says: \"SNUFFLES!!! WHAT DID HE DO TO YOU!!! SOMEONE PLEASE FETCH A CAT DOCTOR\"')\n",
    "\n",
    "    if current_xp == next_level_xp:\n",
    "        print('\\nGAMEMASTER says: \"LEVEL UP!!, {} now does +2 attack\"\\n'.format(weapon_of_choice))\n",
    "        attack_dmg += 2\n",
    "\n",
    "else:\n",
    "    print('INKEEPER says: \"Thankyou kind sir for not maiming my little kitten with your {}\"'.format(weapon_of_choice))\n"
   ]
  }
 ],
 "metadata": {
  "kernelspec": {
   "display_name": "Python 3",
   "language": "python",
   "name": "python3"
  },
  "language_info": {
   "codemirror_mode": {
    "name": "ipython",
    "version": 3
   },
   "file_extension": ".py",
   "mimetype": "text/x-python",
   "name": "python",
   "nbconvert_exporter": "python",
   "pygments_lexer": "ipython3",
   "version": "3.7.4"
  }
 },
 "nbformat": 4,
 "nbformat_minor": 2
}
