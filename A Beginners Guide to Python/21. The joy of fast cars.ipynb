{
 "cells": [
  {
   "cell_type": "markdown",
   "metadata": {},
   "source": [
    "# The joy of fast cars \n",
    "\n",
    "Hi guys, so in this lecture I wanted to talk about speed in Python. Now, as beginners I want to emphasize that you guys should be focusing on writing *correct* programs and not pay too much mind to how fast they run. But with that said I do think that thinking about the speed of code can actually be fun; its problem solving and a challenge.\n",
    "\n",
    "The 'joy of fast cars' is a somewhat cryptic title, but the explanation of it is fairly straight-forward; one of the things I find a lot of fun is trying to make my code more efficient; I genuinely enjoy the process of taking a bit of code and trying to come up with ways to make it faster.  In my mind programming is at its most interesting when you can can look past stuff like language syntax and instead focus of the very nature of the problem itself. The aim of today is to try to get you a glimpse of that. \n",
    "\n",
    "The problem we shall be looking at today is the following:\n",
    "    \n",
    "    How can we list all of the prime numbers from 0 to N?\n",
    "    \n",
    "Lets start the process by spliting the process into two parts; first, we need a way of knowing if a number is prime or not. And once we have that, we need to check all the numbers 0 to N. "
   ]
  },
  {
   "cell_type": "code",
   "execution_count": 2,
   "metadata": {},
   "outputs": [
    {
     "name": "stdout",
     "output_type": "stream",
     "text": [
      "[2, 3, 5, 7, 11, 13, 17, 19, 23, 29, 31, 37, 41, 43, 47, 53, 59, 61, 67, 71, 73, 79, 83, 89, 97, 101, 103, 107, 109, 113, 127, 131, 137, 139, 149, 151, 157, 163, 167, 173, 179, 181, 191, 193, 197, 199, 211, 223, 227, 229, 233, 239, 241, 251, 257, 263, 269, 271, 277, 281, 283, 293, 307, 311, 313, 317, 331, 337, 347, 349, 353, 359, 367, 373, 379, 383, 389, 397]\n"
     ]
    }
   ],
   "source": [
    "# Attempt 1\n",
    "\n",
    "def is_prime(num):\n",
    "    \"\"\"Returns True if number is prime, False otherwise\"\"\"\n",
    "    \n",
    "    if num <= 1: return False    # negetive numbers are not prime\n",
    "    \n",
    "    # check for factors\n",
    "    for i in range(2,num): # for loop that iterates 2-to-num. Each number in the iteration is called \"i\"\n",
    "        if (num % i) == 0: # modular arithmetic; this asks if num is divisible by i (with no remainder).\n",
    "            return False\n",
    "    \n",
    "    # If we have iterated through every number upto num without finding a divisor it must be prime.\n",
    "    return True\n",
    "\n",
    "\n",
    "# Making the list:\n",
    "def get_primes(b):\n",
    "    primes = []\n",
    "    for num in range(0, b+1):\n",
    "        if is_prime(num): # Yes, you can call functions inside other functions!\n",
    "            primes.append(num) # If prime, add it to the list\n",
    "    return primes\n",
    "\n",
    "print(get_primes(400))"
   ]
  },
  {
   "cell_type": "markdown",
   "metadata": {},
   "source": [
    "Okay cool, now that we have working solution the next question is how to improve the speed. To improve speed, the first and most obvious starting point is to time the code.\n",
    "Lets do that now..."
   ]
  },
  {
   "cell_type": "code",
   "execution_count": 4,
   "metadata": {},
   "outputs": [
    {
     "name": "stdout",
     "output_type": "stream",
     "text": [
      "Thu Jan 16 06:24:40 2020    get_primes()\n",
      "\n",
      "         109598 function calls in 32.348 seconds\n",
      "\n",
      "   Ordered by: internal time\n",
      "\n",
      "   ncalls  tottime  percall  cumtime  percall filename:lineno(function)\n",
      "   100001   32.332    0.000   32.332    0.000 <ipython-input-2-e5e4adc69acf>:3(is_prime)\n",
      "        1    0.015    0.015   32.348   32.348 <ipython-input-2-e5e4adc69acf>:18(get_primes)\n",
      "     9592    0.001    0.000    0.001    0.000 {method 'append' of 'list' objects}\n",
      "        1    0.000    0.000   32.348   32.348 .\\misc\\profile_code.py:4(_run)\n",
      "        1    0.000    0.000   32.348   32.348 {built-in method builtins.exec}\n",
      "        1    0.000    0.000   32.348   32.348 <string>:1(<module>)\n",
      "        1    0.000    0.000    0.000    0.000 {method 'disable' of '_lsprof.Profiler' objects}\n",
      "\n",
      "\n",
      "\n"
     ]
    }
   ],
   "source": [
    "import sys\n",
    "sys.path.append(\".\\misc\") # Adding to sys.path allows us to find \"profile_code.py\" \n",
    "from profile_code import profile\n",
    "\n",
    "result = profile(get_primes, 100_000) # Get all primes, 0..100,000\n",
    "\n",
    "print(result)"
   ]
  },
  {
   "cell_type": "markdown",
   "metadata": {},
   "source": [
    "In the above output, we can see that it took about 32secs to get all the primes less than 100,000. \n",
    "\n",
    "We can also see that almost all of the time is taken by the \"is_prime\" function (tottime column). This is important, this means that improving the performance of \"is_prime\" is going to considerably increase performance, whereas improving the speed of the get_primes function will have almost no impact.  \n",
    "\n",
    "For example, list comprehensions are faster than for-loops and so I could speed the ‘get_primes’ function by doing that. For arguments sake lets suppose using a list comprehension can speed it up that function by a massive 90%!! That’s a huge improvement! But when we look at the total time we see that get_primes took 0.015 seconds on my machine. So a 90% improvement would speed us up by about 0.012 seconds. \n",
    "\n",
    "Okay, so the function we need to improve is the ‘is_prime’ function. I think the first line of code to study is the for-loop:\n",
    "\n",
    ">  for i in range(2, num):\n",
    "\n",
    "So this is where the fun begins! To solve this puzzle we need to think logically and be a bit creative here. Improving the speed of this line of code is not simply “know more Python”. Rather, we need to think logically and apply a splash mathematics. Here, let me show you something:\n",
    "\n"
   ]
  },
  {
   "cell_type": "code",
   "execution_count": 5,
   "metadata": {},
   "outputs": [
    {
     "name": "stdout",
     "output_type": "stream",
     "text": [
      "1 -- 20.0\n",
      "2 -- 10.0\n",
      "3 -- 6.666666666666667\n",
      "4 -- 5.0\n",
      "5 -- 4.0\n",
      "6 -- 3.3333333333333335\n",
      "7 -- 2.857142857142857\n",
      "8 -- 2.5\n",
      "9 -- 2.2222222222222223\n",
      "10 -- 2.0\n",
      "11 -- 1.8181818181818181\n",
      "12 -- 1.6666666666666667\n",
      "13 -- 1.5384615384615385\n",
      "14 -- 1.4285714285714286\n",
      "15 -- 1.3333333333333333\n",
      "16 -- 1.25\n",
      "17 -- 1.1764705882352942\n",
      "18 -- 1.1111111111111112\n",
      "19 -- 1.0526315789473684\n"
     ]
    }
   ],
   "source": [
    "for i in range(1, 20):\n",
    "    print(i, \"--\", 20/i)"
   ]
  },
  {
   "cell_type": "markdown",
   "metadata": {},
   "source": [
    "So this code is dividing the number 20 by 'i', where 'i' is 1-to-20. The salient point here is that numbers past 11 are not whole numbers. This makes a lot of sense when you think about it; the minimum number of ‘integer parts’ we can split X into (besides 1) is two. Thus, when we start looking at numbers greater than n/2 the solution will never be a whole number. And that stands for all numbers, not just 20. \n",
    "\n",
    "Now, we can we use this information to make our prime search smarter. As things currently stand proving 1499 is prime requires about that many steps; our code is (at the moment) asking if numbers like 1001, 1002, 1003, ... are divisors of 1499 but as the above logic demonstrates since we want to find divisors of n these checks are actually unnecessary. So, If we stop iterating at the number 750 we can approximately half the time it takes to find a prime number and still have a correct solution. \n",
    "\n",
    "> for i in range(2, num//2):\n",
    "\n",
    "As a quick note, we are using integer division here because the range function cannot handle floats. Now, before we run the benchmark though, we need to check for correctness; whenever you make a changes, even If it is a small one, you should test it on a few inputs. We want to check we haven’t broken anything with our change (more on ‘regression testing’ later). With this in mind, I ran the following code on my machine *(where is_prime is the old function and is_prime2 is with the change):*\n",
    "  \n",
    "    x = [i for i in range(0,30000) if is_prime(i)]\n",
    "    y = [i for i in range(0,30000) if is_prime2(i)]\n",
    "    print(x == y) ---> False\n",
    "\n",
    "We have a bug batman! What went wrong?  To find out, I ran the following bit of code:\n",
    "    \n",
    "    x2 = set(x)\n",
    "    y2 = set(y)\n",
    "    x2.symmetric_difference(y2) ---> {4}\n",
    "\n",
    "I converted the lists to sets because sets have this handy method for quickly telling the difference between two items. It turns out we have two lists, each with 3200+ numbers and the only difference is that one of these lists contains the number 4 and the other does not. So what’s the problem?  \n",
    "\n",
    "Well, our new function uses:\n",
    "\n",
    "\t range(2, n//2)\n",
    "\n",
    "and:\n",
    "\t\n",
    "    4//2 == 2\t\n",
    "\n",
    "In short, our change to the function works great for large input but breaks for tiny inputs. I think the simplest fix to this problem is to use (n//2)+1, which should fix our error with a insignificant performance cost. "
   ]
  },
  {
   "cell_type": "code",
   "execution_count": 6,
   "metadata": {},
   "outputs": [
    {
     "name": "stdout",
     "output_type": "stream",
     "text": [
      "(2)... 2\n"
     ]
    }
   ],
   "source": [
    "n = 4\n",
    "for i in range(2, n//2):\n",
    "    print(\"(1)...\", i)\n",
    "    # Nothing is printed! WTF!!\n",
    "\n",
    "# Okay, attempted fix:\n",
    "for i in range(2, n//2+1):\n",
    "    print(\"(2)...\" , i)\n"
   ]
  },
  {
   "cell_type": "code",
   "execution_count": 9,
   "metadata": {},
   "outputs": [],
   "source": [
    "# Attempt 2\n",
    "\n",
    "def is_prime2(num):\n",
    "    \"\"\"Returns True if number is prime, False otherwise\"\"\"\n",
    "    \n",
    "    if num <= 1: return False  \n",
    "    \n",
    "    # check for factors\n",
    "    for i in range(2, (num//2) + 1):  ## tweaked\n",
    "        if (num % i) == 0: \n",
    "            return False\n",
    "        \n",
    "    return True\n",
    "\n",
    "\n",
    "# Making the list:\n",
    "def get_primes2(b):\n",
    "    primes = []\n",
    "    for num in range(0, b+1):\n",
    "        if is_prime2(num):  ## call our new prime function...\n",
    "            primes.append(num)\n",
    "    return primes"
   ]
  },
  {
   "cell_type": "code",
   "execution_count": 10,
   "metadata": {},
   "outputs": [
    {
     "name": "stdout",
     "output_type": "stream",
     "text": [
      "Thu Jan 16 06:40:51 2020    get_primes2()\n",
      "\n",
      "         109598 function calls in 15.654 seconds\n",
      "\n",
      "   Ordered by: internal time\n",
      "\n",
      "   ncalls  tottime  percall  cumtime  percall filename:lineno(function)\n",
      "   100001   15.638    0.000   15.638    0.000 <ipython-input-9-cd34d7bb6ae1>:3(is_prime2)\n",
      "        1    0.015    0.015   15.654   15.654 <ipython-input-9-cd34d7bb6ae1>:17(get_primes2)\n",
      "     9592    0.001    0.000    0.001    0.000 {method 'append' of 'list' objects}\n",
      "        1    0.000    0.000   15.654   15.654 .\\misc\\profile_code.py:4(_run)\n",
      "        1    0.000    0.000   15.654   15.654 {built-in method builtins.exec}\n",
      "        1    0.000    0.000   15.654   15.654 <string>:1(<module>)\n",
      "        1    0.000    0.000    0.000    0.000 {method 'disable' of '_lsprof.Profiler' objects}\n",
      "\n",
      "\n",
      "\n"
     ]
    }
   ],
   "source": [
    "import sys\n",
    "sys.path.append(\".\\misc\") # Adding to sys.path allows us to find \"profile_code.py\" \n",
    "from profile_code import profile\n",
    "\n",
    "result = profile(get_primes2, 100_000) # Get all primes, 0..100,000\n",
    "\n",
    "print(result)"
   ]
  },
  {
   "cell_type": "markdown",
   "metadata": {},
   "source": [
    "So this small change has roughly halved the amount of time it to get all primes upto 100,000.\n",
    "\n",
    "Are we done? Well actually I can think of a few more tweaks...\n",
    "\n",
    "Let's think about the nature of primes for one moment. The definition of a prime is that it is only divisible by itself and 1. And since an even number is, by definition, divisible by 2 we know that the only prime that is even is 2. \n",
    "\n",
    "Let’s  think of a large odd number (not necessarily prime). Our code is going to ask if 2,4,8,10,12… are divisors. But from the definition of even numbers we know that if 12, 18, 22, etc are divisors of X then so must 2. Which therefore means if 2 is not a divisor then neither is 6,8,100,102, etc. \n",
    "\n",
    "In short, checking for 2 is equivalent to checking for all even numbers. Can we apply this insight to our code? I think so:"
   ]
  },
  {
   "cell_type": "code",
   "execution_count": 11,
   "metadata": {},
   "outputs": [],
   "source": [
    "# Attempt 3\n",
    "\n",
    "def is_prime3(num):\n",
    "    \"\"\"Returns True if number is prime, False otherwise\"\"\"\n",
    "    \n",
    "    if num <= 1: \n",
    "        return False \n",
    "    if num == 2: \n",
    "        return True\n",
    "    if num % 2 == 0: \n",
    "        # notice that this check occurs AFTER we check is num == 2.\n",
    "        return False\n",
    "    \n",
    "    # check for factors\n",
    "    for i in range(3,num//2+1, 2): # range function starts at odd number with a step of 2. \n",
    "                if (num % i) == 0: \n",
    "                    return False       \n",
    "    return True\n",
    "\n",
    "\n",
    "# Making the list:\n",
    "def get_primes3(b):\n",
    "    primes = []\n",
    "    for num in range(0, b+1):\n",
    "        if is_prime3(num):  ## call our new prime function...\n",
    "            primes.append(num)\n",
    "    return primes"
   ]
  },
  {
   "cell_type": "markdown",
   "metadata": {},
   "source": [
    "So in the above code we check if a number is divisible by 2 just once. After that, we only check if odd numbers are divisors of n. This change looks like it roughly halves the search space. Okay, let's benchmark it!"
   ]
  },
  {
   "cell_type": "code",
   "execution_count": 12,
   "metadata": {},
   "outputs": [
    {
     "name": "stdout",
     "output_type": "stream",
     "text": [
      "Thu Jan 16 06:53:00 2020    get_primes3()\n",
      "\n",
      "         109598 function calls in 7.946 seconds\n",
      "\n",
      "   Ordered by: internal time\n",
      "\n",
      "   ncalls  tottime  percall  cumtime  percall filename:lineno(function)\n",
      "   100001    7.930    0.000    7.930    0.000 <ipython-input-11-f3002cc7c338>:3(is_prime3)\n",
      "        1    0.015    0.015    7.946    7.946 <ipython-input-11-f3002cc7c338>:22(get_primes3)\n",
      "     9592    0.001    0.000    0.001    0.000 {method 'append' of 'list' objects}\n",
      "        1    0.000    0.000    7.946    7.946 .\\misc\\profile_code.py:4(_run)\n",
      "        1    0.000    0.000    7.946    7.946 {built-in method builtins.exec}\n",
      "        1    0.000    0.000    7.946    7.946 <string>:1(<module>)\n",
      "        1    0.000    0.000    0.000    0.000 {method 'disable' of '_lsprof.Profiler' objects}\n",
      "\n",
      "\n",
      "\n"
     ]
    }
   ],
   "source": [
    "import sys\n",
    "sys.path.append(\".\\misc\") # Adding to sys.path allows us to find \"profile_code.py\" \n",
    "from profile_code import profile\n",
    "\n",
    "result = profile(get_primes3, 100_000) # Get all primes, 0..100,000\n",
    "\n",
    "print(result)"
   ]
  },
  {
   "cell_type": "markdown",
   "metadata": {},
   "source": [
    "So now we are down to 8secs. \n",
    "\n",
    "Can we do better? Perhaps, but I’m out of ideas at this point. But hey, google is a treasure trove of information, I wonder if there is some other maths ‘trick’ out there we could use…"
   ]
  },
  {
   "cell_type": "markdown",
   "metadata": {},
   "source": [
    "After googling, I found out that apparently we can use the square root of n! And here I’m going to reproduce a maths proof which I found [here](https://stackoverflow.com/questions/5811151/why-do-we-check-up-to-the-square-root-of-a-prime-number-to-determine-if-it-is-pr).\n",
    "\n",
    "## Proof\n",
    "\n",
    "Imagine we have two numbers A, B such that A * B = N\n",
    "\n",
    "Now there are three possible cases.\n",
    "\n",
    "1. A > B\n",
    "2. A = B\n",
    "3. A < B\n",
    "\n",
    "Notice that because A * B is the same as B * A cases 1 and 3 are equivelent. So that means we only need to check cases 1 and 2.\n",
    "If A = B then A * B can be rewritten as A * A. If A * A = N then thats the definition of square root.\n",
    "\n",
    "\n",
    "## Benchmarking Sqrt(N)\n",
    "\n",
    "Alright, how can we implement this. Well, it took a bit of testing, but eventually I came up with this line (after importing the math module, of course):\n",
    "\n",
    "> for num in range(3, math.ceil(math.sqrt(num))+1, 2):\n",
    "\n",
    "Sqrt(n) in many cases is not a whole number in some cases and as discussed elsewhere range requires an integer. That’s where math.ceil comes in, it rounds n up to the next integer (eg. math.ceil(6.0003) ---> 7) I then add one to make sure small numbers like 3,4 are handled correctly. \n",
    "\n",
    "How much faster do we think this function will be? Lets run it!"
   ]
  },
  {
   "cell_type": "code",
   "execution_count": 16,
   "metadata": {},
   "outputs": [],
   "source": [
    "# Attempt 4\n",
    "\n",
    "from math import sqrt, ceil\n",
    "\n",
    "def is_prime4(num):\n",
    "    \"\"\"Returns True if number is prime, False otherwise\"\"\"\n",
    "    \n",
    "    if num <= 1: \n",
    "        return False \n",
    "    if num == 2: \n",
    "        return True\n",
    "    if num % 2 == 0: \n",
    "        return False\n",
    "    \n",
    "    # check for factors\n",
    "    for i in range(3,ceil(sqrt(num))+1, 2): # upto sqrt of N (always rounded up)\n",
    "                if (num % i) == 0: \n",
    "                    return False       \n",
    "    return True\n",
    "\n",
    "\n",
    "# Making the list:\n",
    "def get_primes4(b):\n",
    "    primes = []\n",
    "    for num in range(0, b+1):\n",
    "        if is_prime4(num):  ## call our new prime function...\n",
    "            primes.append(num)\n",
    "    return primes"
   ]
  },
  {
   "cell_type": "code",
   "execution_count": 20,
   "metadata": {},
   "outputs": [
    {
     "name": "stdout",
     "output_type": "stream",
     "text": [
      "Thu Jan 16 07:05:51 2020    get_primes4()\n",
      "\n",
      "         209596 function calls in 0.153 seconds\n",
      "\n",
      "   Ordered by: internal time\n",
      "\n",
      "   ncalls  tottime  percall  cumtime  percall filename:lineno(function)\n",
      "   100001    0.114    0.000    0.136    0.000 <ipython-input-16-c28e4b9cf9fa>:5(is_prime4)\n",
      "        1    0.016    0.016    0.153    0.153 <ipython-input-16-c28e4b9cf9fa>:23(get_primes4)\n",
      "    49999    0.013    0.000    0.013    0.000 {built-in method math.ceil}\n",
      "    49999    0.009    0.000    0.009    0.000 {built-in method math.sqrt}\n",
      "     9592    0.001    0.000    0.001    0.000 {method 'append' of 'list' objects}\n",
      "        1    0.000    0.000    0.153    0.153 .\\misc\\profile_code.py:4(_run)\n",
      "        1    0.000    0.000    0.153    0.153 {built-in method builtins.exec}\n",
      "        1    0.000    0.000    0.153    0.153 <string>:1(<module>)\n",
      "        1    0.000    0.000    0.000    0.000 {method 'disable' of '_lsprof.Profiler' objects}\n",
      "\n",
      "\n",
      "\n"
     ]
    }
   ],
   "source": [
    "import sys\n",
    "sys.path.append(\".\\misc\") # Adding to sys.path allows us to find \"profile_code.py\" \n",
    "from profile_code import profile\n",
    "\n",
    "result = profile(get_primes4, 100_000) # Get all primes, 0..100,000\n",
    "\n",
    "print(result)"
   ]
  },
  {
   "cell_type": "markdown",
   "metadata": {},
   "source": [
    "When we started, it took 32secs to get all the primes from 0 to 100_000 (on my pc). With the square root trick it now takes 0.15secs, thats a massive difference.\n",
    "\n",
    "You might wonder why square root made such a big difference. Why is to do with how functions scale with input size. For example, If we skip all the even numbers less than N, and we skip all the numbers greater than N / 2 then we have reduced the search space to approximately N / 4. This is a *linear* improvement; if the number is 1,000,000 then we still need to check 250,000 numbers. For 2,000,000 we check 500,000 numbers, and so on.\n",
    "\n",
    "What about square root? Well the square root of a 1,000,000 is 1000 and the sqrt of 2,000,000 is about 1414. So as you can see, these numbers are growing at a much slower rate. And thats why its considerably faster. For a more theoretical explanation, please google \"Big O Notation\".\n",
    "\n",
    "\n",
    "Are we done?"
   ]
  },
  {
   "cell_type": "markdown",
   "metadata": {},
   "source": [
    "## Rethinking the problem\n",
    "\n",
    "So, our task is create lists of primes upto N and so far our strategy for improving performance is to reduce the number of divisors we need to check. \n",
    "\n",
    "Lets think outside the box for a moment. Image that there is an empty swimming pool full of small plastic balls and equally sized lead balls. We want to sort them. How might we do it?\n",
    "\n",
    "Well, we could jump into the ball and pick the balls up. If its heavy we put it to oneside. Maybe we could improve this process by getting a friend to help. Maybe we get fifty friends, and at some point we realise that the way to improve performance is to manage people better (i.e. teamwork), and so you go down a rabbit-hole of small incremental improvements. \n",
    "\n",
    "But then a new idea comes along! Its a solution that doesn't need fifty people, in fact its a solution whose running time is independant of the number of people working on the task. Can you guess what the idea maybe?\n",
    "\n",
    "Okay here it is; fill the pool with water, the lead balls will stay at the bottom but the plastic balls will float. Get a big net and voila! The balls are sorted. \n",
    "\n",
    "How can we apply this analogy to the current problem? Well, right now we are sort of searching for 'needles in haystacks'. We ask is n is prime, and then ask if n + 1 is prime and so on. Thus far, our optimisation technique has been \"wait a minute, we do not need to check every straw\", there are some numbers we can just ignore. \n",
    "\n",
    "But what if there was some other way? \n",
    "\n",
    "After a bit of research, it seems like the [\"Sieve of Atkin\"](https://en.wikipedia.org/wiki/Sieve_of_Atkin) is the fastest known algorithm. But this algorithm is rather complex. Another approach is to use the [\"Sieve of Eratosthenes\"](https://en.wikipedia.org/wiki/Sieve_of_Eratosthenes). This algorithm is easier to implement, it may also be faster than our current method. \n",
    "\n",
    "This method uses a different trick, If you want a detailed explantion check the wiki article, but basically it boils down to this:\n",
    "\n",
    "1. All numbers are either prime or have prime factors. \n",
    "2. If P is prime, then P * Q cannot be prime. (where Q > 1). \n",
    "3. Therefore, to get all prime numbers from 1..N we keep prime P and then remove all multiples of P that are less than N. (e.g. P * 2, P * 3, P * 4, P * 5, etc)\n",
    "4. Repeat step 3 for all primes. \n",
    "\n",
    "So, if N is 20: \n",
    "\n",
    "    2, 3, 4, 5, 6, 7, 8, 9, 10, 11, 12, 13, 14, 15, 16, 17, 18, 19, 20\n",
    "\n",
    "2 is prime, so now we get rid of 2 * 2, 2 * 3, ..., 2 * 10\n",
    "\n",
    "    2, 3, _, 5, _, 7, _, 9, _, 11, _, 13, _, 15, _, 17, _, 19, _ \n",
    "\n",
    "The next number is 3 so we remove 3* 2, 3 * 3, 3 * 4, ..., 3 * 6\n",
    "\n",
    "    2, 3, _, 5, _, 7, _, _, 11, _, 13, _, _, _, 17, _, 19\n",
    "    \n",
    "The next is 5, so we remove 5 * 2 ... 5 * 4 \n",
    "\n",
    "And the next after that is 7 so we remove 7 * 2. \n",
    "\n",
    "And then since 11 * 2 is greater than N we can stop the process.\n",
    "\n",
    "Alright, to that explains the algorithm (more or less) lets code it up!"
   ]
  },
  {
   "cell_type": "code",
   "execution_count": 35,
   "metadata": {},
   "outputs": [],
   "source": [
    "def sieve_of_eratosthenes(n):\n",
    "    \n",
    "    mark = [True] * (n)\n",
    "    mark[0] = False\n",
    "    mark[1] = False # 0 and 1 are not prime, so we set these values to false.\n",
    "    \n",
    "    i = 2 # start at index 2 since 2 is the smallest prime.\n",
    "    while i < len(mark):\n",
    "        p = i\n",
    "        i += 1\n",
    "        if not mark[p]:\n",
    "            ## Ignore non-primes\n",
    "            continue \n",
    "\n",
    "        multiplier = 2\n",
    "        while p * multiplier < n:\n",
    "            ## Set all the multiples of P to false (since they cannot be prime).\n",
    "            mark[p * multiplier] = False\n",
    "            multiplier += 1\n",
    "            \n",
    "    return [i for i in range(len(mark)) if mark[i]] ## If all True values in the 'mark' array"
   ]
  },
  {
   "cell_type": "code",
   "execution_count": 31,
   "metadata": {},
   "outputs": [
    {
     "name": "stdout",
     "output_type": "stream",
     "text": [
      "Thu Jan 16 07:35:32 2020    sieve_of_eratosthenes()\n",
      "\n",
      "         100006 function calls in 0.072 seconds\n",
      "\n",
      "   Ordered by: internal time\n",
      "\n",
      "   ncalls  tottime  percall  cumtime  percall filename:lineno(function)\n",
      "        1    0.063    0.063    0.072    0.072 <ipython-input-23-a8eb9d402a8f>:1(sieve_of_eratosthenes)\n",
      "   100000    0.005    0.000    0.005    0.000 {built-in method builtins.len}\n",
      "        1    0.004    0.004    0.004    0.004 <ipython-input-23-a8eb9d402a8f>:21(<listcomp>)\n",
      "        1    0.000    0.000    0.072    0.072 .\\misc\\profile_code.py:4(_run)\n",
      "        1    0.000    0.000    0.072    0.072 {built-in method builtins.exec}\n",
      "        1    0.000    0.000    0.072    0.072 <string>:1(<module>)\n",
      "        1    0.000    0.000    0.000    0.000 {method 'disable' of '_lsprof.Profiler' objects}\n",
      "\n",
      "\n",
      "\n"
     ]
    }
   ],
   "source": [
    "import sys\n",
    "sys.path.append(\".\\misc\") # Adding to sys.path allows us to find \"profile_code.py\" \n",
    "from profile_code import profile\n",
    "\n",
    "result = profile(sieve_of_eratosthenes, 100_000) # Get all primes, 0..100,000\n",
    "\n",
    "print(result)"
   ]
  },
  {
   "cell_type": "markdown",
   "metadata": {},
   "source": [
    "Okay, so it seems faster; 0.072 is less than 0.153. However, when you see very small difference in time the result can be unreliable. Because background process and other things happening on the computer may be affecting the results. The simplest way to check that we really do have a genuine difference it to increase our input size. I know! Lets get all the prime numbers less than 10 million! "
   ]
  },
  {
   "cell_type": "code",
   "execution_count": 32,
   "metadata": {},
   "outputs": [
    {
     "name": "stdout",
     "output_type": "stream",
     "text": [
      "Thu Jan 16 07:40:25 2020    get_primes4()\n",
      "\n",
      "         20664583 function calls in 65.883 seconds\n",
      "\n",
      "   Ordered by: internal time\n",
      "\n",
      "   ncalls  tottime  percall  cumtime  percall filename:lineno(function)\n",
      " 10000001   62.113    0.000   64.229    0.000 <ipython-input-16-c28e4b9cf9fa>:5(is_prime4)\n",
      "        1    1.594    1.594   65.877   65.877 <ipython-input-16-c28e4b9cf9fa>:23(get_primes4)\n",
      "  4999999    1.216    0.000    1.216    0.000 {built-in method math.ceil}\n",
      "  4999999    0.900    0.000    0.900    0.000 {built-in method math.sqrt}\n",
      "   664579    0.053    0.000    0.053    0.000 {method 'append' of 'list' objects}\n",
      "        1    0.006    0.006   65.883   65.883 .\\misc\\profile_code.py:4(_run)\n",
      "        1    0.000    0.000   65.883   65.883 {built-in method builtins.exec}\n",
      "        1    0.000    0.000   65.883   65.883 <string>:1(<module>)\n",
      "        1    0.000    0.000    0.000    0.000 {method 'disable' of '_lsprof.Profiler' objects}\n",
      "\n",
      "\n",
      "\n"
     ]
    }
   ],
   "source": [
    "import sys\n",
    "sys.path.append(\".\\misc\") # Adding to sys.path allows us to find \"profile_code.py\" \n",
    "from profile_code import profile\n",
    "\n",
    "result = profile(get_primes4, 10_000_000) # Get all primes, 0..10,000,000\n",
    "\n",
    "print(result)"
   ]
  },
  {
   "cell_type": "code",
   "execution_count": 33,
   "metadata": {},
   "outputs": [
    {
     "name": "stdout",
     "output_type": "stream",
     "text": [
      "Thu Jan 16 07:41:13 2020    sieve_of_eratosthenes()\n",
      "\n",
      "         10000006 function calls in 8.816 seconds\n",
      "\n",
      "   Ordered by: internal time\n",
      "\n",
      "   ncalls  tottime  percall  cumtime  percall filename:lineno(function)\n",
      "        1    7.947    7.947    8.786    8.786 <ipython-input-23-a8eb9d402a8f>:1(sieve_of_eratosthenes)\n",
      " 10000000    0.491    0.000    0.491    0.000 {built-in method builtins.len}\n",
      "        1    0.348    0.348    0.348    0.348 <ipython-input-23-a8eb9d402a8f>:21(<listcomp>)\n",
      "        1    0.030    0.030    8.816    8.816 .\\misc\\profile_code.py:4(_run)\n",
      "        1    0.000    0.000    8.816    8.816 {built-in method builtins.exec}\n",
      "        1    0.000    0.000    8.816    8.816 <string>:1(<module>)\n",
      "        1    0.000    0.000    0.000    0.000 {method 'disable' of '_lsprof.Profiler' objects}\n",
      "\n",
      "\n",
      "\n"
     ]
    }
   ],
   "source": [
    "import sys\n",
    "sys.path.append(\".\\misc\") # Adding to sys.path allows us to find \"profile_code.py\" \n",
    "from profile_code import profile\n",
    "\n",
    "result = profile(sieve_of_eratosthenes, 10_000_000) # Get all primes, 0..10,000,000\n",
    "\n",
    "print(result)"
   ]
  },
  {
   "cell_type": "markdown",
   "metadata": {},
   "source": [
    "So when we check for all primes less than 10 million the sieve_of_eratosthenes really stands out; 9 secs versus 66 sec for our previous champion.\n",
    "\n",
    "Anyway, the main lesson I want you to learn here is that optimisation can be thought of as being two seperate ideas; the first idea is low-level tinkering, in other words, we look at all the small details and see if we can save a byte or two of memory here or there. But then there is ‘high-level’ optimisation, and that is where we try to come up with an entirely new (and hopefully better) strategy for solving the problem.\n",
    "\n",
    "In this lecture we started *searching* for needles in haystacks (checking if each number was a prime). We improved that by checking fewer straws. And then we thought of new idea, which was a bit like searching for needles by setting the haystack on fire; with the idea being that the only thing left will be the needles (i.e. the primes)."
   ]
  },
  {
   "cell_type": "code",
   "execution_count": 36,
   "metadata": {},
   "outputs": [
    {
     "data": {
      "text/plain": [
       "True"
      ]
     },
     "execution_count": 36,
     "metadata": {},
     "output_type": "execute_result"
    }
   ],
   "source": [
    "# Quick check to ensure all the functions return the correct answer..\n",
    "\n",
    "a = get_primes(1000)\n",
    "b = get_primes2(1000)\n",
    "c = get_primes3(1000)\n",
    "d = get_primes4(1000)\n",
    "e = sieve_of_eratosthenes(1000)\n",
    "\n",
    "a == b == c == d == e"
   ]
  },
  {
   "cell_type": "markdown",
   "metadata": {},
   "source": [
    "## Homework assignment\n",
    "\n",
    "In this weeks (optional) homework, your task it to try and write a bit of code that is *faster* than my code. And there is going to be two basic ways to do it; you can get your hands dirty and try some low-level optimisation or you can ditch all that and favour a high-level approach.\n",
    "\n",
    "Unlike most of the homeworks, this more about being clever than it is about understanding Python.\n",
    "\n",
    "    The Challenge: BEAT MY TIME!!\n",
    "    \n",
    "The below code will create a list of all *ODD* square numbers starting at 1 and ending at x. Example:\n",
    "\n",
    "    If x is 100, the squares are:\n",
    "    [1, 4, 9, 16, 25, 36, 49, 64, 81, 100]\n",
    "    \n",
    "    Of which, we only want the odd numbers:\n",
    "    [1, 9, 25, 49, 81]\n",
    "\n",
    "A few hints...\n",
    "\n",
    "* Remember that \"a and b\" can be slower than \"b and a\" (see logic lecture). Basically, **the order** in which you do things can make a difference.\n",
    "* Finding a needle in a haystack is probably slower than [BLANK] ? \n",
    "\n",
    "Please study the code below. Your jump is to either make it faster by tinkering with it. Or alternatively you may wish to use your own algorithm."
   ]
  },
  {
   "cell_type": "code",
   "execution_count": null,
   "metadata": {},
   "outputs": [],
   "source": [
    "import math                 \n",
    "\n",
    "# My code, this is the function to beat! How can you improve it?\n",
    "def squares(x):\n",
    "    lst = []                    \n",
    "    for number in range(1, x+1):    \n",
    "        square = math.sqrt(number)     # We call the square_root function on the number.\n",
    "        if square.is_integer():\n",
    "        # is_integer is a float method that returns true if the the number can be represented as an integer. \n",
    "        # for example, 4.0 = True, 4.89 = False \n",
    "            \n",
    "            if number % 2 != 0: # checks if number is odd.\n",
    "                lst.append(number) \n",
    "    return lst\n",
    "\n",
    "print(squares(1000))"
   ]
  },
  {
   "cell_type": "code",
   "execution_count": 40,
   "metadata": {},
   "outputs": [
    {
     "name": "stdout",
     "output_type": "stream",
     "text": [
      "CORRECTNESS TEST = PASSED\n",
      "...Now testing speed. Please, note, this may take a while...\n",
      " Also, I'd advise a margin or error of about +- 0.2 seconds\n",
      "\n",
      "-------- Solution Comparision, where input size is 5000000. -------- \n",
      "\n",
      "✿ Stats for Teacher's Squares function... \n",
      "         10001123 function calls in 2.341 seconds\n",
      "\n",
      "   Ordered by: internal time\n",
      "\n",
      "   ncalls  tottime  percall  cumtime  percall filename:lineno(function)\n",
      "        1    1.205    1.205    2.341    2.341 <ipython-input-40-0bda5a2d0596>:26(hamster_squares)\n",
      "  5000000    0.607    0.000    0.607    0.000 {built-in method math.sqrt}\n",
      "  5000000    0.530    0.000    0.530    0.000 {method 'is_integer' of 'float' objects}\n",
      "     1118    0.000    0.000    0.000    0.000 {method 'append' of 'list' objects}\n",
      "\n",
      "✿ Stats for 'YOUR' function... \n",
      "         10001124 function calls in 2.393 seconds\n",
      "\n",
      "   Ordered by: internal time\n",
      "\n",
      "   ncalls  tottime  percall  cumtime  percall filename:lineno(function)\n",
      "        1    1.222    1.222    2.393    2.393 <ipython-input-40-0bda5a2d0596>:26(hamster_squares)\n",
      "  5000000    0.634    0.000    0.634    0.000 {built-in method math.sqrt}\n",
      "  5000000    0.537    0.000    0.537    0.000 {method 'is_integer' of 'float' objects}\n",
      "     1118    0.000    0.000    0.000    0.000 {method 'append' of 'list' objects}\n",
      "        1    0.000    0.000    2.393    2.393 {built-in method builtins.exec}\n",
      "\n"
     ]
    }
   ],
   "source": [
    "import sys\n",
    "sys.path.append(\".\\misc\") # Adding to sys.path allows us to find \"profile_code.py\" \n",
    "from profile_code import profile\n",
    "\n",
    "import math \n",
    "\n",
    "def my_squares(x):\n",
    "    \"\"\"\n",
    "    X: an Int\n",
    "    \n",
    "    function returns a list of all odd square numbers >= X\n",
    "    \n",
    "    >>> my_squares(100)\n",
    "    [1, 9, 25, 49, 81]\n",
    "    \"\"\"\n",
    "    \n",
    "    # YOUR CODE GOES HERE !!!.\n",
    "    # Note, don't change name of this function, if you do, I cant test it!\n",
    "\n",
    "    return hamster_squares(x) ## CHANGE ME!!!\n",
    "\n",
    "##################################\n",
    "# MY CODE, a.k.a THE CODE TO BEAT!\n",
    "# Please do not change this!!!\n",
    "\n",
    "def hamster_squares(x):\n",
    "    lst = []                    \n",
    "    for number in range(1, x+1):    \n",
    "        square = math.sqrt(number)    \n",
    "        if square.is_integer():\n",
    "            if number % 2 != 0: \n",
    "                lst.append(number) \n",
    "    return lst\n",
    "\n",
    "################## THE CONTROL PANEL ################################\n",
    "#####################################################################\n",
    "verbose = True # set to False if you dont want the time on line-by-line basis.\n",
    "X = 5000000 \n",
    "# Lower X if tests are taking too long on your machine. \n",
    "# Raise X if you want higher accuracy.\n",
    "#####################################################################\n",
    "\n",
    "teacher = hamster_squares(10000)\n",
    "student = my_squares(10000)\n",
    "correct = None\n",
    "\n",
    "# TEST 1: CORRECTNESS\n",
    "if teacher == student:\n",
    "    print(\"CORRECTNESS TEST = PASSED\")\n",
    "    correct = True\n",
    "else:\n",
    "    print(\"CORRECTNESS TEST = FAILED\", \"NOW TRYING TO DEBUG...\", sep=\"\\n\")   \n",
    "    \n",
    "    # here is a bit of code to help you find the problem(s)!   \n",
    "    # returning a list?\n",
    "    if not isinstance(student, list):\n",
    "        print(\"... Try returning a list next time, not a bloody {} !\".format(type(student)))\n",
    "    \n",
    "    # too many/too few items?\n",
    "    elif len(teacher) != len(student):\n",
    "        print(\".... Your list has {} items, it should have {} items\".format(len(student), len(teacher)))\n",
    "        \n",
    "    # small numbers correct?\n",
    "    elif student[:10] != teacher[:10]:\n",
    "        print(\"... Start of list incorrect.\\nYOURS: {}\\nEXPECTED: {}\".format(student[:10], teacher[:10]))\n",
    "    \n",
    "    # testing for same items. Note that this test DOES NOT take order into consideration.\n",
    "    else:\n",
    "        ts = set(teacher)\n",
    "        st = set(student)\n",
    "        diff = ts.symmetric_difference(st)\n",
    "        if diff:\n",
    "            print(\"... The lists contain different numbers, these are... \\n {}\".format(diff))\n",
    "    \n",
    "\n",
    "# SPEED TESTS ... (just ignore this code)\n",
    "if correct:\n",
    "    print(\"...Now testing speed. Please, note, this may take a while...\\n\", \n",
    "          \"Also, I'd advise a margin or error of about +- 0.2 seconds\\n\")\n",
    "    \n",
    "    def string(i, func, detail): \n",
    "        i = i.split(\"\\n\")     \n",
    "        s= \"✿ Stats for {} function... \\n{}\".format(func, i[2])\n",
    "        if detail:\n",
    "            s = s + \"\\n\" + \"\\n\".join(i[3:-7]) + \"\\n\"\n",
    "        return s\n",
    "    \n",
    "    print(\"-------- Solution Comparision, where input size is {}. -------- \\n\".format(X))\n",
    "    \n",
    "    hs = profile(hamster_squares, X)\n",
    "    print(string(hs, \"Teacher's Squares\", verbose))\n",
    "\n",
    "    ss = profile(my_squares, X)\n",
    "    print(string(ss, \"'YOUR'\", verbose))"
   ]
  },
  {
   "cell_type": "code",
   "execution_count": null,
   "metadata": {},
   "outputs": [],
   "source": []
  }
 ],
 "metadata": {
  "kernelspec": {
   "display_name": "Python 3",
   "language": "python",
   "name": "python3"
  },
  "language_info": {
   "codemirror_mode": {
    "name": "ipython",
    "version": 3
   },
   "file_extension": ".py",
   "mimetype": "text/x-python",
   "name": "python",
   "nbconvert_exporter": "python",
   "pygments_lexer": "ipython3",
   "version": "3.7.4"
  }
 },
 "nbformat": 4,
 "nbformat_minor": 2
}
