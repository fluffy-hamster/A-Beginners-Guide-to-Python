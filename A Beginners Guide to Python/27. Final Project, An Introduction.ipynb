{
 "cells": [
  {
   "cell_type": "markdown",
   "metadata": {
    "collapsed": true
   },
   "source": [
    "# Final Project: An Introduction\n",
    "\n",
    "Congratulations guys, you are sooo close to the finish line. The final project is going to be split up into several parts; the aim is to get you guys to code up a working version of the game minesweeper.\n",
    "\n",
    "For each part I shall introduce the problem to solve and you then have to solve it as homework. I'll provide solutions as well, which means if you get stuck on part two or something you can just read my solution and move onto part three. The aim of splitting the project into chunks is help give you some structure; by the end of it we should be able to 'glue' the parts together and have a functioning game.\n",
    "\n",
    "For some of you this is about to be the largest program you have ever written. And unfortunately knowing your Python syntax isn't going to sufficient to succeed. Before you start, it might be a good idea to take a quick refresher in \"design decisions\". I say that because big projects require you to think about the big picture!\n",
    "\n",
    "Oh, one last thing, with the exception of this lecture all the materials related to the Minesweeper project are to be found in the *Final Project (minsweeper)* folder. \n",
    "\n",
    "## The game\n",
    "\n",
    "* The Rules: [clicky here](http://www.wikihow.com/Play-Minesweeper)\n",
    "* To play:   [clicky here](http://minesweeperonline.com/#)\n",
    "\n",
    "## Dividing into Chunks\n",
    "\n",
    "When starting large projects it is often a good idea to start with an 'itinerary' of concepts, that is, \"what will I have to do?\" Below I've provided a rough outline of some of the steps we are going to need to take to finish this project. \n",
    "\n",
    "* Build a board, (with bombs)\n",
    "* Have a function that works out how many neighbour squares are bombs. \n",
    "* A way to show the player the board\n",
    "* Have a 'reveal square' mechanic (player action) \n",
    "* Have a 'flag' mechanic (player action)\n",
    "\n",
    "Alright so let's get started. It seems like building a board might be the first step so come join me in the \"building the board\" lecture!\n",
    "\n",
    "## Lessons included!\n",
    "\n",
    "As a final note, even if you don't want to do the main project, I would nonetheless recommend checking out the sample solutions and the project lectures all the same. The reason I say that is there a few self-contained 'mini-sections' which you can learn from. So...yeah, I'll see you there, right guys?"
   ]
  },
  {
   "cell_type": "code",
   "execution_count": null,
   "metadata": {},
   "outputs": [],
   "source": []
  }
 ],
 "metadata": {
  "kernelspec": {
   "display_name": "Python 3",
   "language": "python",
   "name": "python3"
  },
  "language_info": {
   "codemirror_mode": {
    "name": "ipython",
    "version": 3
   },
   "file_extension": ".py",
   "mimetype": "text/x-python",
   "name": "python",
   "nbconvert_exporter": "python",
   "pygments_lexer": "ipython3",
   "version": "3.7.4"
  }
 },
 "nbformat": 4,
 "nbformat_minor": 2
}
