{
 "cells": [
  {
   "cell_type": "markdown",
   "metadata": {},
   "source": [
    "# Functions & Namespaces\n",
    "\n",
    "Much earlier in this course I taught you guys how to call functions, a little bit later on I taught you a bit about indentation. In this lecture I'll build on that knowledge and show you how to build your own functions. The Syntax:\n",
    "\n",
    "    def {function_name} ({argument1 (if any)}, {argument2 (if any)}, {...} ):\n",
    "        {code block}\n",
    "        return {something}\n",
    "        \n",
    "Take care to note that just like for-loops all code within the scope of the function is intended. The 'return' keyword acts as an 'exit point' for a function. As a minor aside, its not necessary to have one, but most functions will return something.\n",
    "\n",
    "Alright, lets focus on talking about the very first line of the function first. We can create function with no arguments, one, two, or several arguments. Any number of which can be optional arguments. For example..."
   ]
  },
  {
   "cell_type": "code",
   "execution_count": null,
   "metadata": {
    "collapsed": true
   },
   "outputs": [],
   "source": [
    "def zero_args():\n",
    "    # code goes here\n",
    "    pass\n",
    "\n",
    "def one_arg(a):\n",
    "    # code goes here\n",
    "    pass\n",
    "\n",
    "def two_args(a, b):\n",
    "    # code goes here\n",
    "    pass\n",
    "\n",
    "def optional_arg(a, b=0):     # <--- please note, optional arguments are listed LAST\n",
    "    # code goes here\n",
    "    pass\n",
    "\n",
    "def two_options(a=True, b=False):\n",
    "    # code goes here\n",
    "    pass\n",
    "\n",
    "# To refreash your memory, calling these functions look something like:\n",
    "zero_args()\n",
    "one_arg(10)\n",
    "two_args(10, 20)\n",
    "\n",
    "optional_arg(10)\n",
    "optional_arg(10, b=20)\n",
    "\n",
    "two_options()\n",
    "two_options(a=True)"
   ]
  },
  {
   "cell_type": "markdown",
   "metadata": {},
   "source": [
    "Simple stuff right? Okay lets move on and look at the body and return statement. I’m going to create a function that calculates the hypotenuse of a triangle when given sides 'a' and 'b' (i.e. the *Pythagorean Theorem*)."
   ]
  },
  {
   "cell_type": "code",
   "execution_count": 3,
   "metadata": {},
   "outputs": [
    {
     "data": {
      "text/plain": [
       "6.381"
      ]
     },
     "execution_count": 3,
     "metadata": {},
     "output_type": "execute_result"
    }
   ],
   "source": [
    "from math import sqrt # <-- importing the square root function from the math module.\n",
    "\n",
    "def pythagoras (a, b):\n",
    "    c2 = a** 2 + b ** 2\n",
    "    return sqrt(c2) # note, this line would be math.sqrt(c2) if we had written 'import math' instead of 'from math...' \n",
    "\n",
    "# Lets call it!\n",
    "round(pythagoras(10, 23), 3)"
   ]
  },
  {
   "cell_type": "markdown",
   "metadata": {},
   "source": [
    "So our pythagoras function takes the arguments 'a' and 'b'. The second line calculates 'c2' and once we have that we return the square root of 'c2'. \n",
    "\n",
    "Okay, lets look at a more complex bit of code, lets try to calcuate whether n is prime or not. "
   ]
  },
  {
   "cell_type": "code",
   "execution_count": 1,
   "metadata": {
    "collapsed": true
   },
   "outputs": [],
   "source": [
    "def is_prime(num):\n",
    "    \"\"\"Returns True if number is prime, False otherwise\"\"\"\n",
    "    if num <= 1: \n",
    "        return False    # numbers <= 1 are not prime\n",
    "    \n",
    "    # check for factors\n",
    "    for i in range(2,num): # for loop that iterates 2-to-num. Each number in the iteration is called \"i\"\n",
    "        if (num % i) == 0: # modular arithmetic; this asks if num is divisible by i (with no remainder).\n",
    "            return False\n",
    "    return True"
   ]
  },
  {
   "cell_type": "markdown",
   "metadata": {},
   "source": [
    "\n",
    "To give you a quick run down this code works out if a number, 'n', is prime by seeing if there is a 'q' that is a divisor of n. where: 2 < q < n. \n",
    "\n",
    "Lets walk through a example, is 10 prime?\n",
    "\n",
    "1. Our first check is to see if the number is greater than 1. In our case it is, but if it wasn’t we would return False and that would be all she wrote.\n",
    "2. Next up we ask if 2 is a divisor of 10. It is, so we return False, 10 is not prime.\n",
    "\n",
    "Okay lets try again, this time with 5 as input.\n",
    "\n",
    "1. Is 5 > 1? Continue...\n",
    "1. is 2 divisor of 5? No. We Continue... \n",
    "2. is 3 divisor of 5? No. We Continue...\n",
    "1. is 4 divisor of 5? No. We Continue...  \n",
    "1. End of the range function, we therefore return True, 5 is prime. \n",
    "\n",
    "## Namespaces and Scope\n",
    "\n",
    "The last thing I want to talk about today is something called variable scope, or namespaces. Basically, everything within a function is, in some sense, 'separate' from the rest of your code. let me show you. "
   ]
  },
  {
   "cell_type": "code",
   "execution_count": 1,
   "metadata": {},
   "outputs": [
    {
     "name": "stdout",
     "output_type": "stream",
     "text": [
      "10\n"
     ]
    }
   ],
   "source": [
    "a = 10\n",
    "def change_a():\n",
    "    a = 20\n",
    "\n",
    "change_a()\n",
    "print(a)"
   ]
  },
  {
   "cell_type": "markdown",
   "metadata": {},
   "source": [
    "We print A, and number we get is 10. Why isn't it 20? We called the 'change a' function and the function quite clearly assigned A to 20. what gives?\n",
    "\n",
    "Well, the answer is basically that 'A' is actually two separate objects, one is defined in the 'main program' whereas the other 'A' only exists within the context ('scope') of the function. \n",
    "\n",
    "I can prove that to you by calling \"id\" on both objects. the id function returns a unique number for an object. Its literally and id number."
   ]
  },
  {
   "cell_type": "code",
   "execution_count": 4,
   "metadata": {},
   "outputs": [
    {
     "name": "stdout",
     "output_type": "stream",
     "text": [
      "10914656\n",
      "10914976\n"
     ]
    }
   ],
   "source": [
    "a = 10\n",
    "print(id(a))\n",
    "\n",
    "def change_a():\n",
    "    a = 20\n",
    "    print(id(a))\n",
    "\n",
    "change_a()"
   ]
  },
  {
   "cell_type": "markdown",
   "metadata": {},
   "source": [
    "Basically, the \"A\" inside the function is separate from the \"A\" outside of it. Here's another example:  "
   ]
  },
  {
   "cell_type": "code",
   "execution_count": 7,
   "metadata": {},
   "outputs": [
    {
     "ename": "NameError",
     "evalue": "name 'x' is not defined",
     "output_type": "error",
     "traceback": [
      "\u001b[0;31m---------------------------------------------------------------------------\u001b[0m",
      "\u001b[0;31mNameError\u001b[0m                                 Traceback (most recent call last)",
      "\u001b[0;32m<ipython-input-7-b7879293296b>\u001b[0m in \u001b[0;36m<module>\u001b[0;34m()\u001b[0m\n\u001b[1;32m      3\u001b[0m     \u001b[0my\u001b[0m \u001b[0;34m=\u001b[0m \u001b[0;36m10\u001b[0m\u001b[0;34m\u001b[0m\u001b[0m\n\u001b[1;32m      4\u001b[0m \u001b[0;34m\u001b[0m\u001b[0m\n\u001b[0;32m----> 5\u001b[0;31m \u001b[0mprint\u001b[0m\u001b[0;34m(\u001b[0m\u001b[0mx\u001b[0m \u001b[0;34m+\u001b[0m \u001b[0my\u001b[0m\u001b[0;34m)\u001b[0m \u001b[0;31m# <--- note the error message; we get a NameError\u001b[0m\u001b[0;34m\u001b[0m\u001b[0m\n\u001b[0m",
      "\u001b[0;31mNameError\u001b[0m: name 'x' is not defined"
     ]
    }
   ],
   "source": [
    "def variables():\n",
    "    x = 10\n",
    "    y = 10\n",
    "\n",
    "print(x + y) # <--- note the error message; NameError"
   ]
  },
  {
   "cell_type": "markdown",
   "metadata": {},
   "source": [
    "So Python is telling us X is not defined and that’s not a bug, X and Y are defined within the scope of the function, but not defined within the main program (e.g the place where we are calling it). There are a few fixes; we could move the print statement into the function by indenting it. Or, we could 'save' the function variables for use in the main program. For example:"
   ]
  },
  {
   "cell_type": "code",
   "execution_count": 2,
   "metadata": {},
   "outputs": [
    {
     "name": "stdout",
     "output_type": "stream",
     "text": [
      "20\n",
      "20\n"
     ]
    }
   ],
   "source": [
    "def variables():\n",
    "    x = 10\n",
    "    y = 10\n",
    "    print(x + y)\n",
    "    return x, y\n",
    "\n",
    "a, b = variables()  # this line maps x,y to a,b . \n",
    "print(a + b)"
   ]
  },
  {
   "cell_type": "markdown",
   "metadata": {},
   "source": [
    "## Why does Python do this?\n",
    "\n",
    "The main advantage to variable scope and namespaces is that as your code becomes progressively larger you don't have to keep on coming up with new names for objects. It is easy to imagine how constantly coming up with new names would, after a while adversely affect readability and make coding a lot slower (because with so many names you are going to continually forget which one you need to use). \n",
    "\n",
    "The other advantage is that if functions cannot change the content of another function (without your express blessing) then the chance for ugly bugs and/or nasty side-effects to occur is reduced.  \n",
    "\n",
    "Finally, I'd like to point out that its not just functions that their own scope. In the code snippet below I have defined three list-comprehensions (not covered in this course) and printed them out. What I want you to focus on is how I used and reused the letter 'i' as a variable name several times, and that is okay because 'i' is defined in context ('scope') of each individual list comprehension. These means that all these 'i's' are completely separate from each other, and moreover, 'i' is not defined in the 'main program', which explains the NameError.  "
   ]
  },
  {
   "cell_type": "code",
   "execution_count": 15,
   "metadata": {},
   "outputs": [
    {
     "name": "stdout",
     "output_type": "stream",
     "text": [
      "[0, 1, 2, 3, 4, 5, 6, 7, 8, 9]\n",
      "[0, 1, 2, 3, 4, 5, 6, 7, 8, 9, 10, 11, 12, 13, 14, 15, 16, 17, 18, 19]\n",
      "['a', 'b', 'c', 'd', 'e']\n"
     ]
    },
    {
     "ename": "NameError",
     "evalue": "name 'i' is not defined",
     "output_type": "error",
     "traceback": [
      "\u001b[0;31m---------------------------------------------------------------------------\u001b[0m",
      "\u001b[0;31mNameError\u001b[0m                                 Traceback (most recent call last)",
      "\u001b[0;32m<ipython-input-15-da2acc4759a1>\u001b[0m in \u001b[0;36m<module>\u001b[0;34m()\u001b[0m\n\u001b[1;32m      5\u001b[0m \u001b[0mprint\u001b[0m\u001b[0;34m(\u001b[0m\u001b[0ma\u001b[0m\u001b[0;34m,\u001b[0m \u001b[0mb\u001b[0m\u001b[0;34m,\u001b[0m \u001b[0mc\u001b[0m\u001b[0;34m,\u001b[0m \u001b[0msep\u001b[0m\u001b[0;34m=\u001b[0m\u001b[0;34m\"\\n\"\u001b[0m\u001b[0;34m)\u001b[0m\u001b[0;34m\u001b[0m\u001b[0m\n\u001b[1;32m      6\u001b[0m \u001b[0;34m\u001b[0m\u001b[0m\n\u001b[0;32m----> 7\u001b[0;31m \u001b[0mprint\u001b[0m\u001b[0;34m(\u001b[0m\u001b[0mi\u001b[0m\u001b[0;34m)\u001b[0m\u001b[0;34m\u001b[0m\u001b[0m\n\u001b[0m",
      "\u001b[0;31mNameError\u001b[0m: name 'i' is not defined"
     ]
    }
   ],
   "source": [
    "a = [i for i in range(10)]\n",
    "b = [i for i in range(20)]\n",
    "c = [i for i in \"abcde\"]\n",
    "\n",
    "print(a, b, c, sep=\"\\n\")\n",
    "print(i)"
   ]
  },
  {
   "cell_type": "markdown",
   "metadata": {},
   "source": [
    "In short, self-contained blocks of code (e.g. functions) have their own 'namespace', and that means if a variable is defined inside that block then that variable is said to be defined *locally*.\n",
    "\n",
    "## Homework Assignment\n",
    "\n",
    "Your homework assignment this week is to write a function called 'average'. it takes a list as input and returns the arithmetic average. You should assume the list only contains numbers.\n",
    "\n",
    "It should have a docstring explaining what it does (hint: \"\"\"text\"\"\").\n",
    "\n",
    "Hints:\n",
    "* len(input) will give you the length of the list.\n",
    "* sum(input) will add everything up. \n",
    "* If the list is empty, return the string \"EMPTY LIST\"\n",
    "\n",
    "** FOR BONUS POINTS ** \n",
    "\n",
    "* You are ONLY allowed to use addition and for-loops (The use of LEN and SUM is not allowed!).\n",
    "\n",
    "The bonus problem is a bit tricky but I believe in you guys. Good luck!"
   ]
  },
  {
   "cell_type": "code",
   "execution_count": null,
   "metadata": {
    "collapsed": true
   },
   "outputs": [],
   "source": [
    "# YOUR CODE HERE!"
   ]
  }
 ],
 "metadata": {
  "kernelspec": {
   "display_name": "Python 3",
   "language": "python",
   "name": "python3"
  },
  "language_info": {
   "codemirror_mode": {
    "name": "ipython",
    "version": 3
   },
   "file_extension": ".py",
   "mimetype": "text/x-python",
   "name": "python",
   "nbconvert_exporter": "python",
   "pygments_lexer": "ipython3",
   "version": "3.7.4"
  }
 },
 "nbformat": 4,
 "nbformat_minor": 2
}
