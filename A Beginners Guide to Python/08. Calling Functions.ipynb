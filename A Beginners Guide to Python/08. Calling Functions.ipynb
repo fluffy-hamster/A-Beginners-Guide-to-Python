{
 "cells": [
  {
   "cell_type": "markdown",
   "metadata": {},
   "source": [
    "# How to Call Functions...\n",
    "\n",
    "\n",
    "### What are functions... \n",
    "\n",
    "Functions are an incredibly useful concept and I will cover them in greater detail later on, I promise. But for now let's just say functions are bits of *self-contained code* that take some input value(s), perform some process, and return some output. Today we shall be studying how to call functions, for what it's worth you guys have already called functions, you just didn't know that was what you are doing!\n",
    "\n",
    "For the sake of simplicity, we are going to split functions into four basic categories:\n",
    "1. Those that take zero arguments as input.\n",
    "2. Those that take one argument as input.\n",
    "3. Those that take multiple arguments as input.\n",
    "4. Those that take optional arguments.\n",
    "\n",
    "Before we begin though I really want to stress that these categories are ***not real***, its an arbitrary distinction that is not founded upon anything of substance.\n",
    "\n",
    "If that’s the case, why do it, then? I here you ask. Well, just because a distinction is not *real* doesn't mean it is not helpful. Basically, the reason I have made these categories is because I believe it makes the material easier to teach; a *pedagogical tool*, if you will.\n",
    "\n",
    "### 1. Zero argument functions....\n",
    "\n",
    "Calling zero argument functions are super simple, but they also tend to be rather uninteresting as well. The syntax:\n",
    "\n",
    "    {function name} ()\n",
    "    \n",
    "In box below I've quickly made such a function and then calling it. Boring stuff ensues."
   ]
  },
  {
   "cell_type": "code",
   "execution_count": 1,
   "metadata": {},
   "outputs": [
    {
     "data": {
      "text/plain": [
       "'ZZZZZZZZ...'"
      ]
     },
     "execution_count": 1,
     "metadata": {},
     "output_type": "execute_result"
    }
   ],
   "source": [
    "# Defining the function...\n",
    "def boring():\n",
    "    return \"ZZZZZZZZ...\"\n",
    "\n",
    "# calling said function...\n",
    "boring()"
   ]
  },
  {
   "cell_type": "markdown",
   "metadata": {},
   "source": [
    "### 2. One argument functions....\n",
    "\n",
    "The syntax:\n",
    "\n",
    "    {function name} ({argument})\n",
    "    \n",
    "\"len\" is a Python built-in function. Let's call it on a few strings and see if you can figure out what it does. "
   ]
  },
  {
   "cell_type": "code",
   "execution_count": 12,
   "metadata": {
    "scrolled": true
   },
   "outputs": [
    {
     "name": "stdout",
     "output_type": "stream",
     "text": [
      "1\n",
      "2\n",
      "3\n"
     ]
    }
   ],
   "source": [
    "print ( len(\"a\") )\n",
    "print ( len(\"aa\") )\n",
    "print ( len(\"aaa\") )"
   ]
  },
  {
   "cell_type": "markdown",
   "metadata": {},
   "source": [
    "'len' is short for length. When you call it returns how big the object is, in the case of strings, that’s how many characters the string contains. Thus len(“12345”) returns 5.\n",
    "\n",
    "### 3. Functions with Multiple Arguments\n",
    "\n",
    "Functions that take multiple  arguments can be further defined into those that require exactly n arguments and those functions that can handle an arbitrary number of arguments. We shall briefly cover both. The syntax:\n",
    "\n",
    "    {function name} ({argument}, {argument2}) \n",
    "\n",
    "So, to call a function that takes two arguements as imput all we do is type two arguments seperated by a comma. Let's see that in action: "
   ]
  },
  {
   "cell_type": "code",
   "execution_count": 7,
   "metadata": {},
   "outputs": [
    {
     "data": {
      "text/plain": [
       "250"
      ]
     },
     "execution_count": 7,
     "metadata": {},
     "output_type": "execute_result"
    }
   ],
   "source": [
    "# defining the function...\n",
    "def multiply(a, b):\n",
    "    return a * b # remember '*' is multiplication!\n",
    "\n",
    "multiply(10, 25) # <-- calling the function with two arguments, 10 and 25"
   ]
  },
  {
   "cell_type": "markdown",
   "metadata": {},
   "source": [
    "What happens when you give such a function too few/too many arguments? Well, you get an error:"
   ]
  },
  {
   "cell_type": "code",
   "execution_count": 3,
   "metadata": {},
   "outputs": [
    {
     "ename": "TypeError",
     "evalue": "multiply() takes 2 positional arguments but 3 were given",
     "output_type": "error",
     "traceback": [
      "\u001b[1;31m---------------------------------------------------------------------------\u001b[0m",
      "\u001b[1;31mTypeError\u001b[0m                                 Traceback (most recent call last)",
      "\u001b[1;32m<ipython-input-3-96c74c6fdf79>\u001b[0m in \u001b[0;36m<module>\u001b[1;34m()\u001b[0m\n\u001b[1;32m----> 1\u001b[1;33m \u001b[0mmultiply\u001b[0m\u001b[1;33m(\u001b[0m\u001b[1;36m2\u001b[0m\u001b[1;33m,\u001b[0m\u001b[1;36m3\u001b[0m\u001b[1;33m,\u001b[0m\u001b[1;36m4\u001b[0m\u001b[1;33m)\u001b[0m\u001b[1;33m\u001b[0m\u001b[0m\n\u001b[0m",
      "\u001b[1;31mTypeError\u001b[0m: multiply() takes 2 positional arguments but 3 were given"
     ]
    }
   ],
   "source": [
    "multiply(2,3,4)"
   ]
  },
  {
   "cell_type": "code",
   "execution_count": 4,
   "metadata": {},
   "outputs": [
    {
     "ename": "TypeError",
     "evalue": "multiply() missing 1 required positional argument: 'b'",
     "output_type": "error",
     "traceback": [
      "\u001b[1;31m---------------------------------------------------------------------------\u001b[0m",
      "\u001b[1;31mTypeError\u001b[0m                                 Traceback (most recent call last)",
      "\u001b[1;32m<ipython-input-4-63fb0b2a3792>\u001b[0m in \u001b[0;36m<module>\u001b[1;34m()\u001b[0m\n\u001b[1;32m----> 1\u001b[1;33m \u001b[0mmultiply\u001b[0m\u001b[1;33m(\u001b[0m\u001b[1;36m1\u001b[0m\u001b[1;33m)\u001b[0m\u001b[1;33m\u001b[0m\u001b[0m\n\u001b[0m",
      "\u001b[1;31mTypeError\u001b[0m: multiply() missing 1 required positional argument: 'b'"
     ]
    }
   ],
   "source": [
    "multiply(1)"
   ]
  },
  {
   "cell_type": "markdown",
   "metadata": {},
   "source": [
    "Take care to note that the error messages you get are actually rather insightful, Python is telling you what the problem is!\n",
    "\n",
    "#### Functions that take an aribitary number of arguments\n",
    "\n",
    "Now, the syntax for a function that takes an arbitrary number of arguments is the same as the above, you just separate the values by a comma and keep on going. As a matter of fact, we have seen such a function several times already. Its called 'print'... "
   ]
  },
  {
   "cell_type": "code",
   "execution_count": 6,
   "metadata": {},
   "outputs": [
    {
     "name": "stdout",
     "output_type": "stream",
     "text": [
      "hello\n",
      "hello world\n",
      "\n",
      "a b c d e f g\n"
     ]
    }
   ],
   "source": [
    "print(\"hello\")                            # calling print with one arguement\n",
    "print(\"hello\", \"world\")                   # two arguments\n",
    "print()                                   # calling print with zero arguments returns an empty line.\n",
    "print(\"a\", \"b\", \"c\", \"d\", \"e\", \"f\", \"g\")  # seven arguments"
   ]
  },
  {
   "cell_type": "markdown",
   "metadata": {},
   "source": [
    "### 4. Functions with optional arguments...\n",
    "\n",
    "If a particular function argument is optional is will have two parts, a 'keyword' and a 'default value'. The syntax:\n",
    "\n",
    "    {keyword} = {value}\n",
    "    \n",
    "The 'default value' is what happens when we *don't* change anything, and obviously that is the bit we may want to change. \n",
    "\n",
    "If you do give a function an optional argument make sure it is **the last** argument you pass the function; if you don't Python with throw and error. Anyway, here's the syntax:\n",
    "\n",
    "    {function name} ({argument}, {argument2}, {keyword} = {value} ) \n",
    "\n",
    "As a matter of fact, the print function we have been calling has an optional argument, this argument is called \"sep\" and its default value is a single 'space' character. \n",
    "\n",
    "Let's look at the print calls above a bit more closely, did you notice that when we gave print several arguments it separated everything with a space? Well, we can change that behaviour by changing 'sep'. \n",
    "\n",
    "For example..."
   ]
  },
  {
   "cell_type": "code",
   "execution_count": 14,
   "metadata": {},
   "outputs": [
    {
     "name": "stdout",
     "output_type": "stream",
     "text": [
      "a b c d e f g\n",
      "abcdefg\n",
      "a__b__c__d__e__f__g\n",
      "a,b,c,d,e,f,g\n",
      "a\n",
      "b\n",
      "c\n",
      "d\n",
      "e\n",
      "f\n",
      "g\n"
     ]
    }
   ],
   "source": [
    "print(\"a\", \"b\", \"c\", \"d\", \"e\", \"f\", \"g\")            # Notice 'sep' is not defined here. Thus the default value \" \" is used. \n",
    "print(\"a\", \"b\", \"c\", \"d\", \"e\", \"f\", \"g\", sep=\"\")    # no spaces 'abc'\n",
    "print(\"a\", \"b\", \"c\", \"d\", \"e\", \"f\", \"g\", sep=\"__\")  # double underscore, 'a__b__c' \n",
    "print(\"a\", \"b\", \"c\", \"d\", \"e\", \"f\", \"g\", sep=\",\")   # comma, 'a,b,c'\n",
    "print(\"a\", \"b\", \"c\", \"d\", \"e\", \"f\", \"g\", sep=\"\\n\")  # \\n = New-line, please see string lecture!"
   ]
  },
  {
   "cell_type": "code",
   "execution_count": 15,
   "metadata": {},
   "outputs": [
    {
     "ename": "SyntaxError",
     "evalue": "positional argument follows keyword argument (<ipython-input-15-6e9cd52157f2>, line 1)",
     "output_type": "error",
     "traceback": [
      "\u001b[0;36m  File \u001b[0;32m\"<ipython-input-15-6e9cd52157f2>\"\u001b[0;36m, line \u001b[0;32m1\u001b[0m\n\u001b[0;31m    print(sep=\"\", \"a\", \"b\", \"c\") # Keywords must be at the end!\u001b[0m\n\u001b[0m                 ^\u001b[0m\n\u001b[0;31mSyntaxError\u001b[0m\u001b[0;31m:\u001b[0m positional argument follows keyword argument\n"
     ]
    }
   ],
   "source": [
    "print(sep=\"\", \"a\", \"b\", \"c\") # Keywords must be at the end! "
   ]
  },
  {
   "cell_type": "markdown",
   "metadata": {},
   "source": [
    "In later lectures I'll show you how to build your own functions (and why you would want to), but the purpose of this lecture was to simply get you used to seeing *function calls*. Trust me when I say understanding this stuff is a really useful skill to have moving forward."
   ]
  },
  {
   "cell_type": "markdown",
   "metadata": {},
   "source": [
    "## Homework\n",
    "\n",
    "In the cell below there is a function called \"call me\". For homework I want you to call this function with several arguments such that it returns the string:\n",
    "\n",
    "    \"Dave and Jerry went to the cheese factory.\""
   ]
  },
  {
   "cell_type": "code",
   "execution_count": 9,
   "metadata": {},
   "outputs": [],
   "source": [
    "def call_me(a, f, d, b=\"\", c=\"cheese\", e=False):\n",
    "    if e == True:\n",
    "        return \"{} and {} went to the {}{} {}\".format(a, b, c, d, f)\n",
    "    else:\n",
    "        return \"YOU SHALL NOT PASS\"\n",
    "\n",
    "# Your Code goes here... call_me(?, ?, ?, ?, ?)"
   ]
  }
 ],
 "metadata": {
  "kernelspec": {
   "display_name": "Python 3",
   "language": "python",
   "name": "python3"
  },
  "language_info": {
   "codemirror_mode": {
    "name": "ipython",
    "version": 3
   },
   "file_extension": ".py",
   "mimetype": "text/x-python",
   "name": "python",
   "nbconvert_exporter": "python",
   "pygments_lexer": "ipython3",
   "version": "3.7.4"
  }
 },
 "nbformat": 4,
 "nbformat_minor": 2
}
